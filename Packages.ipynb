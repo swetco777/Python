{
 "cells": [
  {
   "attachments": {
    "pkg.png": {
     "image/png": "[encoded data removed]"
    }
   },
   "cell_type": "markdown",
   "metadata": {},
   "source": [
    "Python Packages\n",
    "Suppose you have developed a very large application that includes many modules. As the number of modules grows, it becomes difficult to keep track of them all if they are dumped into one location. This is particularly so if they have similar names or functionality. You might wish for a means of grouping and organizing them.\n",
    "\n",
    "Packages allow for a hierarchical structuring of the module namespace using dot notation. In the same way that modules help avoid collisions between global variable names, packages help avoid collisions between module names.\n",
    "\n",
    "Creating a package is quite straightforward, since it makes use of the operating system’s inherent hierarchical file structure. Consider the following arrangement:\n",
    "\n",
    "![pkg.png](attachment:pkg.png)\n",
    "\n",
    "Here, there is a directory named pkg that contains two modules, mod1.py and mod2.py. The contents of the modules are:"
   ]
  },
  {
   "cell_type": "code",
   "execution_count": 1,
   "metadata": {},
   "outputs": [
    {
     "name": "stdout",
     "output_type": "stream",
     "text": [
      "Inside Init Package\n",
      "('[mod1] foo() / A = ', ['quux', 'corge', 'grault'])\n"
     ]
    }
   ],
   "source": [
    "import pkg.mod2, pkg.mod3\n",
    "pkg.mod2.foo()\n",
    "\n",
    "x = pkg.mod3.Bar()\n"
   ]
  },
  {
   "cell_type": "code",
   "execution_count": 2,
   "metadata": {},
   "outputs": [],
   "source": [
    "import sys"
   ]
  },
  {
   "cell_type": "code",
   "execution_count": 3,
   "metadata": {},
   "outputs": [
    {
     "data": {
      "text/plain": [
       "['',\n",
       " 'C:\\\\Users\\\\rawat\\\\AppData\\\\Local\\\\Continuum\\\\anaconda2\\\\python27.zip',\n",
       " 'C:\\\\Users\\\\rawat\\\\AppData\\\\Local\\\\Continuum\\\\anaconda2\\\\DLLs',\n",
       " 'C:\\\\Users\\\\rawat\\\\AppData\\\\Local\\\\Continuum\\\\anaconda2\\\\lib',\n",
       " 'C:\\\\Users\\\\rawat\\\\AppData\\\\Local\\\\Continuum\\\\anaconda2\\\\lib\\\\plat-win',\n",
       " 'C:\\\\Users\\\\rawat\\\\AppData\\\\Local\\\\Continuum\\\\anaconda2\\\\lib\\\\lib-tk',\n",
       " 'C:\\\\Users\\\\rawat\\\\AppData\\\\Local\\\\Continuum\\\\anaconda2',\n",
       " 'C:\\\\Users\\\\rawat\\\\AppData\\\\Local\\\\Continuum\\\\anaconda2\\\\lib\\\\site-packages',\n",
       " 'C:\\\\Users\\\\rawat\\\\AppData\\\\Local\\\\Continuum\\\\anaconda2\\\\lib\\\\site-packages\\\\win32',\n",
       " 'C:\\\\Users\\\\rawat\\\\AppData\\\\Local\\\\Continuum\\\\anaconda2\\\\lib\\\\site-packages\\\\win32\\\\lib',\n",
       " 'C:\\\\Users\\\\rawat\\\\AppData\\\\Local\\\\Continuum\\\\anaconda2\\\\lib\\\\site-packages\\\\Pythonwin',\n",
       " 'C:\\\\Users\\\\rawat\\\\AppData\\\\Local\\\\Continuum\\\\anaconda2\\\\lib\\\\site-packages\\\\IPython\\\\extensions',\n",
       " 'C:\\\\Users\\\\rawat\\\\.ipython']"
      ]
     },
     "execution_count": 3,
     "metadata": {},
     "output_type": "execute_result"
    }
   ],
   "source": [
    "sys.path"
   ]
  },
  {
   "cell_type": "code",
   "execution_count": 4,
   "metadata": {},
   "outputs": [
    {
     "name": "stdout",
     "output_type": "stream",
     "text": [
      "('[mod1] foo() / A = ', ['quux', 'corge', 'grault'])\n"
     ]
    }
   ],
   "source": [
    "from pkg import mod2\n",
    "mod2.foo()"
   ]
  },
  {
   "cell_type": "code",
   "execution_count": 5,
   "metadata": {},
   "outputs": [
    {
     "data": {
      "text/plain": [
       "['',\n",
       " 'C:\\\\Users\\\\rawat\\\\AppData\\\\Local\\\\Continuum\\\\anaconda2\\\\python27.zip',\n",
       " 'C:\\\\Users\\\\rawat\\\\AppData\\\\Local\\\\Continuum\\\\anaconda2\\\\DLLs',\n",
       " 'C:\\\\Users\\\\rawat\\\\AppData\\\\Local\\\\Continuum\\\\anaconda2\\\\lib',\n",
       " 'C:\\\\Users\\\\rawat\\\\AppData\\\\Local\\\\Continuum\\\\anaconda2\\\\lib\\\\plat-win',\n",
       " 'C:\\\\Users\\\\rawat\\\\AppData\\\\Local\\\\Continuum\\\\anaconda2\\\\lib\\\\lib-tk',\n",
       " 'C:\\\\Users\\\\rawat\\\\AppData\\\\Local\\\\Continuum\\\\anaconda2',\n",
       " 'C:\\\\Users\\\\rawat\\\\AppData\\\\Local\\\\Continuum\\\\anaconda2\\\\lib\\\\site-packages',\n",
       " 'C:\\\\Users\\\\rawat\\\\AppData\\\\Local\\\\Continuum\\\\anaconda2\\\\lib\\\\site-packages\\\\win32',\n",
       " 'C:\\\\Users\\\\rawat\\\\AppData\\\\Local\\\\Continuum\\\\anaconda2\\\\lib\\\\site-packages\\\\win32\\\\lib',\n",
       " 'C:\\\\Users\\\\rawat\\\\AppData\\\\Local\\\\Continuum\\\\anaconda2\\\\lib\\\\site-packages\\\\Pythonwin',\n",
       " 'C:\\\\Users\\\\rawat\\\\AppData\\\\Local\\\\Continuum\\\\anaconda2\\\\lib\\\\site-packages\\\\IPython\\\\extensions',\n",
       " 'C:\\\\Users\\\\rawat\\\\.ipython',\n",
       " 'C:\\\\Users\\\\rawat\\\\Python-code-master']"
      ]
     },
     "execution_count": 5,
     "metadata": {},
     "output_type": "execute_result"
    }
   ],
   "source": [
    "sys.path.append(r'C:\\Users\\rawat\\Python-code-master')\n",
    "sys.path"
   ]
  },
  {
   "cell_type": "code",
   "execution_count": 6,
   "metadata": {},
   "outputs": [
    {
     "data": {
      "text/plain": [
       "<pkg.mod3.Bar instance at 0x0000000004939688>"
      ]
     },
     "execution_count": 6,
     "metadata": {},
     "output_type": "execute_result"
    }
   ],
   "source": [
    "#from <module_name> import <name> as <alt_name>\n",
    "from pkg.mod3 import Bar as Qux\n",
    "x = Qux()\n",
    "x"
   ]
  },
  {
   "cell_type": "code",
   "execution_count": 7,
   "metadata": {},
   "outputs": [
    {
     "name": "stdout",
     "output_type": "stream",
     "text": [
      "('[mod1] foo() / A = ', ['quux', 'corge', 'grault'])\n",
      "[mod2] bar()\n"
     ]
    }
   ],
   "source": [
    "from pkg import mod2\n",
    "mod2.foo()\n",
    "\n",
    "\n",
    "from pkg import mod3 as quux\n",
    "quux.bar()\n"
   ]
  },
  {
   "cell_type": "code",
   "execution_count": 8,
   "metadata": {},
   "outputs": [
    {
     "data": {
      "text/plain": [
       "<module 'pkg' from 'pkg\\__init__.pyc'>"
      ]
     },
     "execution_count": 8,
     "metadata": {},
     "output_type": "execute_result"
    }
   ],
   "source": [
    "##You can technically import the package as well:\n",
    "import pkg\n",
    "pkg"
   ]
  },
  {
   "cell_type": "code",
   "execution_count": 9,
   "metadata": {},
   "outputs": [
    {
     "data": {
      "text/plain": [
       "['quux', 'corge', 'grault']"
      ]
     },
     "execution_count": 9,
     "metadata": {},
     "output_type": "execute_result"
    }
   ],
   "source": [
    "import pkg\n",
    "pkg.A"
   ]
  },
  {
   "cell_type": "markdown",
   "metadata": {},
   "source": [
    "A module in the package can access the global by importing it in turn:\n",
    "Here A can be accessed inside mod 2 or mod 3 like shown below:\n"
   ]
  },
  {
   "cell_type": "code",
   "execution_count": 10,
   "metadata": {},
   "outputs": [
    {
     "name": "stdout",
     "output_type": "stream",
     "text": [
      "('[mod1] foo() / A = ', ['quux', 'corge', 'grault'])\n"
     ]
    }
   ],
   "source": [
    "from pkg import mod2\n",
    "mod2.foo()"
   ]
  },
  {
   "cell_type": "code",
   "execution_count": 11,
   "metadata": {},
   "outputs": [
    {
     "name": "stdout",
     "output_type": "stream",
     "text": [
      "('[mod1] foo() / A = ', ['quux', 'corge', 'grault'])\n",
      "[mod2] bar()\n"
     ]
    }
   ],
   "source": [
    "import pkg\n",
    "pkg.mod2.foo()\n",
    "pkg.mod3.bar()"
   ]
  },
  {
   "cell_type": "code",
   "execution_count": 12,
   "metadata": {},
   "outputs": [
    {
     "name": "stdout",
     "output_type": "stream",
     "text": [
      "[mod2] bar()\n"
     ]
    }
   ],
   "source": [
    "import pkg\n",
    "\n",
    "pkg.mod3.bar()"
   ]
  },
  {
   "cell_type": "markdown",
   "metadata": {},
   "source": [
    "Note: Much of the Python documentation states that an __init__.py file must be present in the package directory when creating a package. This was once true. It used to be that the very presence of __init__.py signified to Python that a package was being defined. The file could contain initialization code or even be empty, but it had to be present.\n",
    "\n",
    "Starting with Python 3.3, Implicit Namespace Packages were introduced. These allow for the creation of a package without any __init__.py file. Of course, it can still be present if package initialization is needed. But it is no longer require"
   ]
  },
  {
   "cell_type": "markdown",
   "metadata": {},
   "source": [
    "# Importing * From a Package\n",
    "For the purposes of the following discussion, the previously defined package is expanded to contain some additional modules:There are now four modules defined in the pkg directory."
   ]
  },
  {
   "cell_type": "code",
   "execution_count": 13,
   "metadata": {},
   "outputs": [
    {
     "data": {
      "text/plain": [
       "['In',\n",
       " 'Out',\n",
       " 'Qux',\n",
       " '_',\n",
       " '_3',\n",
       " '_5',\n",
       " '_6',\n",
       " '_8',\n",
       " '_9',\n",
       " '__',\n",
       " '___',\n",
       " '__builtin__',\n",
       " '__builtins__',\n",
       " '__doc__',\n",
       " '__name__',\n",
       " '__package__',\n",
       " '_dh',\n",
       " '_i',\n",
       " '_i1',\n",
       " '_i10',\n",
       " '_i11',\n",
       " '_i12',\n",
       " '_i13',\n",
       " '_i2',\n",
       " '_i3',\n",
       " '_i4',\n",
       " '_i5',\n",
       " '_i6',\n",
       " '_i7',\n",
       " '_i8',\n",
       " '_i9',\n",
       " '_ih',\n",
       " '_ii',\n",
       " '_iii',\n",
       " '_oh',\n",
       " '_sh',\n",
       " 'exit',\n",
       " 'get_ipython',\n",
       " 'mod2',\n",
       " 'pkg',\n",
       " 'quit',\n",
       " 'quux',\n",
       " 'sys',\n",
       " 'x']"
      ]
     },
     "execution_count": 13,
     "metadata": {},
     "output_type": "execute_result"
    }
   ],
   "source": [
    "dir()\n"
   ]
  },
  {
   "cell_type": "code",
   "execution_count": 14,
   "metadata": {},
   "outputs": [],
   "source": [
    "from pkg.mod4 import *"
   ]
  },
  {
   "cell_type": "code",
   "execution_count": 15,
   "metadata": {},
   "outputs": [
    {
     "data": {
      "text/plain": [
       "['Baz',\n",
       " 'In',\n",
       " 'Out',\n",
       " 'Qux',\n",
       " '_',\n",
       " '_13',\n",
       " '_3',\n",
       " '_5',\n",
       " '_6',\n",
       " '_8',\n",
       " '_9',\n",
       " '__',\n",
       " '___',\n",
       " '__builtin__',\n",
       " '__builtins__',\n",
       " '__doc__',\n",
       " '__name__',\n",
       " '__package__',\n",
       " '_dh',\n",
       " '_i',\n",
       " '_i1',\n",
       " '_i10',\n",
       " '_i11',\n",
       " '_i12',\n",
       " '_i13',\n",
       " '_i14',\n",
       " '_i15',\n",
       " '_i2',\n",
       " '_i3',\n",
       " '_i4',\n",
       " '_i5',\n",
       " '_i6',\n",
       " '_i7',\n",
       " '_i8',\n",
       " '_i9',\n",
       " '_ih',\n",
       " '_ii',\n",
       " '_iii',\n",
       " '_oh',\n",
       " '_sh',\n",
       " 'baz',\n",
       " 'exit',\n",
       " 'get_ipython',\n",
       " 'mod2',\n",
       " 'pkg',\n",
       " 'quit',\n",
       " 'quux',\n",
       " 'sys',\n",
       " 'x']"
      ]
     },
     "execution_count": 15,
     "metadata": {},
     "output_type": "execute_result"
    }
   ],
   "source": [
    "dir()"
   ]
  },
  {
   "cell_type": "code",
   "execution_count": 16,
   "metadata": {},
   "outputs": [
    {
     "name": "stdout",
     "output_type": "stream",
     "text": [
      "[mod3] baz()\n"
     ]
    }
   ],
   "source": [
    "baz()"
   ]
  },
  {
   "cell_type": "code",
   "execution_count": 17,
   "metadata": {},
   "outputs": [
    {
     "data": {
      "text/plain": [
       "<pkg.mod4.Baz instance at 0x0000000004947808>"
      ]
     },
     "execution_count": 17,
     "metadata": {},
     "output_type": "execute_result"
    }
   ],
   "source": [
    "Baz()"
   ]
  },
  {
   "cell_type": "code",
   "execution_count": 18,
   "metadata": {},
   "outputs": [
    {
     "data": {
      "text/plain": [
       "['Baz',\n",
       " 'In',\n",
       " 'Out',\n",
       " 'Qux',\n",
       " '_',\n",
       " '_13',\n",
       " '_15',\n",
       " '_17',\n",
       " '_3',\n",
       " '_5',\n",
       " '_6',\n",
       " '_8',\n",
       " '_9',\n",
       " '__',\n",
       " '___',\n",
       " '__builtin__',\n",
       " '__builtins__',\n",
       " '__doc__',\n",
       " '__name__',\n",
       " '__package__',\n",
       " '_dh',\n",
       " '_i',\n",
       " '_i1',\n",
       " '_i10',\n",
       " '_i11',\n",
       " '_i12',\n",
       " '_i13',\n",
       " '_i14',\n",
       " '_i15',\n",
       " '_i16',\n",
       " '_i17',\n",
       " '_i18',\n",
       " '_i2',\n",
       " '_i3',\n",
       " '_i4',\n",
       " '_i5',\n",
       " '_i6',\n",
       " '_i7',\n",
       " '_i8',\n",
       " '_i9',\n",
       " '_ih',\n",
       " '_ii',\n",
       " '_iii',\n",
       " '_oh',\n",
       " '_sh',\n",
       " 'baz',\n",
       " 'exit',\n",
       " 'get_ipython',\n",
       " 'mod2',\n",
       " 'pkg',\n",
       " 'quit',\n",
       " 'quux',\n",
       " 'sys',\n",
       " 'x']"
      ]
     },
     "execution_count": 18,
     "metadata": {},
     "output_type": "execute_result"
    }
   ],
   "source": [
    "dir()"
   ]
  },
  {
   "cell_type": "code",
   "execution_count": 19,
   "metadata": {},
   "outputs": [],
   "source": [
    "from pkg import *"
   ]
  },
  {
   "cell_type": "code",
   "execution_count": 20,
   "metadata": {},
   "outputs": [
    {
     "data": {
      "text/plain": [
       "['Baz',\n",
       " 'In',\n",
       " 'Out',\n",
       " 'Qux',\n",
       " '_',\n",
       " '_13',\n",
       " '_15',\n",
       " '_17',\n",
       " '_18',\n",
       " '_3',\n",
       " '_5',\n",
       " '_6',\n",
       " '_8',\n",
       " '_9',\n",
       " '__',\n",
       " '___',\n",
       " '__builtin__',\n",
       " '__builtins__',\n",
       " '__doc__',\n",
       " '__name__',\n",
       " '__package__',\n",
       " '_dh',\n",
       " '_i',\n",
       " '_i1',\n",
       " '_i10',\n",
       " '_i11',\n",
       " '_i12',\n",
       " '_i13',\n",
       " '_i14',\n",
       " '_i15',\n",
       " '_i16',\n",
       " '_i17',\n",
       " '_i18',\n",
       " '_i19',\n",
       " '_i2',\n",
       " '_i20',\n",
       " '_i3',\n",
       " '_i4',\n",
       " '_i5',\n",
       " '_i6',\n",
       " '_i7',\n",
       " '_i8',\n",
       " '_i9',\n",
       " '_ih',\n",
       " '_ii',\n",
       " '_iii',\n",
       " '_oh',\n",
       " '_sh',\n",
       " 'baz',\n",
       " 'exit',\n",
       " 'get_ipython',\n",
       " 'mod2',\n",
       " 'mod3',\n",
       " 'mod4',\n",
       " 'mod5',\n",
       " 'pkg',\n",
       " 'quit',\n",
       " 'quux',\n",
       " 'sys',\n",
       " 'x']"
      ]
     },
     "execution_count": 20,
     "metadata": {},
     "output_type": "execute_result"
    }
   ],
   "source": [
    "dir()"
   ]
  },
  {
   "cell_type": "markdown",
   "metadata": {},
   "source": [
    "Instead, Python follows this convention: if the __init__.py file in the package directory contains a list named __all__, it is taken to be a list of modules that should be imported when the statement from <package_name> import * is encountered."
   ]
  },
  {
   "cell_type": "code",
   "execution_count": 21,
   "metadata": {},
   "outputs": [],
   "source": [
    "from pkg import *"
   ]
  },
  {
   "cell_type": "code",
   "execution_count": 22,
   "metadata": {},
   "outputs": [
    {
     "data": {
      "text/plain": [
       "['Baz',\n",
       " 'In',\n",
       " 'Out',\n",
       " 'Qux',\n",
       " '_',\n",
       " '_13',\n",
       " '_15',\n",
       " '_17',\n",
       " '_18',\n",
       " '_20',\n",
       " '_3',\n",
       " '_5',\n",
       " '_6',\n",
       " '_8',\n",
       " '_9',\n",
       " '__',\n",
       " '___',\n",
       " '__builtin__',\n",
       " '__builtins__',\n",
       " '__doc__',\n",
       " '__name__',\n",
       " '__package__',\n",
       " '_dh',\n",
       " '_i',\n",
       " '_i1',\n",
       " '_i10',\n",
       " '_i11',\n",
       " '_i12',\n",
       " '_i13',\n",
       " '_i14',\n",
       " '_i15',\n",
       " '_i16',\n",
       " '_i17',\n",
       " '_i18',\n",
       " '_i19',\n",
       " '_i2',\n",
       " '_i20',\n",
       " '_i21',\n",
       " '_i22',\n",
       " '_i3',\n",
       " '_i4',\n",
       " '_i5',\n",
       " '_i6',\n",
       " '_i7',\n",
       " '_i8',\n",
       " '_i9',\n",
       " '_ih',\n",
       " '_ii',\n",
       " '_iii',\n",
       " '_oh',\n",
       " '_sh',\n",
       " 'baz',\n",
       " 'exit',\n",
       " 'get_ipython',\n",
       " 'mod2',\n",
       " 'mod3',\n",
       " 'mod4',\n",
       " 'mod5',\n",
       " 'pkg',\n",
       " 'quit',\n",
       " 'quux',\n",
       " 'sys',\n",
       " 'x']"
      ]
     },
     "execution_count": 22,
     "metadata": {},
     "output_type": "execute_result"
    }
   ],
   "source": [
    "dir()"
   ]
  },
  {
   "cell_type": "code",
   "execution_count": 23,
   "metadata": {},
   "outputs": [
    {
     "name": "stdout",
     "output_type": "stream",
     "text": [
      "[mod2] bar()\n"
     ]
    }
   ],
   "source": [
    "mod3.bar()"
   ]
  },
  {
   "cell_type": "code",
   "execution_count": 24,
   "metadata": {},
   "outputs": [
    {
     "data": {
      "text/plain": [
       "<class pkg.mod5.Qux at 0x00000000048785E8>"
      ]
     },
     "execution_count": 24,
     "metadata": {},
     "output_type": "execute_result"
    }
   ],
   "source": [
    "mod5.Qux"
   ]
  },
  {
   "cell_type": "markdown",
   "metadata": {},
   "source": [
    "By the way, __all__ can be defined in a module as well and serves the same purpose: to control what is imported with import *. For example, modify mod1.py as follows:"
   ]
  },
  {
   "cell_type": "code",
   "execution_count": 25,
   "metadata": {},
   "outputs": [],
   "source": [
    "from pkg.mod2 import *"
   ]
  },
  {
   "cell_type": "code",
   "execution_count": 26,
   "metadata": {},
   "outputs": [
    {
     "data": {
      "text/plain": [
       "['Baz',\n",
       " 'In',\n",
       " 'Out',\n",
       " 'Qux',\n",
       " '_',\n",
       " '_13',\n",
       " '_15',\n",
       " '_17',\n",
       " '_18',\n",
       " '_20',\n",
       " '_22',\n",
       " '_24',\n",
       " '_3',\n",
       " '_5',\n",
       " '_6',\n",
       " '_8',\n",
       " '_9',\n",
       " '__',\n",
       " '___',\n",
       " '__builtin__',\n",
       " '__builtins__',\n",
       " '__doc__',\n",
       " '__name__',\n",
       " '__package__',\n",
       " '_dh',\n",
       " '_i',\n",
       " '_i1',\n",
       " '_i10',\n",
       " '_i11',\n",
       " '_i12',\n",
       " '_i13',\n",
       " '_i14',\n",
       " '_i15',\n",
       " '_i16',\n",
       " '_i17',\n",
       " '_i18',\n",
       " '_i19',\n",
       " '_i2',\n",
       " '_i20',\n",
       " '_i21',\n",
       " '_i22',\n",
       " '_i23',\n",
       " '_i24',\n",
       " '_i25',\n",
       " '_i26',\n",
       " '_i3',\n",
       " '_i4',\n",
       " '_i5',\n",
       " '_i6',\n",
       " '_i7',\n",
       " '_i8',\n",
       " '_i9',\n",
       " '_ih',\n",
       " '_ii',\n",
       " '_iii',\n",
       " '_oh',\n",
       " '_sh',\n",
       " 'baz',\n",
       " 'exit',\n",
       " 'foo',\n",
       " 'get_ipython',\n",
       " 'mod2',\n",
       " 'mod3',\n",
       " 'mod4',\n",
       " 'mod5',\n",
       " 'pkg',\n",
       " 'quit',\n",
       " 'quux',\n",
       " 'sys',\n",
       " 'x']"
      ]
     },
     "execution_count": 26,
     "metadata": {},
     "output_type": "execute_result"
    }
   ],
   "source": [
    "dir()"
   ]
  },
  {
   "cell_type": "code",
   "execution_count": 27,
   "metadata": {},
   "outputs": [
    {
     "name": "stdout",
     "output_type": "stream",
     "text": [
      "('[mod1] foo() / A = ', ['quux', 'corge', 'grault'])\n"
     ]
    }
   ],
   "source": [
    "foo()"
   ]
  },
  {
   "cell_type": "code",
   "execution_count": 28,
   "metadata": {},
   "outputs": [
    {
     "ename": "NameError",
     "evalue": "name 'Foo' is not defined",
     "output_type": "error",
     "traceback": [
      "\u001b[1;31m\u001b[0m",
      "\u001b[1;31mNameError\u001b[0mTraceback (most recent call last)",
      "\u001b[1;32m<ipython-input-28-fdea65d60c59>\u001b[0m in \u001b[0;36m<module>\u001b[1;34m()\u001b[0m\n\u001b[1;32m----> 1\u001b[1;33m \u001b[0mFoo\u001b[0m\u001b[1;33m(\u001b[0m\u001b[1;33m)\u001b[0m\u001b[1;33m\u001b[0m\u001b[0m\n\u001b[0m",
      "\u001b[1;31mNameError\u001b[0m: name 'Foo' is not defined"
     ]
    }
   ],
   "source": [
    "Foo()"
   ]
  },
  {
   "cell_type": "markdown",
   "metadata": {},
   "source": [
    "foo() (the function) is now defined in the local namespace, but Foo (the class) is not, because the latter is not in __all__.\n",
    "\n",
    "In summary, __all__ is used by both packages and modules to control what is imported when import * is specified. But the default behavior differs:\n",
    "\n",
    "For a package, when __all__ is not defined, import * does not import anything.\n",
    "For a module, when __all__ is not defined, import * imports everything (except—you guessed it—names starting with an underscore)."
   ]
  }
 ],
 "metadata": {
  "kernelspec": {
   "display_name": "Python 2",
   "language": "python",
   "name": "python2"
  },
  "language_info": {
   "codemirror_mode": {
    "name": "ipython",
    "version": 2
   },
   "file_extension": ".py",
   "mimetype": "text/x-python",
   "name": "python",
   "nbconvert_exporter": "python",
   "pygments_lexer": "ipython2",
   "version": "2.7.16"
  }
 },
 "nbformat": 4,
 "nbformat_minor": 2
}
