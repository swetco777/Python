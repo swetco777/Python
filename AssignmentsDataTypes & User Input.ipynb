{
 "cells": [
  {
   "cell_type": "markdown",
   "metadata": {},
   "source": [
    "TASK 1. Convert a list which contains the numbers 1, 1, 2, 3 and 3, and convert it to a tuple a."
   ]
  },
  {
   "cell_type": "code",
   "execution_count": 1,
   "metadata": {},
   "outputs": [
    {
     "name": "stdout",
     "output_type": "stream",
     "text": [
      "TASK 1. Convert a list which contains the numbers 1, 1, 2, 3 and 3, and convert it to a tuple a.\n",
      "(1, 1, 2, 3, 3)\n"
     ]
    }
   ],
   "source": [
    "lst = [1, 1, 2, 3, 3]\n",
    "print(\"TASK 1. Convert a list which contains the numbers 1, 1, 2, 3 and 3, and convert it to a tuple a.\")\n",
    "a = tuple(lst)\n",
    "print(a)\n"
   ]
  },
  {
   "cell_type": "markdown",
   "metadata": {},
   "source": [
    "TASK 2. Convert a to a list b. Print its length"
   ]
  },
  {
   "cell_type": "code",
   "execution_count": 2,
   "metadata": {},
   "outputs": [
    {
     "name": "stdout",
     "output_type": "stream",
     "text": [
      "\n",
      "TASK 2. Convert a to a list b. Print its length.\n",
      "5\n"
     ]
    }
   ],
   "source": [
    "print(\"\\nTASK 2. Convert a to a list b. Print its length.\")\n",
    "b = list(a)\n",
    "print(len(b))"
   ]
  },
  {
   "cell_type": "markdown",
   "metadata": {},
   "source": [
    "Convert b to a set c. Print its length"
   ]
  },
  {
   "cell_type": "code",
   "execution_count": 3,
   "metadata": {},
   "outputs": [
    {
     "name": "stdout",
     "output_type": "stream",
     "text": [
      "\n",
      "TASK 3. Convert b to a set c. Print its length.\n",
      "3\n"
     ]
    }
   ],
   "source": [
    "print(\"\\nTASK 3. Convert b to a set c. Print its length.\")\n",
    "c = set(b)\n",
    "print(len(c))"
   ]
  },
  {
   "cell_type": "markdown",
   "metadata": {},
   "source": [
    "Convert c to a list d. Print its length."
   ]
  },
  {
   "cell_type": "code",
   "execution_count": 4,
   "metadata": {},
   "outputs": [
    {
     "name": "stdout",
     "output_type": "stream",
     "text": [
      "\n",
      "TASK 4. Convert c to a list d. Print its length.\n",
      "3\n"
     ]
    }
   ],
   "source": [
    "print(\"\\nTASK 4. Convert c to a list d. Print its length.\")\n",
    "d = list(c)\n",
    "print(len(d))"
   ]
  },
  {
   "cell_type": "markdown",
   "metadata": {},
   "source": [
    "Create a range which starts at 1 and ends at 10. Convert it to a list e."
   ]
  },
  {
   "cell_type": "code",
   "execution_count": 5,
   "metadata": {},
   "outputs": [
    {
     "name": "stdout",
     "output_type": "stream",
     "text": [
      "\n",
      "TASK 5. Create a range which starts at 1 and ends at 10. Convert it to a list e.\n",
      "[1, 2, 3, 4, 5, 6, 7, 8, 9]\n"
     ]
    }
   ],
   "source": [
    "print(\"\\nTASK 5. Create a range which starts at 1 and ends at 10. Convert it to a list e.\")\n",
    "e = list(range(1, 10))\n",
    "print(e)\n"
   ]
  },
  {
   "cell_type": "markdown",
   "metadata": {},
   "source": [
    "Create the directory dict from the previous example. Create a list t which contains all the key-value pairs from the dictionary as tuples."
   ]
  },
  {
   "cell_type": "code",
   "execution_count": 6,
   "metadata": {},
   "outputs": [
    {
     "name": "stdout",
     "output_type": "stream",
     "text": [
      "\n",
      "TASK 6. Create the directory dict from the previous example. Create a list t which contains all the key-value pairs from the dictionary as tuples.\n"
     ]
    }
   ],
   "source": [
    "print(\"\\nTASK 6. Create the directory dict from the previous example. Create a list t which contains all the key-value pairs from the dictionary as tuples.\")\n",
    "dictionary = {\n",
    "  1: 2,\n",
    "  3: 4,\n",
    "  5: 6,\n",
    "  7: 8,\n",
    "  9: 0,\n",
    "}"
   ]
  },
  {
   "cell_type": "code",
   "execution_count": 7,
   "metadata": {},
   "outputs": [
    {
     "name": "stdout",
     "output_type": "stream",
     "text": [
      "dict_items([(1, 2), (3, 4), (5, 6), (7, 8), (9, 0)])\n"
     ]
    }
   ],
   "source": [
    "t = dictionary.items()\n",
    "print(t)\n"
   ]
  },
  {
   "cell_type": "markdown",
   "metadata": {},
   "source": [
    "Create a list v of all the values in the dictionary."
   ]
  },
  {
   "cell_type": "code",
   "execution_count": 8,
   "metadata": {},
   "outputs": [
    {
     "name": "stdout",
     "output_type": "stream",
     "text": [
      "\n",
      "TASK 7. Create a list v of all the values in the dictionary.\n",
      "dict_values([2, 4, 6, 8, 0])\n"
     ]
    }
   ],
   "source": [
    "print(\"\\nTASK 7. Create a list v of all the values in the dictionary.\")\n",
    "v = dictionary.values()\n",
    "print(v)"
   ]
  },
  {
   "cell_type": "markdown",
   "metadata": {},
   "source": [
    "Create a list k of all the keys in he dictionary."
   ]
  },
  {
   "cell_type": "code",
   "execution_count": 9,
   "metadata": {},
   "outputs": [
    {
     "name": "stdout",
     "output_type": "stream",
     "text": [
      "\n",
      "TASK 8. Create a list k of all the keys in he dictionary.\n",
      "dict_keys([1, 3, 5, 7, 9])\n"
     ]
    }
   ],
   "source": [
    "print(\"\\nTASK 8. Create a list k of all the keys in he dictionary.\")\n",
    "k = dictionary.keys()\n",
    "print(k)"
   ]
  },
  {
   "cell_type": "markdown",
   "metadata": {},
   "source": [
    "Create a string s which contains the word 'antidisestablishmentarianism'. Use the sorted function on it. What is the output type? Concatenate the letters in the output to a string s2."
   ]
  },
  {
   "cell_type": "code",
   "execution_count": 10,
   "metadata": {},
   "outputs": [
    {
     "name": "stdout",
     "output_type": "stream",
     "text": [
      "\n",
      "TASK 9. Create a string s which contains the word 'antidisestablishmentarianism'. Use the sorted function on it. What is the output type? Concatenate the letters in the output to a string s2.\n",
      "['a', 'a', 'a', 'a', 'b', 'd', 'e', 'e', 'h', 'i', 'i', 'i', 'i', 'i', 'l', 'm', 'm', 'n', 'n', 'n', 'r', 's', 's', 's', 's', 't', 't', 't']\n"
     ]
    }
   ],
   "source": [
    "print(\"\\nTASK 9. Create a string s which contains the word 'antidisestablishmentarianism'. Use the sorted function on it. What is the output type? Concatenate the letters in the output to a string s2.\")\n",
    "s = \"antidisestablishmentarianism\"\n",
    "print(sorted(s))"
   ]
  },
  {
   "cell_type": "code",
   "execution_count": 11,
   "metadata": {},
   "outputs": [
    {
     "name": "stdout",
     "output_type": "stream",
     "text": [
      "antidisestablishmentarianism\n"
     ]
    }
   ],
   "source": [
    "s2 = \"\".join(s)\n",
    "print(s2)\n"
   ]
  },
  {
   "cell_type": "markdown",
   "metadata": {},
   "source": [
    "Split the string 'the quick brown fox jumped over the lazy dog' into a list w of individual words."
   ]
  },
  {
   "cell_type": "code",
   "execution_count": 12,
   "metadata": {},
   "outputs": [
    {
     "name": "stdout",
     "output_type": "stream",
     "text": [
      "\n",
      "TASK 10. Split the string 'the quick brown fox jumped over the lazy dog' into a list w of individual words.\n",
      "['the', 'quick', 'brown', 'fox', 'jumped', 'over', 'the', 'lazy', 'dog']\n"
     ]
    }
   ],
   "source": [
    "print(\"\\nTASK 10. Split the string 'the quick brown fox jumped over the lazy dog' into a list w of individual words.\")\n",
    "str1 = \"the quick brown fox jumped over the lazy dog\"\n",
    "w = str1.split()\n",
    "print(w)\n"
   ]
  },
  {
   "cell_type": "code",
   "execution_count": null,
   "metadata": {},
   "outputs": [],
   "source": []
  }
 ],
 "metadata": {
  "kernelspec": {
   "display_name": "Python 3",
   "language": "python",
   "name": "python3"
  },
  "language_info": {
   "codemirror_mode": {
    "name": "ipython",
    "version": 3
   },
   "file_extension": ".py",
   "mimetype": "text/x-python",
   "name": "python",
   "nbconvert_exporter": "python",
   "pygments_lexer": "ipython3",
   "version": "3.7.3"
  }
 },
 "nbformat": 4,
 "nbformat_minor": 2
}
