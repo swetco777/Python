{
 "cells": [
  {
   "cell_type": "markdown",
   "metadata": {},
   "source": [
    "Windows in Tkinter are instances of Tkinter’s Tk class. \n",
    "create a new window and assign it to the variable window:"
   ]
  },
  {
   "cell_type": "code",
   "execution_count": 3,
   "metadata": {},
   "outputs": [],
   "source": [
    "import tkinter as tk\n",
    "window = tk.Tk()\n"
   ]
  },
  {
   "cell_type": "markdown",
   "metadata": {},
   "source": [
    "Now that you have a window, the next step is to add a widget. You\n",
    "can create a simple text label using the tk.Label class, which can be\n",
    "initialized with a string for the label’s text. Create a Label widget with\n",
    "the text “Hello, Tkinter” and assign it to a variable called greeting:\n",
    "\n",
    "\n",
    "Additinal Info:\n",
    "easiest widgets of Tk (Tkinter), i.e. a label. A Label is a Tkinter Widget class, which is used to display text or an image. The label is a widget that the user just views but not interact with."
   ]
  },
  {
   "cell_type": "code",
   "execution_count": 21,
   "metadata": {},
   "outputs": [],
   "source": [
    "import tkinter as tk\n",
    "window = tk.Tk()\n",
    "greeting = tk.Label(text=\"Hello, Tkinter\")\n",
    "greeting.pack()\n",
    "#ways to add widgets to windows. The pack method tells Tk to fit the size of the window to the given text.\n",
    "# Show the window\n",
    "window.mainloop()\n",
    "#you must call the .mainloop()method on your window (the instance of the Tk class) to show the window. "
   ]
  },
  {
   "cell_type": "code",
   "execution_count": 7,
   "metadata": {},
   "outputs": [],
   "source": [
    "#Button\n",
    "import tkinter as tk\n",
    "window = tk.Tk()\n",
    "button = tk.Button()\n",
    "button[\"text\"] = \"Click me!\"\n",
    "button[\"width\"] = 25\n",
    "button[\"height\"] = 5\n",
    "button[\"background\"] = \"blue\"\n",
    "button[\"foreground\"] = \"yellow\"\n",
    "button.pack()\n",
    "window.mainloop()"
   ]
  },
  {
   "cell_type": "code",
   "execution_count": 8,
   "metadata": {},
   "outputs": [],
   "source": [
    "import tkinter as tk\n",
    "window = tk.Tk()\n",
    "button = tk.Button(\n",
    "text=\"Click me!\",\n",
    "width=25,\n",
    "height=5,\n",
    "background=\"blue\",\n",
    "foreground=\"yellow\",\n",
    ")\n",
    "button.pack()\n",
    "window.mainloop()"
   ]
  },
  {
   "cell_type": "markdown",
   "metadata": {},
   "source": [
    "Entry Widgets\n",
    "The Entry widget looks a lot like an HTML <input> element and is used\n",
    "for accepting input from the user’s keyboard. Although Entry widgets\n",
    "display text, they do not have text attribute like Label and Button widgets.\n",
    "You can insert text in an Entry widget with.insert() method, which\n",
    "inserts some text into the widget at a specified position"
   ]
  },
  {
   "cell_type": "code",
   "execution_count": null,
   "metadata": {},
   "outputs": [],
   "source": [
    "#entry = tk.Entry()\n",
    "#entry.insert(0, \"Hello!\")"
   ]
  },
  {
   "cell_type": "markdown",
   "metadata": {},
   "source": [
    "Assign Widgets to Frames:\n",
    "Up until now, you have been assigning widgets to the main application\n",
    "window. This works well for only the simplest GUI applications. For more complicated applications, you can use the Frame widget to group\n",
    "and organize related widgets in your application.\n",
    "You create a frame just like you would any other widget. The following script creates a blank Frame and assigns it to the main application\n",
    "window"
   ]
  },
  {
   "cell_type": "code",
   "execution_count": 22,
   "metadata": {},
   "outputs": [],
   "source": [
    "import tkinter as tk\n",
    "window = tk.Tk()\n",
    "frame = tk.Frame()\n",
    "frame.pack()\n",
    "window.mainloop()"
   ]
  },
  {
   "cell_type": "markdown",
   "metadata": {},
   "source": [
    "An empty Frame widget is practically invisible. They are best thought\n",
    "of as containers for other widgets. You can assign a widget to a frame\n",
    "by setting the widget’s master attribute:"
   ]
  },
  {
   "cell_type": "code",
   "execution_count": 14,
   "metadata": {},
   "outputs": [],
   "source": [
    "frame = tk.Frame()\n",
    "label = tk.Label(master=frame)"
   ]
  },
  {
   "cell_type": "markdown",
   "metadata": {},
   "source": [
    "To get a feel for how this works, let’s write a script that creates two\n",
    "Frame widgets called frame_a and frame_b. frame_a will contain a label with the text \"I'm in Frame A\", and frame_b will have the label \"I'm in\n",
    "Frame B\". Here’s one way to do that"
   ]
  },
  {
   "cell_type": "code",
   "execution_count": 23,
   "metadata": {},
   "outputs": [],
   "source": [
    "import tkinter as tk\n",
    "window = tk.Tk()\n",
    "frame_a = tk.Frame()\n",
    "label_a = tk.Label(master=frame_a, text=\"I'm in Frame A\")\n",
    "label_a.pack(side=\"top\")\n",
    "frame_b = tk.Frame()\n",
    "label_b = tk.Label(master=frame_b, text=\"I'm in Frame B\")\n",
    "label_b.pack()\n",
    "frame_a.pack()\n",
    "frame_b.pack()\n",
    "window.mainloop()"
   ]
  },
  {
   "cell_type": "code",
   "execution_count": 17,
   "metadata": {},
   "outputs": [],
   "source": [
    "import tkinter as tk\n",
    "window = tk.Tk()\n",
    "frame_a = tk.Frame()\n",
    "label_a = tk.Label(master=frame_a, text=\"I'm in Frame A\")\n",
    "label_a.pack(side=\"top\")\n",
    "frame_b = tk.Frame()\n",
    "label_b = tk.Label(master=frame_b, text=\"I'm in Frame B\")\n",
    "label_b.pack()\n",
    "# Order of `frame_a` and `frame_b` is swapped\n",
    "frame_b.pack()\n",
    "frame_a.pack()\n",
    "window.mainloop()"
   ]
  },
  {
   "cell_type": "markdown",
   "metadata": {},
   "source": [
    "Adjust Frame Appearance With Reliefs\n",
    "Frame widgets can be configured with a relief attribute that creates a\n",
    "border around the frame. You can set relief to be any of the following\n",
    "values:\n",
    "• tk.FLAT, no border effect (this is the default value).\n",
    "• tk.SUNKEN, which creates a sunken effect.\n",
    "• tk.RAISED, which creates a raised effect.\n",
    "• tk.GROOVE, which creates a grooved border effect.\n",
    "• tk.RIDGE, which creates a ridged effect"
   ]
  },
  {
   "cell_type": "markdown",
   "metadata": {},
   "source": [
    "To apply the border effect, you must set the borderwidth attribute to a\n",
    "value greater than 1. This attribute adjusts the width of the border, in\n",
    "pixels.\n",
    "The best way to get a feel for what each effect looks like is to see them\n",
    "for yourself. Here is a simple script that packs five Frame widgets into\n",
    "a window, each with a different value for the relief argument"
   ]
  },
  {
   "cell_type": "code",
   "execution_count": 18,
   "metadata": {},
   "outputs": [],
   "source": [
    "import tkinter as tk\n",
    "# 1\n",
    "border_effects = {\n",
    "\"flat\": tk.FLAT,\n",
    "\"sunken\": tk.SUNKEN,\n",
    "\"raised\": tk.RAISED,\n",
    "\"groove\": tk.GROOVE,\n",
    "\"ridge\": tk.RIDGE,\n",
    "}\n",
    "window = tk.Tk()\n",
    "for relief_name in border_effects:\n",
    "    \n",
    "# 2\n",
    "    frame = tk.Frame(master=window)\n",
    "    frame[\"relief\"] = border_effects[relief_name]\n",
    "    frame[\"borderwidth\"] = 5\n",
    "    frame.pack(side=tk.LEFT)\n",
    "# 3\n",
    "    label = tk.Label(master=frame)\n",
    "    label[\"text\"] = relief_name\n",
    "    label[\"font\"] = (\"Helvetica\", \"12\")\n",
    "    label.pack()\n",
    "window.mainloop()"
   ]
  },
  {
   "cell_type": "markdown",
   "metadata": {},
   "source": [
    "Let’s break that script down some.\n",
    "1. First, a dictionary is created whose keys are the names of the different relief effects available in Tkinter, and whose values are the\n",
    "corresponding Tkinter objects. This dictionary is assigned to the\n",
    "border_effects variable.\n",
    "2. After creating the window, object, a for loop is used to loop over\n",
    "each relief name in the border_effects dictionary. At each step in\n",
    "the loop, a new Frame widget is created and assigned to the window\n",
    "object. The relief attribute is set to the corresponding relief in the\n",
    "border_effects dictionary, and the border attribute is set so that the\n",
    "effect is visible. The frame is then packed into the window using\n",
    "the .pack() method. The side keyword argument you see is telling\n",
    "Tkinter which direction to pack the frame objects. You’ll see more\n",
    "on how this works in the next section.\n",
    "3. Finally, a Label widget is created to display the name of the relief\n",
    "and is packed into the frame object just created."
   ]
  },
  {
   "cell_type": "markdown",
   "metadata": {},
   "source": [
    "Assignment:\n",
    "    1. Try to re-create all of the screenshots in this section without looking at the source code. If you get stuck, check the code and finish\n",
    "your re-creation. Then wait for 10–15 minutes and try again. Repeat this until you can produce all of the screenshots on your own"
   ]
  },
  {
   "cell_type": "markdown",
   "metadata": {},
   "source": [
    "Control Layout With Geometry Managers\n",
    "The .pack() method is an example of a geometry manager, which is\n",
    "a fancy way of saying that .pack() manages the layout of your windows\n",
    "and frames. This isn’t the only way to manage the layout, however.\n",
    "There are two other geometry managers available in Tkinter: .grid()\n",
    "and .place().\n",
    "Each frame and window in your application can use only one geometry manager. However, different frames can use different geometry"
   ]
  },
  {
   "cell_type": "markdown",
   "metadata": {},
   "source": [
    "The .pack() geometry manager is simple, but it is actually quite difficult to describe precisely what it does. You can think of it as trying to\n",
    "organize widgets the most efficiently in the given amount of space.\n",
    "The best way to get a feel for .pack() is to look at an example. Let’s see\n",
    "what happens when you .pack() three Label widgets into a frame"
   ]
  },
  {
   "cell_type": "code",
   "execution_count": 24,
   "metadata": {},
   "outputs": [],
   "source": [
    "import tkinter as tk\n",
    "window = tk.Tk()\n",
    "frame1 = tk.Frame(master=window, width=100, height=100)\n",
    "frame1[\"background\"] = \"red\"\n",
    "frame1.pack()\n",
    "frame2 = tk.Frame(master=window, width=50, height=50)\n",
    "frame2[\"background\"] = \"yellow\"\n",
    "frame2.pack()\n",
    "frame3 = tk.Frame(master=window, width=25, height=25)\n",
    "frame3[\"background\"] = \"blue\"\n",
    "frame3.pack()\n",
    "window.mainloop()"
   ]
  },
  {
   "cell_type": "markdown",
   "metadata": {},
   "source": [
    "The .pack() geometry manager by default places each frame below the\n",
    "previous one, in the order that they are assigned to the window"
   ]
  },
  {
   "cell_type": "markdown",
   "metadata": {},
   "source": [
    "For example, suppose you want to stack three frames vertically, as you\n",
    "did in the previous example, but want to make sure each frame fills the\n",
    "entire width of the window. You can set the fill keyword argument\n",
    "to specify which direction the frames should fill. The options are tk.X\n",
    "to fill in the horizontal direction, tk.Y to fill horizontally, and tk.BOTH\n",
    "to fill in both directions."
   ]
  },
  {
   "cell_type": "code",
   "execution_count": 25,
   "metadata": {},
   "outputs": [],
   "source": [
    "import tkinter as tk\n",
    "window = tk.Tk()\n",
    "frame1 = tk.Frame(master=window, height=100)\n",
    "frame1[\"background\"] = \"red\"\n",
    "frame1.pack(fill=tk.X)\n",
    "frame2 = tk.Frame(master=window, height=50)\n",
    "frame2[\"background\"] = \"yellow\"\n",
    "frame2.pack(fill=tk.X)\n",
    "frame3 = tk.Frame(master=window, height=25)\n",
    "frame3[\"background\"] = \"blue\"\n",
    "frame3.pack(fill=tk.X)\n",
    "window.mainloop()"
   ]
  },
  {
   "cell_type": "markdown",
   "metadata": {},
   "source": [
    "If you need to put a bunch of frames side by side, you can use the side\n",
    "keyword argument of .pack() to specify the direction. The available\n",
    "options are tk.TOP, tk.BOTTOM, tk.LEFT and tk.RIGHT. For example, the\n",
    "following script places three frames side by side from left to right and\n",
    "expands each frame to fill the window vertically"
   ]
  },
  {
   "cell_type": "code",
   "execution_count": 27,
   "metadata": {},
   "outputs": [],
   "source": [
    "import tkinter as tk\n",
    "window = tk.Tk()\n",
    "frame1 = tk.Frame(master=window, width=200, height=100)\n",
    "frame1[\"background\"] = \"red\"\n",
    "frame1.pack(side=tk.LEFT)\n",
    "frame2 = tk.Frame(master=window, width=100)\n",
    "frame2[\"background\"] = \"yellow\"\n",
    "frame2.pack(fill=tk.Y, side=tk.LEFT)\n",
    "frame3 = tk.Frame(master=window, width=50)\n",
    "frame3[\"background\"] = \"blue\"\n",
    "frame3.pack(fill=tk.Y, side=tk.LEFT)\n",
    "window.mainloop()"
   ]
  },
  {
   "cell_type": "markdown",
   "metadata": {},
   "source": [
    "This time, you have the specify the height keyword argument on at\n",
    "least one of the frames to force the window to have some height. In\n",
    "the above example, frame1 is given a width and height of 200 pixels.\n",
    "Setting fill=tk.Y for the other frames forces them to fill the window\n",
    "in the vertical direction, and setting side=tk.LEFT arranges each frame\n",
    "horizontally"
   ]
  },
  {
   "cell_type": "markdown",
   "metadata": {},
   "source": [
    "To make the layout truly response, you can set an initial size for your\n",
    "frames using the width and height attributes. Then set the fill keyword\n",
    "argument of the .pack() method to tk.BOTH and set the expand keyword\n",
    "argument to True"
   ]
  },
  {
   "cell_type": "code",
   "execution_count": 28,
   "metadata": {},
   "outputs": [],
   "source": [
    "import tkinter as tk\n",
    "window = tk.Tk()\n",
    "frame1 = tk.Frame(master=window, width=200, height=100)\n",
    "frame1[\"background\"] = \"red\"\n",
    "frame1.pack(fill=tk.BOTH, side=tk.LEFT, expand=True)\n",
    "frame2 = tk.Frame(master=window, width=100)\n",
    "frame2[\"background\"] = \"yellow\"\n",
    "frame2.pack(fill=tk.BOTH, side=tk.LEFT, expand=True)\n",
    "frame3 = tk.Frame(master=window, width=50)\n",
    "frame3[\"background\"] = \"blue\"\n",
    "frame3.pack(fill=tk.BOTH, side=tk.LEFT, expand=True)\n",
    "window.mainloop()"
   ]
  },
  {
   "cell_type": "markdown",
   "metadata": {},
   "source": [
    "The .place() Geometry Manager\n",
    "You can use the .place() method of a widget to control the precise\n",
    "location that it should occupy in a frame or window. You must provide\n",
    "two keyword arguments, x and y that specify the x- and y-coordinates\n",
    "for the top-left corner of the widget.\n",
    "Keep in mind that the “origin” is the top left corner of the frame or\n",
    "window, so you can think of the y argument of .place() as the number of pixels from the top of the window, and the x argument as the\n",
    "number of pixels from the left of the window.\n",
    "Here’s an example of how to .place() geometry manager works"
   ]
  },
  {
   "cell_type": "code",
   "execution_count": 30,
   "metadata": {},
   "outputs": [],
   "source": [
    "import tkinter as tk\n",
    "window = tk.Tk()\n",
    "# 1\n",
    "frame = tk.Frame(master=window)\n",
    "frame[\"width\"] = 150\n",
    "frame[\"height\"] = 150\n",
    "frame.pack()\n",
    "# 2\n",
    "label1 = tk.Label(master=frame)\n",
    "label1[\"text\"] = \"I'm at (0, 0)\"\n",
    "label1[\"background\"] = \"red\"\n",
    "label1.place(x=0, y=0)\n",
    "# 3\n",
    "label2 = tk.Label(master=frame)\n",
    "label2[\"text\"] = \"I'm at (75, 75)\"\n",
    "label2[\"background\"] = \"yellow\"\n",
    "label2.place(x=75, y=75)\n",
    "window.mainloop()"
   ]
  },
  {
   "cell_type": "markdown",
   "metadata": {},
   "source": [
    "the script works as follows:\n",
    "1. Create a new Frame widget, called frame1, that is 150 pixels wide\n",
    "by 150 pixels tall, and pack it into the window using the .pack()\n",
    "method.\n",
    "2. Create a new Label, called label1, with a yellow background and\n",
    "place it in frame1 at position (0, 0).\n",
    "3. Create a new Label, called label2, with a red background and place\n",
    "it in frame1 at position (75, 75)."
   ]
  },
  {
   "cell_type": "code",
   "execution_count": null,
   "metadata": {},
   "outputs": [],
   "source": []
  },
  {
   "cell_type": "markdown",
   "metadata": {},
   "source": [
    "The .grid() Geometry Manager\n",
    "The geometry manager you will likely use the most often is the .grid()\n",
    "geometry manager. It provides more control than .pack() without the\n",
    "rigidity of .place().\n",
    "The .grid() geometry manager works by creating a grid of cells in a\n",
    "window or frame. For each widget, you must specify the row and column index using the row and column keyword arguments.\n",
    "For example, the following script creates a 3 × 3 grid of frames with\n",
    "Label widgets packed into them:\n",
    "\n",
    "This is the first example that shows two geometry managers being\n",
    "used at the same time. Each frame is attached to the window with the\n",
    ".grid() geometry manager. Similarly, each label is attached to its master frame with the .pack() method.\n",
    "The important thing to realize here is that even though the .grid()\n",
    "method is called on each frame object, the geometry manager applies\n",
    "to the window object. Similarly, the layout of each frame is controlled\n",
    "with the .pack() geometry manager."
   ]
  },
  {
   "cell_type": "code",
   "execution_count": 31,
   "metadata": {},
   "outputs": [],
   "source": [
    "import tkinter as tk\n",
    "window = tk.Tk()\n",
    "for i in range(0, 3):\n",
    "    for j in range(0, 3):\n",
    "        frame = tk.Frame(master=window)\n",
    "        frame[\"relief\"] = tk.RAISED\n",
    "        frame[\"borderwidth\"] = 1\n",
    "        frame.grid(row=i, column=j)\n",
    "        label = tk.Label(master=frame)\n",
    "        label[\"text\"] = f\"Row {i}\\nColumn {j}\"\n",
    "        label.pack()\n",
    "window.mainloop()"
   ]
  },
  {
   "cell_type": "markdown",
   "metadata": {},
   "source": [
    "You can control the layout even more by adding some padding to the\n",
    "widgets. Padding is just some blank space that surrounds a widget\n",
    "and separates it visually from its contents.\n",
    "There are two types of padding: external padding and internal\n",
    "padding. External padding adds some space around the outside of a\n",
    "widget. It is controlled with two keyword arguments that you pass to\n",
    "the .grid() method: padx, which adds padding in the horizontal direction, and pady, which adds padding in the vertical direction."
   ]
  },
  {
   "cell_type": "code",
   "execution_count": null,
   "metadata": {},
   "outputs": [],
   "source": []
  },
  {
   "cell_type": "code",
   "execution_count": 32,
   "metadata": {},
   "outputs": [],
   "source": [
    "import tkinter as tk\n",
    "window = tk.Tk()\n",
    "for i in range(0, 3):\n",
    "    for j in range(0, 3):\n",
    "        frame = tk.Frame(master=window)\n",
    "        frame[\"relief\"] = tk.RAISED\n",
    "        frame[\"borderwidth\"] = 1\n",
    "        frame.grid(row=i, column=j, padx=5, pady=5)\n",
    "        label = tk.Label(master=frame)\n",
    "        label[\"text\"] = f\"Row {i}\\nColumn {j}\"\n",
    "        label.pack()\n",
    "window.mainloop()"
   ]
  },
  {
   "cell_type": "code",
   "execution_count": 38,
   "metadata": {},
   "outputs": [],
   "source": [
    "import tkinter as tk\n",
    "window = tk.Tk()\n",
    "for i in range(0, 3):\n",
    "    for j in range(0, 3):\n",
    "        frame = tk.Frame(master=window)\n",
    "        frame[\"relief\"] = tk.RAISED\n",
    "        frame[\"borderwidth\"] = 1\n",
    "        frame.grid(row=i, column=j, padx=50, pady=50, ipadx=25, ipady=25)\n",
    "        label = tk.Label(master=frame)\n",
    "        label[\"text\"] = f\"Row {i}\\nColumn {j}\"\n",
    "        label.pack()\n",
    "window.mainloop()"
   ]
  },
  {
   "cell_type": "markdown",
   "metadata": {},
   "source": [
    "If you look closely, you’ll notice that the internal padding for the frame\n",
    "is working just fine in the horizontal direction. Each Label widget has\n",
    "about 5 pixels of padding to its left and right. However, the padding\n",
    "in the vertical direction is there but the Label seems to have all of the\n",
    "padding below, and none above it.\n",
    "This happens because we are packing each Label into its corresponding\n",
    "Frame. By default, the side argument of the .pack() method is set to\n",
    "tk.TOP, and this overrides and padding that might be there.\n",
    "You can instead add some external padding to the Label widget by passing values to the padx and pady values of the .pack() method:"
   ]
  },
  {
   "cell_type": "code",
   "execution_count": 35,
   "metadata": {},
   "outputs": [],
   "source": [
    "import tkinter as tk\n",
    "window = tk.Tk()\n",
    "for i in range(0, 3):\n",
    "    for j in range(0, 3):\n",
    "        frame = tk.Frame(master=window)\n",
    "        frame[\"relief\"] = tk.RAISED\n",
    "        frame[\"borderwidth\"] = 1\n",
    "        frame.grid(row=i, column=j, padx=50, pady=50)\n",
    "        label = tk.Label(master=frame)\n",
    "        label[\"text\"] = f\"Row {i}\\nColumn {j}\"\n",
    "        label.pack(padx=5, pady=5)\n",
    "window.mainloop()"
   ]
  },
  {
   "cell_type": "markdown",
   "metadata": {},
   "source": [
    "You can adjust how the rows and columns of the grid grow as the window is resized using the .columnconfigure() and .rowconfigure() methods on the window object. Remember, the grid is attached to window,\n",
    "even though you are calling the .grid() method on each Frame widget.\n",
    "Both .columnconfigure() and .rowconfigure() takes three arguments:\n",
    "1. The index of the column or row in the grid that you want to configure\n",
    "2. A keyword argument called weight, which defaults to 0, determines\n",
    "how the column or row should respond to window resizing relative\n",
    "to the other columns and rows\n",
    "3. A keyword argument called minsize that sets the minimum size in\n",
    "pixels of the row height or column width\n",
    "If weight is set to 0, the column or row does not expand as the window\n",
    "resizes. If every column and row is given a weight of 1, they all grow at\n",
    "the same rate. If one column has a weight of 1 and another a weight of\n",
    "3, then the second column expands at three times the rate of the first\n",
    "as the window is resized."
   ]
  },
  {
   "cell_type": "code",
   "execution_count": 39,
   "metadata": {},
   "outputs": [],
   "source": [
    "import tkinter as tk\n",
    "window = tk.Tk()\n",
    "for i in range(0, 3):\n",
    "    window.columnconfigure(i, weight=1, minsize=75)\n",
    "    window.rowconfigure(i, weight=1, minsize=50)\n",
    "    for j in range(0, 3):\n",
    "        frame = tk.Frame(master=window)\n",
    "        frame[\"relief\"] = tk.RAISED\n",
    "        frame[\"borderwidth\"] = 1\n",
    "        frame.grid(row=i, column=j, padx=5, pady=5)\n",
    "        label = tk.Label(master=frame)\n",
    "        label[\"text\"] = f\"Row {i}\\nColumn {j}\"\n",
    "        label.pack(padx=5, pady=5)\n",
    "window.mainloop()"
   ]
  },
  {
   "cell_type": "markdown",
   "metadata": {},
   "source": [
    "You can also align objects inside of a grid cell to the top, right, bottom,\n",
    "or left part of the cell. By default, objects are aligned to the top of the\n",
    "grid cell.\n",
    "To specify how objects should be aligned in the cell, use the sticky\n",
    "keyword argument of the .grid() method. It is called sticky because\n",
    "it forces an object to stick to one side of the cell. You can set sticky to\n",
    "any one of the following:\n",
    "• tk.N to align to the top of the cell\n",
    "• tk.E to align to the right side of the cell\n",
    "• tk.S to align to the bottom of the cell\n",
    "• tk.W to align to the left side of the cell\n",
    "The names tk.N, tk.E, tk.S and tk.W come from the cardinal directions:\n",
    "north, south, east, and west."
   ]
  },
  {
   "cell_type": "code",
   "execution_count": 41,
   "metadata": {},
   "outputs": [],
   "source": [
    "import tkinter as tk\n",
    "window = tk.Tk()\n",
    "label1 = tk.Label()\n",
    "label1[\"text\"] = \"A short label\"\n",
    "label1.grid(row=0, column=0)\n",
    "label2 = tk.Label()\n",
    "label2[\"text\"] = \"A much longer label\"\n",
    "label2.grid(row=2, column=0)\n",
    "window.mainloop()"
   ]
  },
  {
   "cell_type": "markdown",
   "metadata": {},
   "source": [
    "This script creates two labels: label1, which contains a short string,\n",
    "and label2, which contains a longer string of text. The .grid() method\n",
    "is used to put label1 and label2 into window, with label1 on the first row\n",
    "and label2 on the second row\n"
   ]
  },
  {
   "cell_type": "markdown",
   "metadata": {},
   "source": [
    "Notice that label1 is centered above label2. To align both labels to the\n",
    "ride side of their corresponding grid sells, set sticky=tk.E in each call\n",
    "to .grid():"
   ]
  },
  {
   "cell_type": "code",
   "execution_count": 45,
   "metadata": {},
   "outputs": [],
   "source": [
    "import tkinter as tk\n",
    "window = tk.Tk()\n",
    "label1 = tk.Label()\n",
    "label1[\"text\"] = \"A short label\"\n",
    "label1.grid(row=0, column=0, sticky=tk.E)\n",
    "label2 = tk.Label()\n",
    "label2[\"text\"] = \"A much longer label\"\n",
    "label2.grid(row=2, column=0, sticky=tk.E)\n",
    "window.mainloop()"
   ]
  },
  {
   "cell_type": "markdown",
   "metadata": {},
   "source": [
    "Now the window generated by running script shows both labels aligned\n",
    "to the right"
   ]
  },
  {
   "cell_type": "code",
   "execution_count": 46,
   "metadata": {},
   "outputs": [],
   "source": [
    "#Button\n",
    "import tkinter as tk\n",
    "window = tk.Tk()\n",
    "decrease_button = tk.Button(master=window)\n",
    "decrease_button[\"text\"] = \"-\"\n",
    "decrease_button.pack(side=tk.LEFT, fill=tk.BOTH, expand=True)\n",
    "value_label = tk.Label(master=window)\n",
    "value_label[\"text\"] = \"0\"\n",
    "value_label.pack(side=tk.LEFT, fill=tk.BOTH, expand=True)\n",
    "increase_button = tk.Button(master=window)\n",
    "increase_button[\"text\"] = \"+\"\n",
    "increase_button.pack(side=tk.LEFT, fill=tk.BOTH, expand=True)\n",
    "window.mainloop()"
   ]
  },
  {
   "cell_type": "markdown",
   "metadata": {},
   "source": [
    "That’s great, but the buttons don’t do anything. To breathe life\n",
    "into this app, you need to first create two functions, increase() and\n",
    "decrease(), that increment and decrement the value in the value_label\n",
    "widget.\n",
    "Remember, the text of a Label widget is accessed through its text attribute, and is stored as a string. To work with it numerically, you’ll\n",
    "need to convert it to an integer using int(). Then you can increase or\n",
    "decrease the value and assign the new value back to the text attribute.\n",
    "Here’s what the increase() and decrease() functions look like:"
   ]
  },
  {
   "cell_type": "code",
   "execution_count": null,
   "metadata": {},
   "outputs": [],
   "source": [
    "def increase():\n",
    "    \"\"\"Increment the value in the `value_label` widget.\"\"\"\n",
    "    value = int(value_label[\"text\"])\n",
    "    value_label[\"text\"] = str(value + 1)\n",
    "def decrease():\n",
    "    \"\"\"Decrement the value in the `value_label` widget.\"\"\"\n",
    "    value = int(value_label[\"text\"])\n",
    "    value_label[\"text\"] = str(value - 1)"
   ]
  },
  {
   "cell_type": "markdown",
   "metadata": {},
   "source": [
    "Now you can connect the buttons to the functions by assigning the\n",
    "function to the button’s command attribute. Add the following lines of\n",
    "code to the bottom of the script, just before window.mainloop():"
   ]
  },
  {
   "cell_type": "code",
   "execution_count": null,
   "metadata": {},
   "outputs": [],
   "source": [
    "#increase_button[\"command\"] = increase\n",
    "#decrease_button[\"command\"] = decrease"
   ]
  },
  {
   "cell_type": "code",
   "execution_count": 47,
   "metadata": {},
   "outputs": [],
   "source": [
    "import tkinter as tk\n",
    "def increase():\n",
    "    \"\"\"Increment the value in the `value_label` widget.\"\"\"\n",
    "    value = int(value_label[\"text\"])\n",
    "    value_label[\"text\"] = str(value + 1)\n",
    "def decrease():\n",
    "    \"\"\"Decrement the value in the `value_label` widget.\"\"\"\n",
    "    value = int(value_label[\"text\"])\n",
    "    value_label[\"text\"] = str(value - 1)\n",
    "window = tk.Tk()\n",
    "decrease_button = tk.Button(master=window)\n",
    "decrease_button[\"text\"] = \"-\"\n",
    "decrease_button.pack(side=tk.LEFT, fill=tk.BOTH, expand=True)\n",
    "value_label = tk.Label(master=window)\n",
    "value_label[\"text\"] = \"0\"\n",
    "value_label.pack(side=tk.LEFT, fill=tk.BOTH, expand=True)\n",
    "increase_button = tk.Button(master=window)\n",
    "increase_button[\"text\"] = \"+\"\n",
    "increase_button.pack(side=tk.LEFT, fill=tk.BOTH, expand=True)\n",
    "increase_button[\"command\"] = increase\n",
    "decrease_button[\"command\"] = decrease\n",
    "window.mainloop()"
   ]
  },
  {
   "cell_type": "code",
   "execution_count": 48,
   "metadata": {},
   "outputs": [],
   "source": [
    "import tkinter as tk\n",
    "window = tk.Tk()\n",
    "window.title(\"Temperature Converter\")\n",
    "conversion_frame = tk.Frame(master=window)\n",
    "conversion_frame.pack(side=tk.LEFT)\n",
    "button_frame = tk.Frame(master=window)\n",
    "button_frame.pack(side=tk.LEFT)\n",
    "celsius_entry_label = tk.Label(master=conversion_frame)\n",
    "celsius_entry_label[\"text\"] = \"Degrees (Celsius):\"\n",
    "celsius_entry_label.grid(row=0, column=0)\n",
    "celsius_entry = tk.Entry(master=conversion_frame)\n",
    "celsius_entry.grid(row=0, column=1)\n",
    "\n",
    "result_label = tk.Label(master=conversion_frame)\n",
    "result_label[\"text\"] = \"Degrees (Fahrenheit):\"\n",
    "result_label.grid(row=1, column=0)\n",
    "result_display = tk.Label(master=conversion_frame)\n",
    "result_display.grid(row=1, column=1)\n",
    "\n",
    "#Finally, let’s pack a Button widget with the text “Convert” into button_-\n",
    "#frame, and call window.mainloop()\n",
    "convert_button = tk.Button(master=button_frame)\n",
    "convert_button[\"text\"] = \"Convert\"\n",
    "convert_button.pack(side=tk.LEFT)\n",
    "\n",
    "window.mainloop()"
   ]
  },
  {
   "cell_type": "markdown",
   "metadata": {},
   "source": [
    "That looks pretty good, but the layout isn’t very responsive. If you resize the window, things look pretty odd. In fact, for this app, it makes\n",
    "sense to disable window resizing.\n",
    "You can configure a window’s ability to be resized with the .resizable()\n",
    "method. This method takes two arguments, width and height, that determine whether or not the window can be resized horizontally and\n",
    "vertically, respectively. Both arguments take Boolean values so, for this app, you can set both to False. Add the following line below the\n",
    "window.title() line"
   ]
  },
  {
   "cell_type": "code",
   "execution_count": 2,
   "metadata": {},
   "outputs": [],
   "source": [
    "import tkinter as tk\n",
    "window = tk.Tk()\n",
    "window.title(\"Temperature Converter\")\n",
    "window.resizable(width=False, height=False)\n",
    "conversion_frame = tk.Frame(master=window)\n",
    "conversion_frame.pack(side=tk.LEFT)\n",
    "button_frame = tk.Frame(master=window)\n",
    "button_frame.pack(side=tk.LEFT)\n",
    "celsius_entry_label = tk.Label(master=conversion_frame)\n",
    "celsius_entry_label[\"text\"] = \"Degrees (Celsius):\"\n",
    "celsius_entry_label.grid(row=0, column=0)\n",
    "celsius_entry = tk.Entry(master=conversion_frame)\n",
    "celsius_entry.grid(row=0, column=1)\n",
    "\n",
    "result_label = tk.Label(master=conversion_frame)\n",
    "result_label[\"text\"] = \"Degrees (Fahrenheit):\"\n",
    "result_label.grid(row=1, column=0)\n",
    "result_display = tk.Label(master=conversion_frame)\n",
    "result_display.grid(row=1, column=1)\n",
    "\n",
    "#Finally, let’s pack a Button widget with the text “Convert” into button_-\n",
    "#frame, and call window.mainloop()\n",
    "convert_button = tk.Button(master=button_frame)\n",
    "convert_button[\"text\"] = \"Convert\"\n",
    "convert_button.pack(side=tk.LEFT)\n",
    "\n",
    "window.mainloop()"
   ]
  },
  {
   "cell_type": "markdown",
   "metadata": {},
   "source": [
    "First, you need to write a function that converts Celsius to Fahrenheit.\n",
    "You’ve actually already done this in “Convert Temperatures” assignment of Chapter 6. Here’s what that function looks like:\n",
    "def celsius_to_fahrenheit(celsius, digits=3):\n",
    "    \"\"\"Convert `celsius` to Fahrenheit and round to `digits`.\"\"\"\n",
    "    fahrenheit = float(celsius) * (9 / 5) + 32\n",
    "    rounded = round(fahrenheit, digits)\n",
    "    return rounded\n"
   ]
  },
  {
   "cell_type": "code",
   "execution_count": 49,
   "metadata": {},
   "outputs": [],
   "source": [
    "import tkinter as tk\n",
    "def celsius_to_fahrenheit(celsius, digits=3):\n",
    "    \"\"\"Convert `celsius` to Farenheit and round to `digits`.\"\"\"\n",
    "    farenheit = float(celsius) * 9/5 + 32\n",
    "    rounded = round(farenheit, digits)\n",
    "    return rounded\n",
    "def convert():\n",
    "    \"\"\"Convert value in `celsius_entry` and display result.\"\"\"\n",
    "    celsius = celsius_entry.get()\n",
    "    try:\n",
    "        result = str(celsius_to_fahrenheit(celsius))\n",
    "    except ValueError:\n",
    "        result = \"Invalid\"\n",
    "    result_display.config(text=result)\n",
    "window = tk.Tk()\n",
    "window.title(\"Temperature Converter\")\n",
    "window.resizable(width=False, height=False)\n",
    "conversion_frame = tk.Frame(master=window)\n",
    "conversion_frame.pack(side=tk.LEFT, padx=5, pady=5)\n",
    "button_frame = tk.Frame(master=window)\n",
    "button_frame.pack(side=tk.LEFT, padx=5, pady=5)\n",
    "celsius_entry_label = tk.Label(master=conversion_frame)\n",
    "celsius_entry_label[\"text\"] = \"Degrees (Celsius):\"\n",
    "celsius_entry_label.grid(row=0, column=0)\n",
    "celsius_entry = tk.Entry(master=conversion_frame)\n",
    "celsius_entry.grid(row=0, column=1)\n",
    "result_label = tk.Label(master=conversion_frame)\n",
    "result_label[\"text\"] = \"Degrees (Fahrenheit):\"\n",
    "result_label.grid(row=1, column=0)\n",
    "result_display = tk.Label(master=conversion_frame)\n",
    "result_display.grid(row=1, column=1)\n",
    "convert_button = tk.Button(master=button_frame)\n",
    "convert_button[\"text\"] = \"Convert\"\n",
    "convert_button[\"command\"] = convert\n",
    "convert_button.pack(side=tk.LEFT)\n",
    "window.mainloop()"
   ]
  },
  {
   "cell_type": "code",
   "execution_count": null,
   "metadata": {},
   "outputs": [],
   "source": []
  }
 ],
 "metadata": {
  "kernelspec": {
   "display_name": "Python 3",
   "language": "python",
   "name": "python3"
  },
  "language_info": {
   "codemirror_mode": {
    "name": "ipython",
    "version": 3
   },
   "file_extension": ".py",
   "mimetype": "text/x-python",
   "name": "python",
   "nbconvert_exporter": "python",
   "pygments_lexer": "ipython3",
   "version": "3.7.3"
  }
 },
 "nbformat": 4,
 "nbformat_minor": 2
}
