{
 "cells": [
  {
   "cell_type": "markdown",
   "metadata": {},
   "source": [
    "Code 1 :Creating a Word Doc"
   ]
  },
  {
   "cell_type": "code",
   "execution_count": 3,
   "metadata": {},
   "outputs": [],
   "source": [
    "#Import module\n",
    "from docx import Document\n",
    "from docx.shared import Inches\n",
    "\n",
    "# create an instance of a word document \n",
    "document = Document()\n",
    "\n",
    "## add a heading of level 0 (largest heading) \n",
    "document.add_heading('Document Title', 0)\n",
    "\n",
    "## add a paragraph and store  \n",
    "# the object in a variable \n",
    "p = document.add_paragraph('A plain paragraph having some ')\n",
    "\n",
    "# add a run i.e, style like  \n",
    "# bold, italic, underline, etc.\n",
    "p.add_run('bold').bold = True\n",
    "p.add_run(' and some ')\n",
    "p.add_run('italic.').italic = True\n",
    "\n",
    "## add a heading of level 2 \n",
    "document.add_heading('Heading, level 1', level=1)\n",
    "document.add_paragraph('Intense quote', style='Intense Quote')\n",
    "\n",
    "document.add_paragraph(\n",
    "    'first item in unordered list', style='List Bullet'\n",
    ")\n",
    "document.add_paragraph(\n",
    "    'first item in ordered list', style='List Number'\n",
    ")\n",
    "\n",
    "#adding images\n",
    "document.add_picture('C:\\\\PythonDB\\\\food.jpg', width=Inches(1.25))\n",
    "\n",
    "#to add a table craete a tuple with data \n",
    "records = (\n",
    "    (3, '101', 'Spam'),\n",
    "    (7, '422', 'Eggs'),\n",
    "    (4, '631', 'Spam, spam, eggs, and spam')\n",
    ")\n",
    "\n",
    "table = document.add_table(rows=1, cols=3)\n",
    "hdr_cells = table.rows[0].cells\n",
    "hdr_cells[0].text = 'Qty'\n",
    "hdr_cells[1].text = 'Id'\n",
    "hdr_cells[2].text = 'Desc'\n",
    "for qty, id, desc in records:\n",
    "    row_cells = table.add_row().cells\n",
    "    row_cells[0].text = str(qty)\n",
    "    row_cells[1].text = id\n",
    "    row_cells[2].text = desc\n",
    "\n",
    "document.add_page_break()\n",
    "\n",
    "document.save('demo3.docx')"
   ]
  },
  {
   "cell_type": "code",
   "execution_count": null,
   "metadata": {},
   "outputs": [],
   "source": [
    "For More information , refer below link:\n",
    "https://readthedocs.org/projects/python-docx/downloads/pdf/latest/\n",
    "        "
   ]
  },
  {
   "cell_type": "markdown",
   "metadata": {},
   "source": [
    "Code #2: Now, to open a word document, create an instance along with passing the path to the document.\n"
   ]
  },
  {
   "cell_type": "code",
   "execution_count": 5,
   "metadata": {},
   "outputs": [
    {
     "name": "stdout",
     "output_type": "stream",
     "text": [
      "List of paragraph objects:->>>\n",
      "[<docx.text.paragraph.Paragraph object at 0x0000023981FC6160>, <docx.text.paragraph.Paragraph object at 0x0000023981FC6198>, <docx.text.paragraph.Paragraph object at 0x0000023981FC6240>, <docx.text.paragraph.Paragraph object at 0x0000023981FC6208>, <docx.text.paragraph.Paragraph object at 0x0000023981FC63C8>, <docx.text.paragraph.Paragraph object at 0x0000023981FC6390>, <docx.text.paragraph.Paragraph object at 0x0000023981FC6320>, <docx.text.paragraph.Paragraph object at 0x0000023981FC62E8>]\n",
      "\n",
      "List of runs objects in 1st paragraph:->>>\n",
      "[<docx.text.run.Run object at 0x0000023981FC63C8>]\n",
      "\n",
      "Text in the 1st paragraph:->>>\n",
      "Document Title\n",
      "\n",
      "The whole content of the document:->>>\n",
      "\n",
      "Document Title\n",
      "A plain paragraph having some bold and some italic.\n",
      "Heading, level 1\n",
      "Intense quote\n",
      "first item in unordered list\n",
      "first item in ordered list\n",
      "\n",
      "\n",
      "\n"
     ]
    }
   ],
   "source": [
    "# import the Document class  \n",
    "# from the docx module \n",
    "from docx import Document \n",
    "  \n",
    "# create an instance of a  \n",
    "# word document we want to open \n",
    "doc = Document('C:\\\\Users\\\\rawat\\\\Python-code-master\\\\demo3.docx') \n",
    "  \n",
    "# print the list of paragraphs in the document \n",
    "print('List of paragraph objects:->>>') \n",
    "print(doc.paragraphs) \n",
    "  \n",
    "# print the list of the runs  \n",
    "# in a specified paragraph \n",
    "print('\\nList of runs objects in 1st paragraph:->>>') \n",
    "print(doc.paragraphs[0].runs) \n",
    "  \n",
    "# print the text in a paragraph  \n",
    "print('\\nText in the 1st paragraph:->>>') \n",
    "print(doc.paragraphs[0].text) \n",
    "  \n",
    "# for printing the complete document \n",
    "print('\\nThe whole content of the document:->>>\\n') \n",
    "for para in doc.paragraphs: \n",
    "    print(para.text) "
   ]
  },
  {
   "cell_type": "code",
   "execution_count": null,
   "metadata": {},
   "outputs": [],
   "source": []
  }
 ],
 "metadata": {
  "kernelspec": {
   "display_name": "Python 3",
   "language": "python",
   "name": "python3"
  },
  "language_info": {
   "codemirror_mode": {
    "name": "ipython",
    "version": 3
   },
   "file_extension": ".py",
   "mimetype": "text/x-python",
   "name": "python",
   "nbconvert_exporter": "python",
   "pygments_lexer": "ipython3",
   "version": "3.7.3"
  }
 },
 "nbformat": 4,
 "nbformat_minor": 2
}
