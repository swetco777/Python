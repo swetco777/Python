{
 "cells": [
  {
   "cell_type": "raw",
   "metadata": {},
   "source": [
    "List comprehension is an elegant way to define and create list in python. We can create lists just like mathematical statements and in one line only. The syntax of list comprehension is easier to grasp.\n",
    "\n",
    "A list comprehension generally consist of these parts :\n",
    "   Output expression, \n",
    "   input sequence, \n",
    "   a variable representing member of input sequence and\n",
    "   an optional predicate part. \n",
    "\n",
    "For example :\n",
    "\n",
    "lst  =  [x ** 2  for x in range (1, 11)   if  x % 2 == 1] \n",
    "\n",
    "here, x ** 2 is output expression, \n",
    "      range (1, 11)  is input sequence, \n",
    "      x is variable and   \n",
    "      if x % 2 == 1 is predicate part."
   ]
  },
  {
   "cell_type": "code",
   "execution_count": 1,
   "metadata": {},
   "outputs": [
    {
     "data": {
      "text/plain": [
       "[4, 9, 16, 25, 36, 49, 64, 81, 100]"
      ]
     },
     "execution_count": 1,
     "metadata": {},
     "output_type": "execute_result"
    }
   ],
   "source": [
    "squares = [x**2 for x in range(2,11)]\n",
    "squares"
   ]
  },
  {
   "cell_type": "code",
   "execution_count": 2,
   "metadata": {},
   "outputs": [
    {
     "data": {
      "text/plain": [
       "[3, 4, 5, 6, 7, 8, 9, 10, 11, 12]"
      ]
     },
     "execution_count": 2,
     "metadata": {},
     "output_type": "execute_result"
    }
   ],
   "source": [
    "squares = [x+3 for x in range(10)]\n",
    "squares"
   ]
  },
  {
   "cell_type": "code",
   "execution_count": 3,
   "metadata": {},
   "outputs": [
    {
     "data": {
      "text/plain": [
       "[0, 2, 4, 6, 8, 10, 12, 14, 16, 18]"
      ]
     },
     "execution_count": 3,
     "metadata": {},
     "output_type": "execute_result"
    }
   ],
   "source": [
    "squares = [x*2 for x in range(10)]\n",
    "squares"
   ]
  },
  {
   "cell_type": "code",
   "execution_count": 4,
   "metadata": {},
   "outputs": [
    {
     "name": "stdout",
     "output_type": "stream",
     "text": [
      "[(1, 3), (1, 4), (2, 3), (2, 1), (2, 4), (3, 1), (3, 4)]\n"
     ]
    }
   ],
   "source": [
    "a= []\n",
    "for x in [1,2,3]:#x=3\n",
    "\tfor y in [3,1,4]:\n",
    "\t\tif x != y:\n",
    "\t\t\ta.append((x, y))\n",
    "print (a)"
   ]
  },
  {
   "cell_type": "code",
   "execution_count": 5,
   "metadata": {},
   "outputs": [
    {
     "name": "stdout",
     "output_type": "stream",
     "text": [
      "[('P', 'J'), ('P', 'a'), ('P', 'v'), ('P', 'a'), ('y', 'J'), ('y', 'a'), ('y', 'v'), ('y', 'a'), ('t', 'J'), ('t', 'a'), ('t', 'v'), ('t', 'a'), ('h', 'J'), ('h', 'a'), ('h', 'v'), ('h', 'a'), ('o', 'J'), ('o', 'a'), ('o', 'v'), ('o', 'a'), ('n', 'J'), ('n', 'a'), ('n', 'v'), ('n', 'a')]\n"
     ]
    }
   ],
   "source": [
    "a= []\n",
    "for x in \"Python\":#x=y\n",
    "\tfor y in \"Java\":\n",
    "\t\tif x != y:\n",
    "\t\t\ta.append((x, y))\n",
    "print (a)"
   ]
  },
  {
   "cell_type": "code",
   "execution_count": 6,
   "metadata": {},
   "outputs": [
    {
     "ename": "SyntaxError",
     "evalue": "invalid syntax (<ipython-input-6-51066ba9830a>, line 1)",
     "output_type": "error",
     "traceback": [
      "\u001b[1;36m  File \u001b[1;32m\"<ipython-input-6-51066ba9830a>\"\u001b[1;36m, line \u001b[1;32m1\u001b[0m\n\u001b[1;33m    [<operation> for <variable> in <set of values to iterate> <if condition>]\u001b[0m\n\u001b[1;37m     ^\u001b[0m\n\u001b[1;31mSyntaxError\u001b[0m\u001b[1;31m:\u001b[0m invalid syntax\n"
     ]
    }
   ],
   "source": [
    "[<operation> for <variable> in <set of values to iterate> <if condition>]"
   ]
  },
  {
   "cell_type": "code",
   "execution_count": 7,
   "metadata": {},
   "outputs": [
    {
     "name": "stdout",
     "output_type": "stream",
     "text": [
      "[(1, 3), (1, 4), (2, 3), (2, 1), (2, 4), (3, 1), (3, 4)]\n"
     ]
    }
   ],
   "source": [
    "a=[(x, y) for x in [1,2,3] for y in [3,1,4] if x != y]\n",
    "print (a)"
   ]
  },
  {
   "cell_type": "code",
   "execution_count": null,
   "metadata": {},
   "outputs": [],
   "source": [
    "vec = [-4, -2, 0, 2, 4]\n",
    "v=[x*2 for x in vec]\n",
    "print (v)"
   ]
  },
  {
   "cell_type": "code",
   "execution_count": null,
   "metadata": {},
   "outputs": [],
   "source": [
    "vec = [-4, -2, 0, 2, 4]\n",
    "a = [x for x in vec if x >= 0]\n",
    "print (a)"
   ]
  },
  {
   "cell_type": "code",
   "execution_count": null,
   "metadata": {},
   "outputs": [],
   "source": [
    "vec = [-4, -2, 0, 2, 4]\n",
    "z=[abs(x) for x in vec]\n",
    "print (z)"
   ]
  },
  {
   "cell_type": "code",
   "execution_count": null,
   "metadata": {},
   "outputs": [],
   "source": [
    "freshfruit = ['  abanana', '  logan berry ', 'passion fruit  ']\n",
    "a=[x.strip() for x in freshfruit]\n",
    "print (a)\n",
    "print (a[0])"
   ]
  },
  {
   "cell_type": "code",
   "execution_count": null,
   "metadata": {},
   "outputs": [],
   "source": [
    "t=[[x,x+3, x**2] for x in range(6)]\n",
    "print (t)"
   ]
  },
  {
   "cell_type": "code",
   "execution_count": null,
   "metadata": {},
   "outputs": [],
   "source": [
    "t=[(x,x+3, x**2) for x in range(6)]\n",
    "print (t)"
   ]
  },
  {
   "cell_type": "code",
   "execution_count": null,
   "metadata": {},
   "outputs": [],
   "source": [
    "v=[x for x in range(10) if x%2==0 ]\n",
    "print (v)"
   ]
  },
  {
   "cell_type": "code",
   "execution_count": null,
   "metadata": {},
   "outputs": [],
   "source": []
  }
 ],
 "metadata": {
  "kernelspec": {
   "display_name": "Python 3",
   "language": "python",
   "name": "python3"
  },
  "language_info": {
   "codemirror_mode": {
    "name": "ipython",
    "version": 3
   },
   "file_extension": ".py",
   "mimetype": "text/x-python",
   "name": "python",
   "nbconvert_exporter": "python",
   "pygments_lexer": "ipython3",
   "version": "3.7.3"
  }
 },
 "nbformat": 4,
 "nbformat_minor": 2
}
