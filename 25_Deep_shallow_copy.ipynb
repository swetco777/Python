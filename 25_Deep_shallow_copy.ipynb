{
 "cells": [
  {
   "cell_type": "markdown",
   "metadata": {},
   "source": [
    "### Deep copy and Shallow copy"
   ]
  },
  {
   "cell_type": "markdown",
   "metadata": {},
   "source": [
    "Important Points:\n",
    "The difference between shallow and deep copying is only \n",
    "relevant for compound objects (objects that contain other objects, like lists or class instances):\n"
   ]
  },
  {
   "cell_type": "code",
   "execution_count": 1,
   "metadata": {},
   "outputs": [
    {
     "name": "stdout",
     "output_type": "stream",
     "text": [
      "l2 value [123, 3, 3433]\n",
      "l1 value [123, 3, 3433]\n"
     ]
    }
   ],
   "source": [
    "l1=[123,3,3433]\n",
    "l2=l1\n",
    "print (\"l2 value\",l2)\n",
    "print (\"l1 value\",l1)"
   ]
  },
  {
   "cell_type": "code",
   "execution_count": 2,
   "metadata": {},
   "outputs": [
    {
     "name": "stdout",
     "output_type": "stream",
     "text": [
      "l2 ID 1885115620232\n",
      "l1 ID 1885115620232\n"
     ]
    }
   ],
   "source": [
    "print (\"l2 ID\",id(l2))\n",
    "print (\"l1 ID\",id(l1))"
   ]
  },
  {
   "cell_type": "code",
   "execution_count": 3,
   "metadata": {},
   "outputs": [
    {
     "name": "stdout",
     "output_type": "stream",
     "text": [
      "after change l2 value [123, 3]\n",
      "after l1 value [123, 3, 3433]\n"
     ]
    }
   ],
   "source": [
    "l2=[123,3]\n",
    "print (\"after change l2 value\",l2)\n",
    "print (\"after l1 value\",l1)"
   ]
  },
  {
   "cell_type": "code",
   "execution_count": 4,
   "metadata": {},
   "outputs": [
    {
     "name": "stdout",
     "output_type": "stream",
     "text": [
      "ID of Old List: 1885115619912\n",
      "ID of New List: 1885115619912\n"
     ]
    }
   ],
   "source": [
    "old_list = [[1, 2, 3], [4, 5, 6], [7, 8, 'a']]\n",
    "new_list = old_list\n",
    "print('ID of Old List:', id(old_list))\n",
    "print('ID of New List:', id(new_list))"
   ]
  },
  {
   "cell_type": "code",
   "execution_count": 7,
   "metadata": {},
   "outputs": [
    {
     "name": "stdout",
     "output_type": "stream",
     "text": [
      "Old List: [[1, 2, 3], [4, 5, 6], [7, 8, 9]]\n",
      "New List: [[1, 2, 3], [4, 5, 6], [7, 8, 9]]\n"
     ]
    }
   ],
   "source": [
    "new_list[2][2] = 9\n",
    "print('Old List:', old_list)\n",
    "print('New List:', new_list)"
   ]
  },
  {
   "cell_type": "code",
   "execution_count": 8,
   "metadata": {},
   "outputs": [
    {
     "name": "stdout",
     "output_type": "stream",
     "text": [
      "ID of Old List: 1885115619912\n",
      "ID of New List: 1885115619912\n"
     ]
    }
   ],
   "source": [
    "print('ID of Old List:', id(old_list))\n",
    "print('ID of New List:', id(new_list))"
   ]
  },
  {
   "cell_type": "code",
   "execution_count": 9,
   "metadata": {},
   "outputs": [
    {
     "name": "stdout",
     "output_type": "stream",
     "text": [
      "Old list: [[1, 2, 3], [4, 5, 6], [7, 8, 9]]\n",
      "New list: [[1, 2, 3], [4, 5, 6], [7, 8, 9]]\n"
     ]
    }
   ],
   "source": [
    "import copy\n",
    "old_list = [[1, 2, 3], [4, 5, 6], [7, 8, 9]]\n",
    "new_list = copy.copy(old_list)\n",
    "print(\"Old list:\", old_list)\n",
    "print(\"New list:\", new_list)"
   ]
  },
  {
   "cell_type": "code",
   "execution_count": 10,
   "metadata": {},
   "outputs": [
    {
     "name": "stdout",
     "output_type": "stream",
     "text": [
      "Old list Id: 1885115619528\n",
      "New list Id : 1885133431240\n"
     ]
    }
   ],
   "source": [
    "import copy\n",
    "old_list = [[1, 2, 3], [4, 5, 6], [7, 8, 9]]\n",
    "new_list = copy.copy(old_list)\n",
    "print(\"Old list Id:\", id(old_list))\n",
    "print(\"New list Id :\", id(new_list))"
   ]
  },
  {
   "cell_type": "code",
   "execution_count": 13,
   "metadata": {},
   "outputs": [
    {
     "name": "stdout",
     "output_type": "stream",
     "text": [
      "Old list: [[1, 1, 1], [2, 2, 2], [3, 3, 3], [4, 4, 4]]\n",
      "New list: [[1, 1, 1], [2, 2, 2], [3, 3, 3]]\n"
     ]
    }
   ],
   "source": [
    "import copy\n",
    "old_list = [[1, 1, 1], [2, 2, 2], [3, 3, 3]]\n",
    "new_list = copy.copy(old_list)\n",
    "old_list.append([4, 4, 4])\n",
    "print(\"Old list:\", old_list)\n",
    "print(\"New list:\", new_list)"
   ]
  },
  {
   "cell_type": "code",
   "execution_count": 12,
   "metadata": {},
   "outputs": [
    {
     "name": "stdout",
     "output_type": "stream",
     "text": [
      "Old list: [[1, 1, 1], [2, 'AA', 2], [3, 3, 3]]\n",
      "New list: [[1, 1, 1], [2, 'AA', 2], [3, 3, 3]]\n",
      "Id Old list: 1885115553544\n",
      "Id New list: 1885116161608\n"
     ]
    }
   ],
   "source": [
    "import copy\n",
    "old_list = [[1, 1, 1], [2, 2, 2], [3, 3, 3]]\n",
    "new_list = copy.copy(old_list)\n",
    "# old_list[1][1] = 'AA'\n",
    "new_list[1][1] = 'AA'\n",
    "print(\"Old list:\", old_list)\n",
    "print(\"New list:\", new_list)\n",
    "print(\"Id Old list:\", id(old_list))\n",
    "print(\"Id New list:\", id(new_list))"
   ]
  },
  {
   "cell_type": "code",
   "execution_count": 14,
   "metadata": {},
   "outputs": [
    {
     "name": "stdout",
     "output_type": "stream",
     "text": [
      "Old list: [[1, 1, 1], [2, 2, 2], [3, 3, 3]]\n",
      "New list: [[1, 1, 1], [2, 2, 2], [3, 3, 3]]\n"
     ]
    }
   ],
   "source": [
    "import copy\n",
    "old_list = [[1, 1, 1], [2, 2, 2], [3, 3, 3]]\n",
    "new_list = copy.deepcopy(old_list)\n",
    "print(\"Old list:\", old_list)\n",
    "print(\"New list:\", new_list)"
   ]
  },
  {
   "cell_type": "code",
   "execution_count": 15,
   "metadata": {},
   "outputs": [
    {
     "name": "stdout",
     "output_type": "stream",
     "text": [
      "Old list: [[1, 1, 1], ['BB', 2, 2], [3, 3, 3]]\n",
      "New list: [[1, 1, 1], [2, 2, 2], [3, 3, 3]]\n"
     ]
    }
   ],
   "source": [
    "import copy\n",
    "old_list = [[1, 1, 1], [2, 2, 2], [3, 3, 3]]\n",
    "new_list = copy.deepcopy(old_list)\n",
    "old_list[1][0] = 'BB'\n",
    "print(\"Old list:\", old_list)\n",
    "print(\"New list:\", new_list)"
   ]
  },
  {
   "cell_type": "code",
   "execution_count": 16,
   "metadata": {},
   "outputs": [
    {
     "name": "stdout",
     "output_type": "stream",
     "text": [
      "Old list: [1, 2, 3]\n",
      "New list: [1, 2, 3]\n"
     ]
    }
   ],
   "source": [
    "import copy\n",
    "old_list = [1, 2, 3]\n",
    "new_list = copy.copy(old_list)\n",
    "print(\"Old list:\", old_list)\n",
    "print(\"New list:\", new_list)"
   ]
  },
  {
   "cell_type": "code",
   "execution_count": 17,
   "metadata": {},
   "outputs": [
    {
     "name": "stdout",
     "output_type": "stream",
     "text": [
      "Old list: [1, 2, 0]\n",
      "New list: [1, 2, 3]\n"
     ]
    }
   ],
   "source": [
    "import copy\n",
    "old_list = [1, 2, 3]\n",
    "new_list = copy.copy(old_list)\n",
    "old_list[2]=0\n",
    "print(\"Old list:\", old_list)\n",
    "print(\"New list:\", new_list)"
   ]
  },
  {
   "cell_type": "code",
   "execution_count": 18,
   "metadata": {},
   "outputs": [
    {
     "name": "stdout",
     "output_type": "stream",
     "text": [
      "Old list: [11, 112, 0]\n",
      "New list: [11, 112, 13]\n"
     ]
    }
   ],
   "source": [
    "import copy\n",
    "old_list = [11, 112, 13]\n",
    "new_list = copy.deepcopy(old_list)\n",
    "old_list[2]=0\n",
    "print(\"Old list:\", old_list)\n",
    "print(\"New list:\", new_list)"
   ]
  },
  {
   "cell_type": "code",
   "execution_count": 19,
   "metadata": {},
   "outputs": [
    {
     "name": "stdout",
     "output_type": "stream",
     "text": [
      "Old list: 1885115553800\n",
      "New list: 1885133514568\n"
     ]
    }
   ],
   "source": [
    "import copy\n",
    "old_list = [11, 112, 13]\n",
    "deep_new_list = copy.deepcopy(old_list)\n",
    "print(\"Old list:\", id(old_list))\n",
    "print(\"New list:\", id(deep_new_list))"
   ]
  },
  {
   "cell_type": "code",
   "execution_count": 20,
   "metadata": {},
   "outputs": [
    {
     "name": "stdout",
     "output_type": "stream",
     "text": [
      "Old list: 1885133433928\n",
      "New list: 1885133515144\n"
     ]
    }
   ],
   "source": [
    "import copy\n",
    "old_list = [11, 112, 13]\n",
    "deep_new_list = copy.copy(old_list)\n",
    "print(\"Old list:\", id(old_list))\n",
    "print(\"New list:\", id(deep_new_list))"
   ]
  },
  {
   "cell_type": "code",
   "execution_count": null,
   "metadata": {},
   "outputs": [],
   "source": [
    "# l2=[123,3]\n",
    "# print (\"after change l2 value\",l2)\n",
    "# print (\"after l1 value\",l1)\n",
    "\n",
    "# print (l is l2)\n",
    "# print (l==l2)\n",
    "\n",
    "# l3=list(l2)\n",
    "# print (l3==l2)\n",
    "\n",
    "# print (l3 is l2)\n",
    "\n",
    "# # initializing list 1\n",
    "import copy\n",
    "\n",
    "# li1 = [1, 2, [3,5], 4]\n",
    " \n",
    "# # # using deepcopy to deep copy \n",
    "# li2 = copy.deepcopy(li1)\n",
    "\n",
    "# print id (li1)\n",
    "# print id (li2)\n",
    "\n",
    "# # original elements of list\n",
    "# print (\"The original li2 elements before deep copying\",li2)\n",
    " \n",
    "# print(\"\\r\")\n",
    " \n",
    "# adding and element to new list\n",
    "# li2[2][0] = 7\n",
    "# print (\"The modified li2 elements before deep copying\",li2)\n",
    "# print (\"The modified li1 elements before deep copying\",li1)\n",
    "\n",
    "\n",
    "# li2[2][0] = 17\n",
    "\n",
    "# print (\"The modified li2 elements before deep copying\",li2)\n",
    "# print (\"The modified li1 elements before deep copying\",li1)\n",
    "\n",
    "\n",
    "# Change is reflected in l2 \n",
    "# print (\"The new list of elements after deep copying \")\n",
    "# for i in range(0,len( li1)):\n",
    "#     print (li2[i])\n",
    "# print li2\n",
    "# print(\"\\r\")\n",
    " \n",
    "# Change is NOT reflected in original list\n",
    "# as it is a deep copy\n",
    "# print (\"The original elements after deep copying\")\n",
    "# print li1\n",
    "# for i in range(0,len( li1)):\n",
    "#     print (li1[i])\n",
    "\n",
    "# import copy\n",
    "\n",
    "# li1 = [1, 2, [3,5], 4,[\"a\",\"b\"]]\n",
    " \n",
    "# # # using copy to shallow copy \n",
    "# li2 = copy.deepcopy(li1)\n",
    "# print id (li1)\n",
    "# print id (li2)\n",
    "# print \"Before l1 is : \",li1\n",
    "# print \"Before l2 is : \",li2\n",
    "\n",
    "\n",
    "# li1[2][0] = \"python\"\n",
    "# li1[4][0] = \"java\"\n",
    "\n",
    "# # li1[1] = \"java\"\n",
    "\n",
    "# print \"After l1 is : \",li1\n",
    "# print \"After l2 is : \",li2\n",
    "\n",
    "\n",
    "\n",
    "\n",
    "import copy\n",
    " \n",
    "# # initializing list 1\n",
    "li1 = [1, 2, [3,5], 4,[\"a\",\"b\"]]\n",
    " \n",
    "# # using copy to shallow copy \n",
    "li2 = copy.copy(li1)\n",
    "print id (li1)\n",
    "print id (li2)\n",
    "print \"Before l1 is : \",li1\n",
    "print \"Before l2 is : \",li2\n",
    "\n",
    "\n",
    "li1[2][0] = \"python\"\n",
    "li1[4][0] = \"java\"\n",
    "\n",
    "# li1[1] = \"java\"\n",
    "\n",
    "print \"After l1 is : \",li1\n",
    "print \"After l2 is : \",li2\n",
    "\n",
    "\n",
    "print id (li1)\n",
    "print id (li2)\n",
    " \n",
    "# # original elements of list\n",
    "# print (\"The original elements before shallow copying\")\n",
    "# for i in range(0,len(li1)):\n",
    "#     print li1[i],\n",
    " \n",
    "# print(\"\\r\")\n",
    " \n",
    "# # adding and element to new list\n",
    "# li2[2][0] = 7\n",
    " \n",
    "# # checking if change is reflected\n",
    "# print (\"The original elements after shallow copying\")\n",
    "# for i in range(0,len( li1)):\n",
    "#     print (li1[i],end=\" \")\n",
    "#     \n",
    "# "
   ]
  },
  {
   "cell_type": "code",
   "execution_count": null,
   "metadata": {},
   "outputs": [],
   "source": []
  }
 ],
 "metadata": {
  "kernelspec": {
   "display_name": "Python 2",
   "language": "python",
   "name": "python2"
  },
  "language_info": {
   "codemirror_mode": {
    "name": "ipython",
    "version": 2
   },
   "file_extension": ".py",
   "mimetype": "text/x-python",
   "name": "python",
   "nbconvert_exporter": "python",
   "pygments_lexer": "ipython2",
   "version": "2.7.16"
  }
 },
 "nbformat": 4,
 "nbformat_minor": 2
}
