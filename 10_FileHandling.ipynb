{
 "cells": [
  {
   "cell_type": "markdown",
   "metadata": {},
   "source": [
    "* 'r' - reading mode. The default. It allows you only to read the file, not to modify it. When using this mode the\n",
    "file must exist.\n",
    "* 'w' - writing mode. It will create a new file if it does not exist, otherwise will erase the file and allow you to\n",
    "write to it.\n",
    "* 'a' - append mode. It will write data to the end of the file. It does not erase the file, and the file must exist for\n",
    "this mode.\n",
    "* 'rb' - reading mode in binary. This is similar to r except that the reading is forced in binary mode. This is\n",
    "also a default choice.\n",
    "* 'r+' - reading mode plus writing mode at the same time. This allows you to read and write into files at the\n",
    "same time without having to use r and w.\n",
    "* 'rb+' - reading and writing mode in binary. The same as r+ except the data is in binary\n",
    "* 'wb' - writing mode in binary. The same as w except the data is in binary.\n",
    "* 'w+' - writing and reading mode. The exact same as r+ but if the file does not exist, a new one is made.\n",
    "Otherwise, the file is overwritten.\n",
    "* 'wb+' - writing and reading mode in binary mode. The same as w+ but the data is in binary.\n",
    "* 'ab' - appending in binary mode. Similar to a except that the data is in binary.\n",
    "* 'a+' - appending and reading mode. Similar to w+ as it will create a new file if the file does not exist.\n",
    "Otherwise, the file pointer is at the end of the file if it exists.\n",
    "* 'ab+' - appending and reading mode in binary. The same as a+ except that the data is in binary."
   ]
  },
  {
   "cell_type": "markdown",
   "metadata": {},
   "source": [
    "we can use the built-in object \"file\". \n",
    "\n",
    "That object provides basic functions and methods necessary to manipulate files\n",
    "by default. \n",
    "\n",
    "Before you can read, append or write to a file, you will first have to it using\n",
    "Python's built-in open() function. "
   ]
  },
  {
   "cell_type": "markdown",
   "metadata": {},
   "source": [
    "---reading a file----\n",
    "<filePointerVariable>=open(<fileName>,<mode>)\n",
    "\n"
   ]
  },
  {
   "cell_type": "raw",
   "metadata": {},
   "source": [
    "<filePointerVariable>=open(<fileName>,<mode>)\n"
   ]
  },
  {
   "cell_type": "code",
   "execution_count": 1,
   "metadata": {},
   "outputs": [],
   "source": [
    "fp=open(\"output.txt\",'r')"
   ]
  },
  {
   "cell_type": "code",
   "execution_count": 2,
   "metadata": {},
   "outputs": [
    {
     "data": {
      "text/plain": [
       "_io.TextIOWrapper"
      ]
     },
     "execution_count": 2,
     "metadata": {},
     "output_type": "execute_result"
    }
   ],
   "source": [
    "type(fp)"
   ]
  },
  {
   "cell_type": "code",
   "execution_count": 3,
   "metadata": {},
   "outputs": [
    {
     "data": {
      "text/plain": [
       "<_io.TextIOWrapper name='output.txt' mode='r' encoding='cp1252'>"
      ]
     },
     "execution_count": 3,
     "metadata": {},
     "output_type": "execute_result"
    }
   ],
   "source": [
    "fp"
   ]
  },
  {
   "cell_type": "code",
   "execution_count": 4,
   "metadata": {},
   "outputs": [],
   "source": [
    "fp.close()"
   ]
  },
  {
   "cell_type": "markdown",
   "metadata": {},
   "source": [
    "### Reading file as a string"
   ]
  },
  {
   "cell_type": "code",
   "execution_count": 8,
   "metadata": {},
   "outputs": [],
   "source": [
    "fp=open(\"output.txt\",'r')"
   ]
  },
  {
   "cell_type": "code",
   "execution_count": 5,
   "metadata": {},
   "outputs": [
    {
     "data": {
      "text/plain": [
       "['_CHUNK_SIZE',\n",
       " '__class__',\n",
       " '__del__',\n",
       " '__delattr__',\n",
       " '__dict__',\n",
       " '__dir__',\n",
       " '__doc__',\n",
       " '__enter__',\n",
       " '__eq__',\n",
       " '__exit__',\n",
       " '__format__',\n",
       " '__ge__',\n",
       " '__getattribute__',\n",
       " '__getstate__',\n",
       " '__gt__',\n",
       " '__hash__',\n",
       " '__init__',\n",
       " '__init_subclass__',\n",
       " '__iter__',\n",
       " '__le__',\n",
       " '__lt__',\n",
       " '__ne__',\n",
       " '__new__',\n",
       " '__next__',\n",
       " '__reduce__',\n",
       " '__reduce_ex__',\n",
       " '__repr__',\n",
       " '__setattr__',\n",
       " '__sizeof__',\n",
       " '__str__',\n",
       " '__subclasshook__',\n",
       " '_checkClosed',\n",
       " '_checkReadable',\n",
       " '_checkSeekable',\n",
       " '_checkWritable',\n",
       " '_finalizing',\n",
       " 'buffer',\n",
       " 'close',\n",
       " 'closed',\n",
       " 'detach',\n",
       " 'encoding',\n",
       " 'errors',\n",
       " 'fileno',\n",
       " 'flush',\n",
       " 'isatty',\n",
       " 'line_buffering',\n",
       " 'mode',\n",
       " 'name',\n",
       " 'newlines',\n",
       " 'read',\n",
       " 'readable',\n",
       " 'readline',\n",
       " 'readlines',\n",
       " 'reconfigure',\n",
       " 'seek',\n",
       " 'seekable',\n",
       " 'tell',\n",
       " 'truncate',\n",
       " 'writable',\n",
       " 'write',\n",
       " 'write_through',\n",
       " 'writelines']"
      ]
     },
     "execution_count": 5,
     "metadata": {},
     "output_type": "execute_result"
    }
   ],
   "source": [
    "dir(fp)"
   ]
  },
  {
   "cell_type": "code",
   "execution_count": 6,
   "metadata": {},
   "outputs": [
    {
     "name": "stdout",
     "output_type": "stream",
     "text": [
      "My Test File\n",
      "second line\n",
      "third line\n"
     ]
    }
   ],
   "source": [
    "fp=open(\"output.txt\",'r')\n",
    "s=fp.read()\n",
    "print(s)\n",
    "fp.close()"
   ]
  },
  {
   "cell_type": "code",
   "execution_count": 7,
   "metadata": {},
   "outputs": [
    {
     "name": "stdout",
     "output_type": "stream",
     "text": [
      "My Test File\n",
      "second \n"
     ]
    }
   ],
   "source": [
    "fp=open(\"output.txt\",'r')\n",
    "s=fp.read(20)\n",
    "print(s)\n",
    "fp.close()"
   ]
  },
  {
   "cell_type": "markdown",
   "metadata": {},
   "source": [
    "### Reading file line by line\n"
   ]
  },
  {
   "cell_type": "code",
   "execution_count": 8,
   "metadata": {},
   "outputs": [
    {
     "name": "stdout",
     "output_type": "stream",
     "text": [
      "p\n",
      "y\n",
      "t\n",
      "h\n",
      "o\n",
      "n\n"
     ]
    }
   ],
   "source": [
    "for i in \"python\":\n",
    "    print (i)"
   ]
  },
  {
   "cell_type": "code",
   "execution_count": 10,
   "metadata": {},
   "outputs": [],
   "source": [
    "fp=open(\"output.txt\",'r')"
   ]
  },
  {
   "cell_type": "code",
   "execution_count": 11,
   "metadata": {},
   "outputs": [
    {
     "data": {
      "text/plain": [
       "'My Test File\\n'"
      ]
     },
     "execution_count": 11,
     "metadata": {},
     "output_type": "execute_result"
    }
   ],
   "source": [
    "fp.readline()"
   ]
  },
  {
   "cell_type": "code",
   "execution_count": 12,
   "metadata": {},
   "outputs": [
    {
     "data": {
      "text/plain": [
       "'second line\\n'"
      ]
     },
     "execution_count": 12,
     "metadata": {},
     "output_type": "execute_result"
    }
   ],
   "source": [
    "fp.readline()"
   ]
  },
  {
   "cell_type": "code",
   "execution_count": 13,
   "metadata": {},
   "outputs": [
    {
     "data": {
      "text/plain": [
       "'third line'"
      ]
     },
     "execution_count": 13,
     "metadata": {},
     "output_type": "execute_result"
    }
   ],
   "source": [
    "fp.readline()"
   ]
  },
  {
   "cell_type": "code",
   "execution_count": 14,
   "metadata": {},
   "outputs": [
    {
     "data": {
      "text/plain": [
       "''"
      ]
     },
     "execution_count": 14,
     "metadata": {},
     "output_type": "execute_result"
    }
   ],
   "source": [
    "fp.readline()"
   ]
  },
  {
   "cell_type": "code",
   "execution_count": 15,
   "metadata": {},
   "outputs": [
    {
     "data": {
      "text/plain": [
       "''"
      ]
     },
     "execution_count": 15,
     "metadata": {},
     "output_type": "execute_result"
    }
   ],
   "source": [
    "fp.readline()\n"
   ]
  },
  {
   "cell_type": "code",
   "execution_count": 16,
   "metadata": {},
   "outputs": [
    {
     "data": {
      "text/plain": [
       "''"
      ]
     },
     "execution_count": 16,
     "metadata": {},
     "output_type": "execute_result"
    }
   ],
   "source": [
    "fp.readline()\n"
   ]
  },
  {
   "cell_type": "code",
   "execution_count": 17,
   "metadata": {},
   "outputs": [
    {
     "data": {
      "text/plain": [
       "''"
      ]
     },
     "execution_count": 17,
     "metadata": {},
     "output_type": "execute_result"
    }
   ],
   "source": [
    "fp.readline()\n"
   ]
  },
  {
   "cell_type": "code",
   "execution_count": 18,
   "metadata": {},
   "outputs": [],
   "source": [
    "fp.close()"
   ]
  },
  {
   "cell_type": "code",
   "execution_count": 20,
   "metadata": {},
   "outputs": [
    {
     "name": "stdout",
     "output_type": "stream",
     "text": [
      "My Test File\n",
      "\n",
      "second line\n",
      "\n",
      "third line\n"
     ]
    }
   ],
   "source": [
    "fp=open(\"output.txt\",'r')\n",
    "for i in fp:\n",
    "    print(i)\n",
    "fp.close()"
   ]
  },
  {
   "cell_type": "code",
   "execution_count": 21,
   "metadata": {},
   "outputs": [
    {
     "name": "stdout",
     "output_type": "stream",
     "text": [
      "My Test File\n",
      "\n",
      "second line\n",
      "\n",
      "third line\n",
      "after file handling\n"
     ]
    }
   ],
   "source": [
    "with open('output.txt', 'r') as fp:\n",
    "    for i in fp:\n",
    "        print(i)\n",
    "print(\"after file handling\")"
   ]
  },
  {
   "cell_type": "code",
   "execution_count": 22,
   "metadata": {},
   "outputs": [
    {
     "name": "stdout",
     "output_type": "stream",
     "text": [
      "My Test File\n",
      "\n",
      "second line\n",
      "\n",
      "third line\n"
     ]
    }
   ],
   "source": [
    "with open('output.txt', 'r') as fp:\n",
    "    while True:\n",
    "        cur_line = fp.readline()\n",
    "        # If the result is an empty string\n",
    "        if cur_line == '':\n",
    "            # We have reached the end of the file\n",
    "            break\n",
    "        print(cur_line)"
   ]
  },
  {
   "cell_type": "markdown",
   "metadata": {},
   "source": [
    "### Reading file as a LIST"
   ]
  },
  {
   "cell_type": "code",
   "execution_count": 23,
   "metadata": {},
   "outputs": [],
   "source": [
    "fp=open(\"output.txt\",'r')"
   ]
  },
  {
   "cell_type": "code",
   "execution_count": 24,
   "metadata": {},
   "outputs": [
    {
     "data": {
      "text/plain": [
       "['My Test File\\n', 'second line\\n', 'third line']"
      ]
     },
     "execution_count": 24,
     "metadata": {},
     "output_type": "execute_result"
    }
   ],
   "source": [
    "a=fp.readlines()\n",
    "a"
   ]
  },
  {
   "cell_type": "code",
   "execution_count": 25,
   "metadata": {},
   "outputs": [
    {
     "data": {
      "text/plain": [
       "'third line'"
      ]
     },
     "execution_count": 25,
     "metadata": {},
     "output_type": "execute_result"
    }
   ],
   "source": [
    "a[2]"
   ]
  },
  {
   "cell_type": "code",
   "execution_count": 26,
   "metadata": {},
   "outputs": [
    {
     "data": {
      "text/plain": [
       "['My Test File\\n', 'second line\\n']"
      ]
     },
     "execution_count": 26,
     "metadata": {},
     "output_type": "execute_result"
    }
   ],
   "source": [
    "a[0:2]"
   ]
  },
  {
   "cell_type": "code",
   "execution_count": 27,
   "metadata": {},
   "outputs": [],
   "source": [
    "fp.close()"
   ]
  },
  {
   "cell_type": "markdown",
   "metadata": {},
   "source": [
    "#### Writing data to a file"
   ]
  },
  {
   "cell_type": "code",
   "execution_count": 28,
   "metadata": {},
   "outputs": [],
   "source": [
    "fp=open(\"output12.txt\", 'w')"
   ]
  },
  {
   "cell_type": "code",
   "execution_count": 29,
   "metadata": {},
   "outputs": [],
   "source": [
    "fp.write(\"this is for my test string\\n\")\n",
    "fp.close()"
   ]
  },
  {
   "cell_type": "code",
   "execution_count": 30,
   "metadata": {},
   "outputs": [],
   "source": [
    "fp=open(\"output12.txt\", 'w')\n",
    "a=\"this is for file operation write operation\"\n",
    "fp.write(a)\n",
    "line2 = \"\\nthe emblem of our land for write operation.\"\n",
    "fp.write(line2)\n",
    "fp.write(\"  this is for my test string\\n\")\n",
    "fp.close()"
   ]
  },
  {
   "cell_type": "markdown",
   "metadata": {},
   "source": [
    "#### Append mode"
   ]
  },
  {
   "cell_type": "code",
   "execution_count": 23,
   "metadata": {},
   "outputs": [],
   "source": [
    "fh = open(\"output12.txt\", \"a\")\n",
    "fh.write(\"\\nHello World again to append2\")\n",
    "fh.close()"
   ]
  },
  {
   "cell_type": "code",
   "execution_count": 31,
   "metadata": {},
   "outputs": [
    {
     "name": "stdout",
     "output_type": "stream",
     "text": [
      "The filepointer is at byte : 0\n",
      "After reading, the filepointer is at: 35\n"
     ]
    }
   ],
   "source": [
    "# open the file file2.txt in read mode  \n",
    "fileptr = open(\"output.txt\",\"r\")  \n",
    "  \n",
    "#initially the filepointer is at 0   \n",
    "print(\"The filepointer is at byte :\",fileptr.tell())  \n",
    "  \n",
    "#reading the content of the file  \n",
    "content = fileptr.read();  \n",
    "  \n",
    "#after the read operation file pointer modifies. tell() returns the location of the fileptr.   \n",
    "  \n",
    "print(\"After reading, the filepointer is at:\",fileptr.tell())  "
   ]
  },
  {
   "cell_type": "markdown",
   "metadata": {},
   "source": [
    "File Pointer positions\n",
    "Python provides the tell() method which is used to print the byte number at which the file pointer exists. Consider the following example."
   ]
  },
  {
   "cell_type": "markdown",
   "metadata": {},
   "source": [
    "Modifying file pointer position\n",
    "In the real world applications, sometimes we need to change the file pointer location externally since we may need to read or write the content at various locations.\n",
    "\n",
    "For this purpose, the python provides us the seek() method which enables us to modify the file pointer position externally.\n",
    "\n",
    "The syntax to use the seek() method is given below.\n",
    "\n",
    "<file-ptr>.seek(offset[, from)  \n",
    "The seek() method accepts two parameters:\n",
    "\n",
    "offset: It refers to the new position of the file pointer within the file.\n",
    "\n",
    "from: It indicates the reference position from where the bytes are to be moved. If it is set to 0, the beginning of the file is used as the reference position. If it is set to 1, the current position of the file pointer is used as the reference position. If it is set to 2, the end of the file pointer is used as the reference position.\n",
    "\n",
    "Consider the following example."
   ]
  },
  {
   "cell_type": "code",
   "execution_count": 32,
   "metadata": {},
   "outputs": [
    {
     "name": "stdout",
     "output_type": "stream",
     "text": [
      "The filepointer is at byte : 0\n",
      "After reading, the filepointer is at: 10\n"
     ]
    }
   ],
   "source": [
    "# open the file file2.txt in read mode  \n",
    "fileptr = open(\"output.txt\",\"r\")  \n",
    "  \n",
    "#initially the filepointer is at 0   \n",
    "print(\"The filepointer is at byte :\",fileptr.tell())  \n",
    "  \n",
    "#changing the file pointer location to 10.  \n",
    "fileptr.seek(10);  \n",
    "  \n",
    "#tell() returns the location of the fileptr.   \n",
    "print(\"After reading, the filepointer is at:\",fileptr.tell())  "
   ]
  },
  {
   "cell_type": "code",
   "execution_count": 33,
   "metadata": {},
   "outputs": [
    {
     "name": "stdout",
     "output_type": "stream",
     "text": [
      "Initial file pointer position 0\n",
      "After seek file pointer position 4\n"
     ]
    },
    {
     "ename": "NameError",
     "evalue": "name 'fh' is not defined",
     "output_type": "error",
     "traceback": [
      "\u001b[1;31m---------------------------------------------------------------------------\u001b[0m",
      "\u001b[1;31mNameError\u001b[0m                                 Traceback (most recent call last)",
      "\u001b[1;32m<ipython-input-33-295bc9ce7f9b>\u001b[0m in \u001b[0;36m<module>\u001b[1;34m\u001b[0m\n\u001b[0;32m      5\u001b[0m \u001b[0mi\u001b[0m\u001b[1;33m=\u001b[0m\u001b[0mfc\u001b[0m\u001b[1;33m.\u001b[0m\u001b[0mtell\u001b[0m\u001b[1;33m(\u001b[0m\u001b[1;33m)\u001b[0m\u001b[1;33m\u001b[0m\u001b[1;33m\u001b[0m\u001b[0m\n\u001b[0;32m      6\u001b[0m \u001b[0mprint\u001b[0m \u001b[1;33m(\u001b[0m\u001b[1;34m\"After seek file pointer position\"\u001b[0m\u001b[1;33m,\u001b[0m\u001b[0mi\u001b[0m\u001b[1;33m)\u001b[0m\u001b[1;33m\u001b[0m\u001b[1;33m\u001b[0m\u001b[0m\n\u001b[1;32m----> 7\u001b[1;33m \u001b[0mfh\u001b[0m\u001b[1;33m.\u001b[0m\u001b[0mclose\u001b[0m\u001b[1;33m(\u001b[0m\u001b[1;33m)\u001b[0m\u001b[1;33m\u001b[0m\u001b[1;33m\u001b[0m\u001b[0m\n\u001b[0m",
      "\u001b[1;31mNameError\u001b[0m: name 'fh' is not defined"
     ]
    }
   ],
   "source": [
    "fc=open(\"output12.txt\", 'r+')\n",
    "i=fc.tell()\n",
    "print (\"Initial file pointer position\",i)\n",
    "fc.seek(4)\n",
    "i=fc.tell()\n",
    "print (\"After seek file pointer position\",i)\n",
    "fh.close()"
   ]
  },
  {
   "cell_type": "code",
   "execution_count": 34,
   "metadata": {},
   "outputs": [
    {
     "name": "stdout",
     "output_type": "stream",
     "text": [
      "Initial file pointer position 0\n",
      "After seek file pointer position 4\n"
     ]
    }
   ],
   "source": [
    "fc=open(\"output12.txt\", 'r+')\n",
    "i=fc.tell()\n",
    "print (\"Initial file pointer position\",i)\n",
    "fc.seek(4)\n",
    "i=fc.tell()\n",
    "print (\"After seek file pointer position\",i)\n",
    "fc.write(\" to test\")\n",
    "fh.close()"
   ]
  },
  {
   "cell_type": "code",
   "execution_count": 27,
   "metadata": {},
   "outputs": [
    {
     "name": "stdout",
     "output_type": "stream",
     "text": [
      "4\n"
     ]
    }
   ],
   "source": [
    "fc=open(\"output12.txt\", 'r+')\n",
    "fc.seek(4)\n",
    "i=fc.tell()\n",
    "print (i)\n",
    "fh.close()"
   ]
  },
  {
   "cell_type": "code",
   "execution_count": null,
   "metadata": {},
   "outputs": [],
   "source": []
  },
  {
   "cell_type": "code",
   "execution_count": 28,
   "metadata": {},
   "outputs": [
    {
     "name": "stdout",
     "output_type": "stream",
     "text": [
      "this is after autom close \n"
     ]
    }
   ],
   "source": [
    "with open('output.txt', 'r') as in_file, open('output_file.txt', 'w') as out_file:\n",
    "    for line in in_file:\n",
    "        out_file.write(line)\n",
    "\n",
    "print(\"this is after autom close \")"
   ]
  },
  {
   "cell_type": "markdown",
   "metadata": {},
   "source": [
    "Shutil module in Python provides many functions of high-level operations on files and collections of files. It comes under Python’s standard utility modules. This module helps in automating process of copying and removal of files and directories.\n",
    "\n",
    "shutil.copyfile() method in Python is used to copy the content of source file to destination file. Metadata of the file is not copied. Source and destination must represent a file and destination must be writable. If destination already exists then it will be replaced with the source file otherwise a new file will be created.\n",
    "If source and destination represents the same file then SameFileError exception will be raised.\n",
    "\n",
    "Syntax: shutil.copyfile(source, destination, *, follow_symlinks = True)"
   ]
  },
  {
   "cell_type": "markdown",
   "metadata": {},
   "source": [
    "import shutil\n",
    "shutil.copyfile(src, dst)"
   ]
  },
  {
   "cell_type": "code",
   "execution_count": 34,
   "metadata": {},
   "outputs": [
    {
     "data": {
      "text/plain": [
       "'C:\\\\Users\\\\rawat\\\\PythonTest\\\\destination.txt'"
      ]
     },
     "execution_count": 34,
     "metadata": {},
     "output_type": "execute_result"
    }
   ],
   "source": [
    "import shutil\n",
    "source='C:\\\\python.txt'\n",
    "destination='C:\\\\Users\\\\rawat\\\\PythonTest\\\\destination.txt'\n",
    "shutil.copyfile(source, destination)"
   ]
  },
  {
   "cell_type": "markdown",
   "metadata": {},
   "source": [
    "# Assignment\n",
    "* find a string \"Python\" in a file\n",
    "* till now whatever programs we did , do with file handling\n",
    "* With open is used for what?\n",
    "* Write string, list, tuple, set and dictionary data to file\n",
    "* Prompt for a number N and file F, and display the first N lines of F.\n",
    "* Write a \"pager\" program. Your solution should prompt for a filename, and display the text file 25 lines at a time, pausing each time to ask the user to \"press a key to continue.\"\n",
    "* Create a crude and elementary text file editor. Your solution is menudriven, with the following options: a. create file [prompt for filename and any number of lines of input], b. display file [dump its contents to the screen], c. save file, and d. quit.\n",
    "* Write a program to compare two text files. If they are different, give the line and column numbers in the files where the first difference occurs.\n",
    "* https://knightlab.northwestern.edu/2014/06/05/five-mini-programming-projects-for-the-python-beginner/\n",
    "* Find the errors in log file\n",
    "* You have 2 log files , merge them and sort by time , first charcets are time\n"
   ]
  },
  {
   "cell_type": "code",
   "execution_count": null,
   "metadata": {},
   "outputs": [],
   "source": [
    "for \"python\" in \"I love python\":\n",
    "    print (\"hello\")"
   ]
  },
  {
   "cell_type": "code",
   "execution_count": null,
   "metadata": {},
   "outputs": [],
   "source": []
  },
  {
   "cell_type": "code",
   "execution_count": null,
   "metadata": {},
   "outputs": [],
   "source": []
  }
 ],
 "metadata": {
  "kernelspec": {
   "display_name": "Python 3",
   "language": "python",
   "name": "python3"
  },
  "language_info": {
   "codemirror_mode": {
    "name": "ipython",
    "version": 3
   },
   "file_extension": ".py",
   "mimetype": "text/x-python",
   "name": "python",
   "nbconvert_exporter": "python",
   "pygments_lexer": "ipython3",
   "version": "3.7.3"
  }
 },
 "nbformat": 4,
 "nbformat_minor": 2
}
