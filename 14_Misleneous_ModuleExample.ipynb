{
 "cells": [
  {
   "cell_type": "markdown",
   "metadata": {},
   "source": [
    "In Python, date, time and datetime classes provides a number of function to deal with dates, times and time intervals. Date and datetime are an object in Python, so when you manipulate them, you are actually manipulating objects and not string or timestamps. Whenever you manipulate dates or time, you need to import datetime function.\n",
    "\n",
    "The datetime classes in Python are categorized into main 5 classes.\n",
    "\n",
    "* date – Manipulate just date ( Month, day, year)\n",
    "* time – Time independent of the day (Hour, minute, second, microsecond)\n",
    "* datetime – Combination of time and date (Month, day, year, hour, second, microsecond)\n",
    "* timedelta— A duration of time used for manipulating dates\n",
    "* tzinfo— An abstract class for dealing with time zones"
   ]
  },
  {
   "cell_type": "code",
   "execution_count": 1,
   "metadata": {},
   "outputs": [
    {
     "name": "stdout",
     "output_type": "stream",
     "text": [
      "['_STRUCT_TM_ITEMS', '__doc__', '__loader__', '__name__', '__package__', '__spec__', 'altzone', 'asctime', 'clock', 'ctime', 'daylight', 'get_clock_info', 'gmtime', 'localtime', 'mktime', 'monotonic', 'perf_counter', 'process_time', 'sleep', 'strftime', 'strptime', 'struct_time', 'time', 'timezone', 'tzname']\n"
     ]
    }
   ],
   "source": [
    "import time\n",
    "print (dir(time))\n",
    "# print (dir(datetime))"
   ]
  },
  {
   "cell_type": "code",
   "execution_count": 2,
   "metadata": {},
   "outputs": [
    {
     "name": "stdout",
     "output_type": "stream",
     "text": [
      "['MAXYEAR', 'MINYEAR', '__builtins__', '__cached__', '__doc__', '__file__', '__loader__', '__name__', '__package__', '__spec__', 'date', 'datetime', 'datetime_CAPI', 'time', 'timedelta', 'timezone', 'tzinfo']\n"
     ]
    }
   ],
   "source": [
    "import datetime\n",
    "print (dir(datetime))"
   ]
  },
  {
   "cell_type": "code",
   "execution_count": 3,
   "metadata": {},
   "outputs": [
    {
     "data": {
      "text/plain": [
       "['__class__',\n",
       " '__delattr__',\n",
       " '__dir__',\n",
       " '__doc__',\n",
       " '__eq__',\n",
       " '__format__',\n",
       " '__ge__',\n",
       " '__getattribute__',\n",
       " '__gt__',\n",
       " '__hash__',\n",
       " '__init__',\n",
       " '__init_subclass__',\n",
       " '__le__',\n",
       " '__lt__',\n",
       " '__ne__',\n",
       " '__new__',\n",
       " '__reduce__',\n",
       " '__reduce_ex__',\n",
       " '__repr__',\n",
       " '__setattr__',\n",
       " '__sizeof__',\n",
       " '__str__',\n",
       " '__subclasshook__',\n",
       " 'dst',\n",
       " 'fold',\n",
       " 'hour',\n",
       " 'isoformat',\n",
       " 'max',\n",
       " 'microsecond',\n",
       " 'min',\n",
       " 'minute',\n",
       " 'replace',\n",
       " 'resolution',\n",
       " 'second',\n",
       " 'strftime',\n",
       " 'tzinfo',\n",
       " 'tzname',\n",
       " 'utcoffset']"
      ]
     },
     "execution_count": 3,
     "metadata": {},
     "output_type": "execute_result"
    }
   ],
   "source": [
    "from datetime import time\n",
    "dir(time)\n"
   ]
  },
  {
   "cell_type": "code",
   "execution_count": 7,
   "metadata": {},
   "outputs": [
    {
     "name": "stdout",
     "output_type": "stream",
     "text": [
      "2018-08-14 21:19:20.574336\n",
      "21:19:20.574336\n",
      "1\n",
      "Today is day number 1\n",
      "which is a tuesday\n"
     ]
    }
   ],
   "source": [
    "from datetime import date\n",
    "from datetime import time\n",
    "from datetime import datetime\n",
    "def main():\n",
    "    ##DATETIME OBJECTS\n",
    "    #Get today's date from datetime class\n",
    "    today=datetime.now()\n",
    "    print (today)\n",
    "    #Get the current time\n",
    "    t = datetime.time(datetime.now())\n",
    "    print (t)\n",
    "    #print \"The current time is\", t\n",
    "    #weekday returns 0 (monday) through 6 (sunday)\n",
    "    wd=date.weekday(today)\n",
    "    #Days start at 0 for monday\n",
    "    print(wd)\n",
    "    days= [\"monday\",\"tuesday\",\"wednesday\",\"thursday\",\"friday\",\"saturday\",\"sunday\"]\n",
    "    print(\"Today is day number %d\" % wd)\n",
    "    print(\"which is a \" + days[wd])\n",
    "\n",
    "if __name__== \"__main__\":\n",
    "    main()"
   ]
  },
  {
   "cell_type": "code",
   "execution_count": 8,
   "metadata": {},
   "outputs": [
    {
     "name": "stdout",
     "output_type": "stream",
     "text": [
      "01:02:03\n",
      "hour  : 1\n",
      "minute: 2\n",
      "second: 3\n",
      "microsecond: 0\n",
      "tzinfo: None\n"
     ]
    }
   ],
   "source": [
    "import datetime\n",
    "t = datetime.time(1, 2, 3)\n",
    "print (t)\n",
    "print ('hour  :', t.hour)\n",
    "print ('minute:', t.minute)\n",
    "print ('second:', t.second)\n",
    "print ('microsecond:', t.microsecond)\n",
    "print ('tzinfo:', t.tzinfo)"
   ]
  },
  {
   "cell_type": "code",
   "execution_count": 9,
   "metadata": {},
   "outputs": [
    {
     "name": "stdout",
     "output_type": "stream",
     "text": [
      "%C formatting  :  Tue Aug 14 21:21:04 2018\n",
      "%x formatting  :  08/14/18\n",
      "%X formatting  :  21:21:04\n"
     ]
    }
   ],
   "source": [
    "from datetime import datetime\n",
    "def main():\n",
    "   #Times and dates can be formatted using a set of predefined string\n",
    "   #Control codes\n",
    "      now= datetime.now() #get the current date and time\n",
    "      #%c - local date and time, %x-local's date, %X- local's time\n",
    "      print(\"%C formatting  : \",now.strftime(\"%c\"))\n",
    "      print(\"%x formatting  : \",now.strftime(\"%x\"))\n",
    "      print(\"%X formatting  : \",now.strftime(\"%X\"))\n",
    "##### Time Formatting ####\n",
    "      #%I/%H - 12/24 Hour, %M - minute, %S - second, %p - local's AM/PM\n",
    "#       print(\"%I %M formatting  : \",now.strftime(\"%I:%M:%S %p\")) # 12-Hour:Minute:Second:AM\n",
    "#       print(now.strftime(\"%H:%M\")) # 24-Hour:Minute\n",
    "\n",
    "if __name__== \"__main__\":\n",
    "    main()"
   ]
  },
  {
   "cell_type": "code",
   "execution_count": 10,
   "metadata": {},
   "outputs": [
    {
     "name": "stdout",
     "output_type": "stream",
     "text": [
      "Before the sleep statement\n",
      "After the sleep statement\n"
     ]
    }
   ],
   "source": [
    "import time\n",
    "print(\"Before the sleep statement\")\n",
    "time.sleep(5)\n",
    "print(\"After the sleep statement\")"
   ]
  },
  {
   "cell_type": "code",
   "execution_count": 12,
   "metadata": {},
   "outputs": [
    {
     "name": "stdout",
     "output_type": "stream",
     "text": [
      "Your IP Address is: \n",
      "MOB81221\n",
      "192.168.43.254\n"
     ]
    }
   ],
   "source": [
    "import socket\n",
    "# dir(socket)\n",
    "print(\"Your IP Address is: \")\n",
    "print(socket.gethostname())\n",
    "# print(socket.gethostbyname())\n",
    "print(socket.gethostbyname(socket.gethostname()))\n",
    "# print()\n",
    "# print dir(socket.gethostbyname)"
   ]
  },
  {
   "cell_type": "code",
   "execution_count": null,
   "metadata": {},
   "outputs": [],
   "source": [
    "# import socket\n",
    "# while True:\n",
    "# \tprint(\"Want to get IP Address ? (y/n): \")\n",
    "# \tcheck = input()\n",
    "# \tif check == 'n':\n",
    "# \t\tbreak\n",
    "# \telse:\n",
    "# \t\tprint(\"Your IP Address is: \")\n",
    "# \t\tprint(socket.gethostbyname(socket.gethostname()))\n",
    "# \t\tprint()\n"
   ]
  },
  {
   "cell_type": "code",
   "execution_count": null,
   "metadata": {},
   "outputs": [],
   "source": [
    "import os\n",
    "print dir(os)\n",
    "# # print type(os)\n",
    "print os.getcwd()\n",
    "print os.listdir('.')\n",
    "\n",
    "dirpath= input(\"enter path\")\n",
    "os.chdir(dirpath)# cd command\n",
    "\n",
    "os.chdir('./video')# cd command\n",
    "# print os.getcwd()\n",
    "\n",
    "os.mkdir('C:\\My\\P\\Study\\Python\\kash')\n",
    "os.rename('Dir41133_raghav1','newDir116632332')\n",
    "os.rmdir('newDir1166')\n"
   ]
  }
 ],
 "metadata": {
  "kernelspec": {
   "display_name": "Python 3",
   "language": "python",
   "name": "python3"
  },
  "language_info": {
   "codemirror_mode": {
    "name": "ipython",
    "version": 3
   },
   "file_extension": ".py",
   "mimetype": "text/x-python",
   "name": "python",
   "nbconvert_exporter": "python",
   "pygments_lexer": "ipython3",
   "version": "3.6.4"
  }
 },
 "nbformat": 4,
 "nbformat_minor": 2
}
