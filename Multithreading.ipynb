{
 "cells": [
  {
   "cell_type": "markdown",
   "metadata": {},
   "source": [
    "thread.start_new_thread ( function, args[, kwargs] )\n"
   ]
  },
  {
   "cell_type": "markdown",
   "metadata": {},
   "source": [
    "run():\tIt is the entry point function for any thread.\n",
    "\n",
    "start():\tThe start() method triggers a thread when run method is called.\n",
    "\n",
    "join([time]):\tThe join() method enables a program to wait for threads to terminate.\n",
    "\n",
    "isAlive():\tThe isAlive() method verifies an active thread.\n",
    "\n",
    "getName():\tThe getName() method retrieves the name of a thread.\n",
    "\n",
    "setName():\tThe setName() method updates the name of a thread."
   ]
  },
  {
   "cell_type": "code",
   "execution_count": 3,
   "metadata": {},
   "outputs": [
    {
     "name": "stdout",
     "output_type": "stream",
     "text": [
      "Thread-1: Sun Dec  2 20:51:51 2018\n",
      "Thread-2: Sun Dec  2 20:51:53 2018\n",
      "Thread-1: Sun Dec  2 20:51:53 2018\n",
      "Thread-1: Sun Dec  2 20:51:55 2018\n",
      "Thread-2: Sun Dec  2 20:51:57 2018\n",
      "Thread-1: Sun Dec  2 20:51:57 2018\n",
      "Thread-1: Sun Dec  2 20:51:59 2018\n",
      "Thread-2: Sun Dec  2 20:52:01 2018\n",
      "Thread-2: Sun Dec  2 20:52:05 2018\n",
      "Thread-2: Sun Dec  2 20:52:09 2018\n"
     ]
    }
   ],
   "source": [
    "import _thread\n",
    "import threading \n",
    "\n",
    "import time\n",
    "\n",
    "# Define a function for the thread\n",
    "def print_time( threadName, delay):\n",
    "   count = 0\n",
    "   while count < 5:\n",
    "      time.sleep(delay)\n",
    "      count += 1\n",
    "      print( \"%s: %s\" % ( threadName, time.ctime(time.time()) ))\n",
    "\n",
    "# Create two threads as follows\n",
    "# t1 = threading.Thread(print_time, (\"Thread-1\", 2, )) \n",
    "# t2 = threading.Thread(print_time, (\"Thread-2\", 4, )) \n",
    "t1 = threading.Thread(target=print_time, args=(\"Thread-1\", 2, )) \n",
    "t1.start()\n",
    "t2 = threading.Thread(target=print_time, args=(\"Thread-2\", 4, )) \n",
    "t2.start()\n",
    "\n",
    "# thread.start_new_thread( print_time, (\"Thread-1\", 2, ) )\n",
    "# thread.start_new_thread( print_time, (\"Thread-2\", 4, ) )"
   ]
  },
  {
   "cell_type": "code",
   "execution_count": 4,
   "metadata": {},
   "outputs": [
    {
     "name": "stdout",
     "output_type": "stream",
     "text": [
      "Square: 100Cube: 1000\n",
      "\n",
      "Done!\n"
     ]
    }
   ],
   "source": [
    "import threading \n",
    "  \n",
    "def print_cube(num): \n",
    "    \"\"\" \n",
    "    function to print cube of given num \n",
    "    \"\"\"\n",
    "    print(\"Cube: {}\".format(num * num * num)) \n",
    "  \n",
    "def print_square(num): \n",
    "    \"\"\" \n",
    "    function to print square of given num \n",
    "    \"\"\"\n",
    "    print(\"Square: {}\".format(num * num)) \n",
    "  \n",
    "if __name__ == \"__main__\": \n",
    "    # creating thread \n",
    "    t1 = threading.Thread(target=print_square, args=(10,)) \n",
    "    t2 = threading.Thread(target=print_cube, args=(10,)) \n",
    "  \n",
    "    # starting thread 1 \n",
    "    t1.start() \n",
    "    # starting thread 2 \n",
    "    t2.start() \n",
    "  \n",
    "    # wait until thread 1 is completely executed \n",
    "    t1.join() \n",
    "    # wait until thread 2 is completely executed \n",
    "    t2.join() \n",
    "  \n",
    "    # both threads completely executed \n",
    "    print(\"Done!\") "
   ]
  },
  {
   "cell_type": "code",
   "execution_count": 10,
   "metadata": {},
   "outputs": [
    {
     "name": "stdout",
     "output_type": "stream",
     "text": [
      "ID of process running main program: 13172\n",
      "Main thread name: MainThread\n",
      "Task 1 assigned to thread: t1\n",
      "ID of process running task 1: 13172\n",
      "Task 2 assigned to thread: t2\n",
      "ID of process running task 2: 13172\n"
     ]
    }
   ],
   "source": [
    "import threading \n",
    "import os \n",
    "  \n",
    "def task1(): \n",
    "    print(\"Task 1 assigned to thread: {}\".format(threading.current_thread().name)) \n",
    "    print(\"ID of process running task 1: {}\".format(os.getpid())) \n",
    "  \n",
    "def task2(): \n",
    "    print(\"Task 2 assigned to thread: {}\".format(threading.current_thread().name)) \n",
    "    print(\"ID of process running task 2: {}\".format(os.getpid())) \n",
    "  \n",
    "if __name__ == \"__main__\": \n",
    "  \n",
    "    # print ID of current process \n",
    "    print(\"ID of process running main program: {}\".format(os.getpid())) \n",
    "  \n",
    "    # print name of main thread \n",
    "    print(\"Main thread name: {}\".format(threading.main_thread().name)) \n",
    "  \n",
    "    # creating threads \n",
    "    t1 = threading.Thread(target=task1, name='t1') \n",
    "    t2 = threading.Thread(target=task2, name='t2')   \n",
    "  \n",
    "    # starting threads \n",
    "    t1.start() \n",
    "    t2.start() \n",
    "  \n",
    "    # wait until all threads finish \n",
    "    t1.join() \n",
    "    t2.join() "
   ]
  },
  {
   "cell_type": "code",
   "execution_count": 7,
   "metadata": {},
   "outputs": [
    {
     "name": "stdout",
     "output_type": "stream",
     "text": [
      "Thread 0 going to sleep for 5 seconds.\n",
      "Thread 1 going to sleep for 5 seconds.\n",
      "Thread 2 going to sleep for 5 seconds.\n",
      "Thread 3 going to sleep for 5 seconds.Thread 4 going to sleep for 5 seconds.\n",
      "\n",
      "Thread 5 going to sleep for 5 seconds.\n",
      "Thread 6 going to sleep for 5 seconds.\n",
      "Thread 7 going to sleep for 5 seconds.Thread 8 going to sleep for 5 seconds.\n",
      "Thread 9 going to sleep for 5 seconds.\n",
      "\n",
      "Thread 0 is awake now.\n",
      "Thread 1 is awake now.\n",
      "Thread 2 is awake now.\n",
      "Thread 4 is awake now.Thread 3 is awake now.\n",
      "\n",
      "Thread 5 is awake now.\n",
      "Thread 6 is awake now.\n",
      "Thread 7 is awake now.\n",
      "Thread 8 is awake now.Thread 9 is awake now.\n",
      "\n"
     ]
    }
   ],
   "source": [
    "import time\n",
    "from threading import Thread\n",
    "\n",
    "def sleepMe(i):\n",
    "    print(\"Thread %i going to sleep for 5 seconds.\" % i)\n",
    "    time.sleep(5)\n",
    "    print(\"Thread %i is awake now.\" % i)\n",
    "\n",
    "for i in range(10):\n",
    "    th = Thread(target=sleepMe, args=(i, ))\n",
    "    th.start()"
   ]
  },
  {
   "cell_type": "code",
   "execution_count": 8,
   "metadata": {},
   "outputs": [
    {
     "name": "stdout",
     "output_type": "stream",
     "text": [
      "Thread 0 going to sleep for 5 seconds.Current Thread count: 6.\n",
      "\n",
      "Thread 1 going to sleep for 5 seconds.Current Thread count: 7.\n",
      "\n",
      "Thread 2 going to sleep for 5 seconds.Current Thread count: 8.\n",
      "Thread 3 going to sleep for 5 seconds.\n",
      "Current Thread count: 9.\n",
      "\n",
      "Thread 4 going to sleep for 5 seconds.Current Thread count: 10.\n",
      "Thread 5 going to sleep for 5 seconds.\n",
      "Current Thread count: 11.\n",
      "\n",
      "Thread 6 going to sleep for 5 seconds.Current Thread count: 12.\n",
      "Thread 7 going to sleep for 5 seconds.\n",
      "Current Thread count: 13.\n",
      "Thread 8 going to sleep for 5 seconds.\n",
      "Current Thread count: 14.\n",
      "\n",
      "Thread 9 going to sleep for 5 seconds.Current Thread count: 15.\n",
      "\n",
      "Thread 0 is awake now.\n",
      "Thread 1 is awake now.\n",
      "Thread 2 is awake now.\n",
      "Thread 3 is awake now.\n",
      "Thread 5 is awake now.Thread 4 is awake now.\n",
      "\n",
      "Thread 6 is awake now.\n",
      "Thread 7 is awake now.\n",
      "Thread 8 is awake now.\n",
      "Thread 9 is awake now.\n"
     ]
    }
   ],
   "source": [
    "import time\n",
    "import threading\n",
    "from threading import Thread\n",
    "\n",
    "def sleepMe(i):\n",
    "    print(\"Thread %i going to sleep for 5 seconds.\" % i)\n",
    "    time.sleep(5)\n",
    "    print(\"Thread %i is awake now.\" % i)\n",
    "\n",
    "for i in range(10):\n",
    "    th = Thread(target=sleepMe, args=(i, ))\n",
    "    th.start()\n",
    "    print(\"Current Thread count: %i.\" % threading.active_count())"
   ]
  },
  {
   "cell_type": "code",
   "execution_count": 9,
   "metadata": {},
   "outputs": [
    {
     "name": "stdout",
     "output_type": "stream",
     "text": [
      "Thread <Thread(Thread-32, started 11404)> going to sleep for 5 seconds.\n",
      "Thread <Thread(Thread-33, started 8484)> going to sleep for 5 seconds.\n",
      "Thread <Thread(Thread-34, started 15692)> going to sleep for 5 seconds.\n",
      "Thread <Thread(Thread-35, started 5232)> going to sleep for 5 seconds.\n",
      "Thread <Thread(Thread-32, started 11404)> is awake now.\n",
      "\n",
      "Thread <Thread(Thread-33, started 8484)> is awake now.\n",
      "\n",
      "Thread <Thread(Thread-34, started 15692)> is awake now.\n",
      "\n",
      "Thread <Thread(Thread-35, started 5232)> is awake now.\n",
      "\n"
     ]
    }
   ],
   "source": [
    "import time\n",
    "import threading\n",
    "from threading import Thread\n",
    "\n",
    "def sleepMe(i):\n",
    "    print(\"Thread %s going to sleep for 5 seconds.\" % threading.current_thread())\n",
    "    time.sleep(5)\n",
    "    print(\"Thread %s is awake now.\\n\" % threading.current_thread())\n",
    "\n",
    "#Creating only four threads for now\n",
    "for i in range(4):\n",
    "    th = Thread(target=sleepMe, args=(i, ))\n",
    "    th.start()"
   ]
  },
  {
   "cell_type": "code",
   "execution_count": 10,
   "metadata": {},
   "outputs": [
    {
     "name": "stdout",
     "output_type": "stream",
     "text": [
      "<_MainThread(MainThread, started 2672)>\n"
     ]
    }
   ],
   "source": [
    "import threading\n",
    "print(threading.main_thread())"
   ]
  },
  {
   "cell_type": "code",
   "execution_count": 14,
   "metadata": {},
   "outputs": [
    {
     "name": "stdout",
     "output_type": "stream",
     "text": [
      "Starting Thread\n",
      "Thread[1]: 2018-12-02\n",
      "Exiting Thread\n",
      "Starting Thread\n",
      "Thread[2]: 2018-12-02\n",
      "Exiting Thread\n",
      "Exiting the Program!!!\n"
     ]
    }
   ],
   "source": [
    "import time\n",
    "import threading\n",
    "from threading import Thread\n",
    "import datetime\n",
    "\n",
    "class myThread (threading.Thread):\n",
    "    def __init__(self, name, counter):\n",
    "        threading.Thread.__init__(self)\n",
    "        self.threadID = counter\n",
    "        self.name = name\n",
    "        self.counter = counter\n",
    "    def run(self):\n",
    "        print (\"Starting \" + self.name)\n",
    "        print_date(self.name, self.counter)\n",
    "        print (\"Exiting \" + self.name)\n",
    "\n",
    "def print_date(threadName, counter):\n",
    "    datefields = []\n",
    "    today = datetime.date.today()\n",
    "    datefields.append(today)\n",
    "    print (\"%s[%d]: %s\" % ( threadName, counter, datefields[0] ))\n",
    "\n",
    "# Create new threads\n",
    "thread1 = myThread(\"Thread\", 1)\n",
    "thread2 = myThread(\"Thread\", 2)\n",
    "\n",
    "# Start new Threads\n",
    "thread1.start()\n",
    "thread2.start()\n",
    "\n",
    "thread1.join()\n",
    "thread2.join()\n",
    "print (\"Exiting the Program!!!\")"
   ]
  },
  {
   "cell_type": "code",
   "execution_count": null,
   "metadata": {},
   "outputs": [],
   "source": []
  }
 ],
 "metadata": {
  "kernelspec": {
   "display_name": "Python 3",
   "language": "python",
   "name": "python3"
  },
  "language_info": {
   "codemirror_mode": {
    "name": "ipython",
    "version": 3
   },
   "file_extension": ".py",
   "mimetype": "text/x-python",
   "name": "python",
   "nbconvert_exporter": "python",
   "pygments_lexer": "ipython3",
   "version": "3.6.4"
  }
 },
 "nbformat": 4,
 "nbformat_minor": 2
}
