{
 "cells": [
  {
   "cell_type": "markdown",
   "metadata": {},
   "source": [
    "## Indention"
   ]
  },
  {
   "cell_type": "markdown",
   "metadata": {},
   "source": [
    "Colons, :, are used to declare an indented code block,\n",
    "such as the following example:\n"
   ]
  },
  {
   "cell_type": "code",
   "execution_count": null,
   "metadata": {},
   "outputs": [],
   "source": [
    "#Notice everything belonging to a function must be indented\n",
    "if (a>5){\n",
    "    some piece of code\n",
    "}\n",
    "\n",
    "if (a>5):\n",
    "    some piece of code\n",
    "    if:\n",
    "else        \n",
    "    \n",
    "\n",
    "\n",
    "if a > 5:\n",
    "   if a<10:\n",
    "        return True\n",
    "        dfs\n",
    "        sfasdf\n",
    "        asdfs\n",
    "    else:\n",
    "        print awerw\n",
    "        qwrwrw\n",
    "        qwrwrew\n",
    "else:\n",
    "    return False\n",
    "#If a function is not indented to the same level it will not be considers as part of the parent class\n",
    "for i in b:\n",
    "    #Loops are also indented and nested conditions start a new indentation\n",
    "    if i == 1:\n",
    "    return True\n",
    "print(\"hello\")\n"
   ]
  },
  {
   "cell_type": "markdown",
   "metadata": {},
   "source": [
    "#### Spaces or Tabs?\n",
    "\n",
    "The recommended indentation is 4 spaces but tabs or spaces can be used so long as they are consistent. Do not\n",
    "mix tabs and spaces in Python as this will cause an error in Python 3 and can causes errors in Python 2."
   ]
  },
  {
   "cell_type": "code",
   "execution_count": 1,
   "metadata": {},
   "outputs": [
    {
     "name": "stdout",
     "output_type": "stream",
     "text": [
      "bar\n",
      "done\n"
     ]
    }
   ],
   "source": [
    "a = 7\n",
    "if a > 15:\n",
    "    print (\"foo\")\n",
    "    print(\"in if part\")\n",
    "else:\n",
    "    print (\"bar\")\n",
    "    print (\"done\")"
   ]
  },
  {
   "cell_type": "markdown",
   "metadata": {},
   "source": [
    "Conditional expressions, involving keywords such as if, elif, and else, provide Python programs with the ability to\n",
    "perform different actions depending on a boolean condition: True or False. This section covers the use of Python\n",
    "conditionals, boolean logic, and ternary statements."
   ]
  },
  {
   "cell_type": "markdown",
   "metadata": {},
   "source": [
    "\n",
    "* Python does not use { } to enclose blocks of code for if/loops/function etc.\n",
    "*  Instead, Python uses the colon (:) and indentation/whitespace to group statements. \n",
    "* The boolean test for an if does not need to be in parenthesis (big difference from C++/Java), \n",
    " and it can have \n",
    "* *elif* and *else* clauses (mnemonic: the word \"elif\" is the same length as the word \"else\").\n"
   ]
  },
  {
   "cell_type": "markdown",
   "metadata": {},
   "source": [
    "Comparison operators are used to compare values. It either returns True or False according to the condition.\n",
    "\n",
    "Comparision operators in Python\n",
    "Operator\tMeaning\tExample\n",
    ">\tGreater that - True if left operand is greater than the right\tx > y\n",
    "<\tLess that - True if left operand is less than the right\tx < y\n",
    "==\tEqual to - True if both operands are equal\tx == y\n",
    "!=\tNot equal to - True if operands are not equal\tx != y\n",
    ">=\tGreater than or equal to - True if left operand is greater than or equal to the right\tx >= y\n",
    "<=\tLess than or equal to - True if left operand is less than or equal to the right\tx <= y"
   ]
  },
  {
   "cell_type": "raw",
   "metadata": {
    "raw_mimetype": "text/markdown"
   },
   "source": [
    "##condition\n",
    "<number> x == y ---> (x is equal to y)\n",
    "<number> x != y --->(x is not equal to y)\n",
    "<number> x < y --->x is less than y\n",
    "<number> x > y --->x is greater than y\n",
    "<number> x <= y -->x is less than or equal to y\n",
    "<number> x >= y -->x is greater than or equal to y\n"
   ]
  },
  {
   "cell_type": "code",
   "execution_count": 2,
   "metadata": {},
   "outputs": [],
   "source": [
    "x=10\n",
    "y=10\n",
    "z=100"
   ]
  },
  {
   "cell_type": "code",
   "execution_count": 3,
   "metadata": {},
   "outputs": [
    {
     "data": {
      "text/plain": [
       "False"
      ]
     },
     "execution_count": 3,
     "metadata": {},
     "output_type": "execute_result"
    }
   ],
   "source": [
    "x != y"
   ]
  },
  {
   "cell_type": "code",
   "execution_count": 4,
   "metadata": {},
   "outputs": [
    {
     "data": {
      "text/plain": [
       "True"
      ]
     },
     "execution_count": 4,
     "metadata": {},
     "output_type": "execute_result"
    }
   ],
   "source": [
    "x != z"
   ]
  },
  {
   "cell_type": "code",
   "execution_count": null,
   "metadata": {},
   "outputs": [],
   "source": [
    "x <= y"
   ]
  },
  {
   "cell_type": "code",
   "execution_count": null,
   "metadata": {},
   "outputs": [],
   "source": [
    "x < y"
   ]
  },
  {
   "cell_type": "code",
   "execution_count": null,
   "metadata": {},
   "outputs": [],
   "source": [
    "y < z"
   ]
  },
  {
   "cell_type": "code",
   "execution_count": null,
   "metadata": {},
   "outputs": [],
   "source": [
    "age=10\n",
    "if ( age >= 18 ):\n",
    "\tprint (\"I am in if condition\")\n",
    "\tprint (\"You are allowed to vote\")\n",
    "else:\n",
    "\tprint (\"I am in ELSE condition\")\n",
    "\tprint (\"not allowed to vote\")"
   ]
  },
  {
   "cell_type": "code",
   "execution_count": null,
   "metadata": {},
   "outputs": [],
   "source": []
  },
  {
   "cell_type": "code",
   "execution_count": null,
   "metadata": {},
   "outputs": [],
   "source": [
    "age=50\n",
    "if ( age >= 18 ):\n",
    "\tprint (\"I am in if condition\")\n",
    "\tprint (\"You are allowed to vote\")\n",
    "else:\n",
    "\tprint (\"I am in ELSE condition\")\n",
    "\tprint (\"not allowed to vote\")"
   ]
  },
  {
   "cell_type": "code",
   "execution_count": 5,
   "metadata": {},
   "outputs": [
    {
     "name": "stdout",
     "output_type": "stream",
     "text": [
      "Single\n",
      "I am after if else\n"
     ]
    }
   ],
   "source": [
    "x=1\n",
    "if x < 0 :\n",
    "\tprint ('Negative changed to zero')\n",
    "elif x == 0:\n",
    "    print ('Zero')\n",
    "elif x<=0:\n",
    "\tprint (\"xyz\")\n",
    "elif x == 1:\n",
    "\tprint ('Single')\n",
    "elif x == 2:\n",
    "\tprint ('Double')\n",
    "else:\n",
    "\tprint ('More')\n",
    "\n",
    "print (\"I am after if else\")"
   ]
  },
  {
   "cell_type": "code",
   "execution_count": 6,
   "metadata": {},
   "outputs": [
    {
     "name": "stdout",
     "output_type": "stream",
     "text": [
      "Zero\n",
      "I am after if else \n"
     ]
    }
   ],
   "source": [
    "x=0\n",
    "if x < 0 :\n",
    "\tprint ('Negative changed to zero')\n",
    "elif x == 0:\n",
    "\tprint ('Zero')\n",
    "elif x >= 0:\n",
    "\tprint (\"xyz\")\n",
    "elif x == 1:\n",
    "\tprint ('Single')\n",
    "elif x == 2:\n",
    "\tprint ('Double')\n",
    "else:\n",
    "\tprint ('More')\n",
    "    \n",
    "print ( \"I am after if else \")"
   ]
  },
  {
   "cell_type": "markdown",
   "metadata": {},
   "source": [
    "Logical operators\n",
    "Logical operators are the and, or, not operators.\n",
    "\n",
    "Logical operators in Python\n",
    "Operator\tMeaning\tExample\n",
    "and\tTrue if both the operands are true\tx and y\n",
    "or\tTrue if either of the operands is true\tx or y\n",
    "not\tTrue if operand is false (complements the operand)\tnot x"
   ]
  },
  {
   "cell_type": "markdown",
   "metadata": {},
   "source": [
    "# A   and B  |Result\n",
    "# -------------\n",
    "# true |true |true\n",
    "# false|false|false\n",
    "# true |false|false\n",
    "# false|true |false\n"
   ]
  },
  {
   "cell_type": "code",
   "execution_count": 7,
   "metadata": {},
   "outputs": [
    {
     "name": "stdout",
     "output_type": "stream",
     "text": [
      "x is not bigger than 10\n"
     ]
    }
   ],
   "source": [
    "x=8\n",
    "y=15\n",
    "if (x>=10 or y>100):\n",
    "\tprint (\"x is more than 10\")\n",
    "else :\n",
    "\tprint (\"x is not bigger than 10\")"
   ]
  },
  {
   "cell_type": "code",
   "execution_count": 8,
   "metadata": {},
   "outputs": [
    {
     "name": "stdout",
     "output_type": "stream",
     "text": [
      "x is more than 10\n"
     ]
    }
   ],
   "source": [
    "x=100\n",
    "y=10\n",
    "if (x>=10 or y>100):\n",
    "\tprint (\"x is more than 10\")\n",
    "else :\n",
    "\tprint (\"x is not bigger than 10\")"
   ]
  },
  {
   "cell_type": "code",
   "execution_count": null,
   "metadata": {},
   "outputs": [],
   "source": []
  },
  {
   "cell_type": "code",
   "execution_count": null,
   "metadata": {},
   "outputs": [],
   "source": [
    "mood=\"bad\"\n",
    "speed=90\n",
    "if mood == 'terrible' and speed > 100:\n",
    "\tprint ('You have the right to remain silent.')\n",
    "elif mood == 'bad' or speed > 90:\n",
    "\tprint ('You do not have the right to remain silent.')\n",
    "elif mood == 'terrible' and speed >= 90:\n",
    "\tprint (\"I'm going to have to write you a ticket.\")\n",
    "else:\n",
    "\tprint (\"Let's try to keep it under 80 ok?\")"
   ]
  },
  {
   "cell_type": "code",
   "execution_count": null,
   "metadata": {},
   "outputs": [],
   "source": [
    "mood=\"terrible\"\n",
    "speed=190\n",
    "if mood == 'terrible' and speed > 100:\n",
    "\tprint ('You have the right to remain silent.')\n",
    "elif mood == 'bad' or speed > 90:\n",
    "\tprint ('You do not have the right to remain silent.')\n",
    "elif mood == 'terrible' and speed >= 90:\n",
    "\tprint (\"I'm going to have to write you a ticket.\")\n",
    "else:\n",
    "\tprint (\"Let's try to keep it under 80 ok?\")"
   ]
  },
  {
   "cell_type": "markdown",
   "metadata": {},
   "source": [
    "# LEAP YEAR (Assignment)"
   ]
  },
  {
   "cell_type": "code",
   "execution_count": null,
   "metadata": {},
   "outputs": [],
   "source": [
    "x=2000\n",
    "if x%4 == 0:#498\n",
    "\tif x%100 == 0:\n",
    "\t\tif x%400 == 0:\n",
    "            print (\"leap year\")\n",
    "\t\telse:\n",
    "            \n",
    "\t\t\tprint (\" not a leap year because not divisible by 400\")\n",
    "\telse:\n",
    "        \n",
    "\t\tprint (\" not a leap year because not divisible by 100\")\n",
    "else :\n",
    "    \n",
    "\tprint (\" not a leap year because not divisible by 4\")"
   ]
  },
  {
   "cell_type": "code",
   "execution_count": null,
   "metadata": {},
   "outputs": [],
   "source": [
    "x=2016\n",
    "if x%400 == 0:\n",
    "    print (\"leap year\")\n",
    "else:\n",
    "    if (x%100 != 0 and x%4 == 0):\n",
    "        print(\"leap year\")\n",
    "    else:\n",
    "        print(\"Not leap year\")\n",
    "             \n"
   ]
  },
  {
   "cell_type": "code",
   "execution_count": null,
   "metadata": {},
   "outputs": [],
   "source": [
    "x=1992\n",
    "if x%4 == 0:\n",
    "\tif x%100 == 0:\n",
    "\t\tif x%400 == 0:\n",
    "\t\t\tprint (\"leap year\")\n",
    "\t\telse:\n",
    "\t\t\tprint (\" not a leap year because not divisible by 400\")\n",
    "\telse:\n",
    "\t\tprint (\" not a leap year because not divisible by 100\")\n",
    "else :\n",
    "\tprint (\" not a leap year because not divisible by 4\")"
   ]
  },
  {
   "cell_type": "code",
   "execution_count": null,
   "metadata": {},
   "outputs": [],
   "source": [
    "x=1996\n",
    "if x%4 == 0:\n",
    "\tif x%100 == 0:\n",
    "\t\tif x%400 == 0:\n",
    "\t\t\tprint (\"leap year\")\n",
    "\t\telse:\n",
    "\t\t\tprint (\" not a leap year because not divisible by 400\")\n",
    "\telse:\n",
    "\t\tprint (\" not a leap year because not divisible by 100\")\n",
    "else :\n",
    "\tprint (\" not a leap year because not divisible by 4\")"
   ]
  },
  {
   "cell_type": "markdown",
   "metadata": {},
   "source": [
    "### Conditional Expression (or \"The Ternary Operator\")"
   ]
  },
  {
   "cell_type": "markdown",
   "metadata": {},
   "source": [
    "The ternary operator is used for inline conditional expressions. It is best used in simple, concise operations that are\n",
    "easily read.\n",
    "The order of the arguments is different from many other languages (such as C, Ruby, Java, etc.), which may\n",
    "lead to bugs when people unfamiliar with Python's \"surprising\" behaviour use it (they may reverse the order).\n",
    "Some find it \"unwieldy\", since it goes contrary to the normal flow of thought (thinking of the condition first\n",
    "and then the effects)."
   ]
  },
  {
   "cell_type": "code",
   "execution_count": 9,
   "metadata": {},
   "outputs": [
    {
     "data": {
      "text/plain": [
       "'Smaller than or equal to 2'"
      ]
     },
     "execution_count": 9,
     "metadata": {},
     "output_type": "execute_result"
    }
   ],
   "source": [
    "n = 1\n",
    "\"Greater than 2\" if n > 2 else \"Smaller than or equal to 2\"\n",
    "\n",
    "# if n>2:\n",
    "#     print (\"greater thn 3\")\n",
    "# else:\n",
    "#     print(\"smaller\")"
   ]
  },
  {
   "cell_type": "code",
   "execution_count": 10,
   "metadata": {},
   "outputs": [
    {
     "data": {
      "text/plain": [
       "'Good day'"
      ]
     },
     "execution_count": 10,
     "metadata": {},
     "output_type": "execute_result"
    }
   ],
   "source": [
    "n = 0\n",
    "\"Hello\" if n > 10 else \"Goodbye\" if n == 1 else \"Good day\""
   ]
  },
  {
   "cell_type": "code",
   "execution_count": 11,
   "metadata": {},
   "outputs": [
    {
     "name": "stdout",
     "output_type": "stream",
     "text": [
      "[21, 28]\n"
     ]
    }
   ],
   "source": [
    "# divisible by 7 but not multiple of 5\n",
    "l=[]\n",
    "for x in range(20,30):\n",
    "    if x%7==0 and x%5!=0:\n",
    "        l.append(x)\n",
    "#     else:\n",
    "#         print(\"not correct\")\n",
    "print (l)"
   ]
  },
  {
   "cell_type": "code",
   "execution_count": null,
   "metadata": {},
   "outputs": [],
   "source": []
  },
  {
   "cell_type": "code",
   "execution_count": null,
   "metadata": {},
   "outputs": [],
   "source": []
  }
 ],
 "metadata": {
  "celltoolbar": "Raw Cell Format",
  "kernelspec": {
   "display_name": "Python 3",
   "language": "python",
   "name": "python3"
  },
  "language_info": {
   "codemirror_mode": {
    "name": "ipython",
    "version": 3
   },
   "file_extension": ".py",
   "mimetype": "text/x-python",
   "name": "python",
   "nbconvert_exporter": "python",
   "pygments_lexer": "ipython3",
   "version": "3.7.3"
  }
 },
 "nbformat": 4,
 "nbformat_minor": 2
}
