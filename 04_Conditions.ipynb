{
 "cells": [
  {
   "cell_type": "markdown",
   "metadata": {},
   "source": [
    "## Indention"
   ]
  },
  {
   "cell_type": "markdown",
   "metadata": {},
   "source": [
    "Colons, :, are used to declare an indented code block,\n",
    "such as the following example:\n"
   ]
  },
  {
   "cell_type": "code",
   "execution_count": 1,
   "metadata": {},
   "outputs": [
    {
     "ename": "SyntaxError",
     "evalue": "invalid syntax (<ipython-input-1-0ec225bd9de4>, line 2)",
     "output_type": "error",
     "traceback": [
      "\u001b[1;36m  File \u001b[1;32m\"<ipython-input-1-0ec225bd9de4>\"\u001b[1;36m, line \u001b[1;32m2\u001b[0m\n\u001b[1;33m    if (a>5){\u001b[0m\n\u001b[1;37m            ^\u001b[0m\n\u001b[1;31mSyntaxError\u001b[0m\u001b[1;31m:\u001b[0m invalid syntax\n"
     ]
    }
   ],
   "source": [
    "#Notice everything belonging to a function must be indented\n",
    "if (a>5){\n",
    "    some piece of code\n",
    "}\n",
    "\n",
    "if (a>5):\n",
    "    some piece of code\n",
    "    if:\n",
    "else        \n",
    "    \n",
    "\n",
    "\n",
    "if a > 5:\n",
    "   if a<10:\n",
    "        return True\n",
    "        dfs\n",
    "        sfasdf\n",
    "        asdfs\n",
    "    else:\n",
    "        print awerw\n",
    "        qwrwrw\n",
    "        qwrwrew\n",
    "else:\n",
    "    return False\n",
    "#If a function is not indented to the same level it will not be considers as part of the parent class\n",
    "for i in b:\n",
    "    #Loops are also indented and nested conditions start a new indentation\n",
    "    if i == 1:\n",
    "    return True\n",
    "print(\"hello\")\n"
   ]
  },
  {
   "cell_type": "markdown",
   "metadata": {},
   "source": [
    "#### Spaces or Tabs?\n",
    "\n",
    "The recommended indentation is 4 spaces but tabs or spaces can be used so long as they are consistent. Do not\n",
    "mix tabs and spaces in Python as this will cause an error in Python 3 and can causes errors in Python 2."
   ]
  },
  {
   "cell_type": "code",
   "execution_count": 2,
   "metadata": {},
   "outputs": [
    {
     "name": "stdout",
     "output_type": "stream",
     "text": [
      "bar\n",
      "done\n"
     ]
    }
   ],
   "source": [
    "a = 7\n",
    "if a > 15:\n",
    "    print (\"foo\")\n",
    "    print(\"in if part\")\n",
    "else:\n",
    "    print (\"bar\")\n",
    "    print (\"done\")"
   ]
  },
  {
   "cell_type": "markdown",
   "metadata": {},
   "source": [
    "Conditional expressions, involving keywords such as if, elif, and else, provide Python programs with the ability to\n",
    "perform different actions depending on a boolean condition: True or False. This section covers the use of Python\n",
    "conditionals, boolean logic, and ternary statements."
   ]
  },
  {
   "cell_type": "markdown",
   "metadata": {},
   "source": [
    "\n",
    "* Python does not use { } to enclose blocks of code for if/loops/function etc.\n",
    "*  Instead, Python uses the colon (:) and indentation/whitespace to group statements. \n",
    "* The boolean test for an if does not need to be in parenthesis (big difference from C++/Java), \n",
    " and it can have \n",
    "* *elif* and *else* clauses (mnemonic: the word \"elif\" is the same length as the word \"else\").\n"
   ]
  },
  {
   "cell_type": "raw",
   "metadata": {
    "raw_mimetype": "text/markdown"
   },
   "source": [
    "##condition\n",
    "<number> x == y ---> (x is equal to y)\n",
    "<number> x != y --->(x is not equal to y)\n",
    "<number> x < y --->x is less than y\n",
    "<number> x > y --->x is greater than y\n",
    "<number> x <= y -->x is less than or equal to y\n",
    "<number> x >= y -->x is greater than or equal to y\n"
   ]
  },
  {
   "cell_type": "code",
   "execution_count": 2,
   "metadata": {},
   "outputs": [],
   "source": [
    "x=10\n",
    "y=10\n",
    "z=100"
   ]
  },
  {
   "cell_type": "code",
   "execution_count": 3,
   "metadata": {},
   "outputs": [
    {
     "data": {
      "text/plain": [
       "False"
      ]
     },
     "execution_count": 3,
     "metadata": {},
     "output_type": "execute_result"
    }
   ],
   "source": [
    "x != y"
   ]
  },
  {
   "cell_type": "code",
   "execution_count": 4,
   "metadata": {},
   "outputs": [
    {
     "data": {
      "text/plain": [
       "True"
      ]
     },
     "execution_count": 4,
     "metadata": {},
     "output_type": "execute_result"
    }
   ],
   "source": [
    "x != z"
   ]
  },
  {
   "cell_type": "code",
   "execution_count": 5,
   "metadata": {},
   "outputs": [
    {
     "data": {
      "text/plain": [
       "True"
      ]
     },
     "execution_count": 5,
     "metadata": {},
     "output_type": "execute_result"
    }
   ],
   "source": [
    "x <= y"
   ]
  },
  {
   "cell_type": "code",
   "execution_count": 6,
   "metadata": {},
   "outputs": [
    {
     "data": {
      "text/plain": [
       "False"
      ]
     },
     "execution_count": 6,
     "metadata": {},
     "output_type": "execute_result"
    }
   ],
   "source": [
    "x < y"
   ]
  },
  {
   "cell_type": "code",
   "execution_count": 7,
   "metadata": {},
   "outputs": [
    {
     "data": {
      "text/plain": [
       "True"
      ]
     },
     "execution_count": 7,
     "metadata": {},
     "output_type": "execute_result"
    }
   ],
   "source": [
    "y < z"
   ]
  },
  {
   "cell_type": "code",
   "execution_count": 3,
   "metadata": {},
   "outputs": [
    {
     "name": "stdout",
     "output_type": "stream",
     "text": [
      "I am in ELSE condition\n",
      "not allowed to vote\n"
     ]
    }
   ],
   "source": [
    "age=10\n",
    "if ( age >= 18 ):\n",
    "\tprint (\"I am in if condition\")\n",
    "\tprint (\"You are allowed to vote\")\n",
    "else:\n",
    "\tprint (\"I am in ELSE condition\")\n",
    "\tprint (\"not allowed to vote\")"
   ]
  },
  {
   "cell_type": "code",
   "execution_count": 9,
   "metadata": {},
   "outputs": [
    {
     "name": "stdout",
     "output_type": "stream",
     "text": [
      "I am in if condition\n",
      "You are allowed to vote\n"
     ]
    }
   ],
   "source": [
    "age=50\n",
    "if ( age >= 18 ):\n",
    "\tprint (\"I am in if condition\")\n",
    "\tprint (\"You are allowed to vote\")\n",
    "else:\n",
    "\tprint (\"I am in ELSE condition\")\n",
    "\tprint (\"not allowed to vote\")"
   ]
  },
  {
   "cell_type": "code",
   "execution_count": 10,
   "metadata": {},
   "outputs": [
    {
     "name": "stdout",
     "output_type": "stream",
     "text": [
      "Zero\n",
      "I am after if else\n"
     ]
    }
   ],
   "source": [
    "x=0\n",
    "if x < 0 :\n",
    "\tprint ('Negative changed to zero')\n",
    "elif x == 0:\n",
    "    print ('Zero')\n",
    "elif x<=0:\n",
    "\tprint (\"xyz\")\n",
    "elif x == 1:\n",
    "\tprint ('Single')\n",
    "elif x == 2:\n",
    "\tprint ('Double')\n",
    "else:\n",
    "\tprint ('More')\n",
    "\n",
    "print (\"I am after if else\")"
   ]
  },
  {
   "cell_type": "code",
   "execution_count": 11,
   "metadata": {},
   "outputs": [
    {
     "name": "stdout",
     "output_type": "stream",
     "text": [
      "xyz\n",
      " I am after if else \n"
     ]
    }
   ],
   "source": [
    "x=1\n",
    "if x < 0 :\n",
    "\tprint ('Negative changed to zero')\n",
    "elif x == 0:\n",
    "\tprint ('Zero')\n",
    "elif x >= 0:\n",
    "\tprint (\"xyz\")\n",
    "elif x == 1:\n",
    "\tprint ('Single')\n",
    "elif x == 2:\n",
    "\tprint ('Double')\n",
    "else:\n",
    "\tprint ('More')\n",
    "    \n",
    "print ( \" I am after if else \")"
   ]
  },
  {
   "cell_type": "markdown",
   "metadata": {},
   "source": [
    "# A   and B  |Result\n",
    "# -------------\n",
    "# true |true |true\n",
    "# false|false|false\n",
    "# true |false|false\n",
    "# false|true |false\n"
   ]
  },
  {
   "cell_type": "code",
   "execution_count": 12,
   "metadata": {},
   "outputs": [
    {
     "name": "stdout",
     "output_type": "stream",
     "text": [
      "x is not bigger than 10\n"
     ]
    }
   ],
   "source": [
    "x=8\n",
    "y=15\n",
    "if (x>=10 or y>100):\n",
    "\tprint (\"x is more than 10\")\n",
    "else :\n",
    "\tprint (\"x is not bigger than 10\")"
   ]
  },
  {
   "cell_type": "code",
   "execution_count": 13,
   "metadata": {},
   "outputs": [
    {
     "name": "stdout",
     "output_type": "stream",
     "text": [
      "x is more than 10\n"
     ]
    }
   ],
   "source": [
    "x=100\n",
    "y=10\n",
    "if (x>=10 or y>100):\n",
    "\tprint (\"x is more than 10\")\n",
    "else :\n",
    "\tprint (\"x is not bigger than 10\")"
   ]
  },
  {
   "cell_type": "code",
   "execution_count": 14,
   "metadata": {},
   "outputs": [
    {
     "name": "stdout",
     "output_type": "stream",
     "text": [
      "You do not have the right to remain silent.\n"
     ]
    }
   ],
   "source": [
    "mood=\"bad\"\n",
    "speed=90\n",
    "if mood == 'terrible' and speed > 100:\n",
    "\tprint ('You have the right to remain silent.')\n",
    "elif mood == 'bad' or speed > 90:\n",
    "\tprint ('You do not have the right to remain silent.')\n",
    "elif mood == 'terrible' and speed >= 90:\n",
    "\tprint (\"I'm going to have to write you a ticket.\")\n",
    "else:\n",
    "\tprint (\"Let's try to keep it under 80 ok?\")"
   ]
  },
  {
   "cell_type": "code",
   "execution_count": 15,
   "metadata": {},
   "outputs": [
    {
     "name": "stdout",
     "output_type": "stream",
     "text": [
      "You have the right to remain silent.\n"
     ]
    }
   ],
   "source": [
    "mood=\"terrible\"\n",
    "speed=190\n",
    "if mood == 'terrible' and speed > 100:\n",
    "\tprint ('You have the right to remain silent.')\n",
    "elif mood == 'bad' or speed > 90:\n",
    "\tprint ('You do not have the right to remain silent.')\n",
    "elif mood == 'terrible' and speed >= 90:\n",
    "\tprint (\"I'm going to have to write you a ticket.\")\n",
    "else:\n",
    "\tprint (\"Let's try to keep it under 80 ok?\")"
   ]
  },
  {
   "cell_type": "markdown",
   "metadata": {},
   "source": [
    "# LEAP YEAR (Assignment)"
   ]
  },
  {
   "cell_type": "code",
   "execution_count": 16,
   "metadata": {},
   "outputs": [
    {
     "name": "stdout",
     "output_type": "stream",
     "text": [
      " not a leap year because not divisible by 100\n"
     ]
    }
   ],
   "source": [
    "x=1992\n",
    "if x%4 == 0:#498\n",
    "\tif x%100 == 0:\n",
    "\t\tif x%400 == 0:\n",
    "\t\t\tprint (\"leap year\")\n",
    "\t\telse:\n",
    "\t\t\tprint (\" not a leap year because not divisible by 400\")\n",
    "\telse:\n",
    "\t\tprint (\" not a leap year because not divisible by 100\")\n",
    "else :\n",
    "\tprint (\" not a leap year because not divisible by 4\")"
   ]
  },
  {
   "cell_type": "code",
   "execution_count": 16,
   "metadata": {},
   "outputs": [
    {
     "name": "stdout",
     "output_type": "stream",
     "text": [
      "leap year\n"
     ]
    }
   ],
   "source": [
    "x=2000\n",
    "if x%400 == 0:\n",
    "    print (\"leap year\")\n",
    "else:\n",
    "    if (x%100 != 0 and x%4 == 0):\n",
    "        print(\"leap year\")\n",
    "    else:\n",
    "        print(\"Not leap year\")\n",
    "             \n"
   ]
  },
  {
   "cell_type": "code",
   "execution_count": 11,
   "metadata": {},
   "outputs": [
    {
     "name": "stdout",
     "output_type": "stream",
     "text": [
      " not a leap year because not divisible by 4\n"
     ]
    }
   ],
   "source": [
    "x=21\n",
    "if x%4 == 0:\n",
    "\tif x%100 == 0:\n",
    "\t\tif x%400 == 0:\n",
    "\t\t\tprint (\"leap year\")\n",
    "\t\telse:\n",
    "\t\t\tprint (\" not a leap year because not divisible by 400\")\n",
    "\telse:\n",
    "\t\tprint (\" not a leap year because not divisible by 100\")\n",
    "else :\n",
    "\tprint (\" not a leap year because not divisible by 4\")"
   ]
  },
  {
   "cell_type": "code",
   "execution_count": 19,
   "metadata": {},
   "outputs": [
    {
     "name": "stdout",
     "output_type": "stream",
     "text": [
      "leap year\n"
     ]
    }
   ],
   "source": [
    "x=400\n",
    "if x%4 == 0:\n",
    "\tif x%100 == 0:\n",
    "\t\tif x%400 == 0:\n",
    "\t\t\tprint (\"leap year\")\n",
    "\t\telse:\n",
    "\t\t\tprint (\" not a leap year because not divisible by 400\")\n",
    "\telse:\n",
    "\t\tprint (\" not a leap year because not divisible by 100\")\n",
    "else :\n",
    "\tprint (\" not a leap year because not divisible by 4\")"
   ]
  },
  {
   "cell_type": "markdown",
   "metadata": {},
   "source": [
    "### Conditional Expression (or \"The Ternary Operator\")"
   ]
  },
  {
   "cell_type": "markdown",
   "metadata": {},
   "source": [
    "The ternary operator is used for inline conditional expressions. It is best used in simple, concise operations that are\n",
    "easily read.\n",
    "The order of the arguments is different from many other languages (such as C, Ruby, Java, etc.), which may\n",
    "lead to bugs when people unfamiliar with Python's \"surprising\" behaviour use it (they may reverse the order).\n",
    "Some find it \"unwieldy\", since it goes contrary to the normal flow of thought (thinking of the condition first\n",
    "and then the effects)."
   ]
  },
  {
   "cell_type": "code",
   "execution_count": 20,
   "metadata": {},
   "outputs": [
    {
     "data": {
      "text/plain": [
       "'Greater than 2'"
      ]
     },
     "execution_count": 20,
     "metadata": {},
     "output_type": "execute_result"
    }
   ],
   "source": [
    "n = 5\n",
    "\"Greater than 2\" if n > 2 else \"Smaller than or equal to 2\"\n",
    "\n",
    "# if n>2:\n",
    "#     print (\"greater thn 3\")\n",
    "# else:\n",
    "#     print(\"smaller\")"
   ]
  },
  {
   "cell_type": "code",
   "execution_count": 21,
   "metadata": {},
   "outputs": [
    {
     "data": {
      "text/plain": [
       "'Good day'"
      ]
     },
     "execution_count": 21,
     "metadata": {},
     "output_type": "execute_result"
    }
   ],
   "source": [
    "n = 2\n",
    "\"Hello\" if n > 10 else \"Goodbye\" if n == 1 else \"Good day\""
   ]
  },
  {
   "cell_type": "code",
   "execution_count": 22,
   "metadata": {},
   "outputs": [
    {
     "name": "stdout",
     "output_type": "stream",
     "text": [
      "[2002, 2009, 2016, 2023, 2037, 2044, 2051, 2058, 2072, 2079, 2086, 2093, 2107, 2114, 2121, 2128, 2142, 2149, 2156, 2163, 2177, 2184, 2191, 2198, 2212, 2219, 2226, 2233, 2247, 2254, 2261, 2268, 2282, 2289, 2296, 2303, 2317, 2324, 2331, 2338, 2352, 2359, 2366, 2373, 2387, 2394, 2401, 2408, 2422, 2429, 2436, 2443, 2457, 2464, 2471, 2478, 2492, 2499, 2506, 2513, 2527, 2534, 2541, 2548, 2562, 2569, 2576, 2583, 2597, 2604, 2611, 2618, 2632, 2639, 2646, 2653, 2667, 2674, 2681, 2688, 2702, 2709, 2716, 2723, 2737, 2744, 2751, 2758, 2772, 2779, 2786, 2793, 2807, 2814, 2821, 2828, 2842, 2849, 2856, 2863, 2877, 2884, 2891, 2898, 2912, 2919, 2926, 2933, 2947, 2954, 2961, 2968, 2982, 2989, 2996]\n"
     ]
    }
   ],
   "source": [
    "# divisible by 7 but not multiple of 5\n",
    "l=[]\n",
    "for x in range(2000,3000):\n",
    "    if x%7==0 and x%5!=0:\n",
    "        l.append(x)\n",
    "#     else:\n",
    "#         print(\"not correct\")\n",
    "print (l)"
   ]
  },
  {
   "cell_type": "code",
   "execution_count": null,
   "metadata": {},
   "outputs": [],
   "source": []
  },
  {
   "cell_type": "code",
   "execution_count": null,
   "metadata": {},
   "outputs": [],
   "source": [
    "Z"
   ]
  }
 ],
 "metadata": {
  "celltoolbar": "Raw Cell Format",
  "kernelspec": {
   "display_name": "Python 2",
   "language": "python",
   "name": "python2"
  },
  "language_info": {
   "codemirror_mode": {
    "name": "ipython",
    "version": 2
   },
   "file_extension": ".py",
   "mimetype": "text/x-python",
   "name": "python",
   "nbconvert_exporter": "python",
   "pygments_lexer": "ipython2",
   "version": "2.7.16"
  }
 },
 "nbformat": 4,
 "nbformat_minor": 2
}
