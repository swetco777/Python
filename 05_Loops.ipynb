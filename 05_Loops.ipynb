{
 "cells": [
  {
   "cell_type": "markdown",
   "metadata": {},
   "source": [
    "# LOOPS"
   ]
  },
  {
   "cell_type": "code",
   "execution_count": null,
   "metadata": {},
   "outputs": [],
   "source": []
  },
  {
   "cell_type": "markdown",
   "metadata": {},
   "source": [
    "![Interpeter](05_Forloop.png)\n"
   ]
  },
  {
   "cell_type": "code",
   "execution_count": 1,
   "metadata": {},
   "outputs": [
    {
     "name": "stdout",
     "output_type": "stream",
     "text": [
      "Hello world\n",
      "Hello world\n",
      "Hello world\n",
      "Hello world\n",
      "Hello world\n",
      "Hello world\n"
     ]
    }
   ],
   "source": [
    "i =0\n",
    "while (i <= 5):    #condition\n",
    "\tprint (\"Hello world\")\n",
    "\ti = i+1"
   ]
  },
  {
   "cell_type": "code",
   "execution_count": 2,
   "metadata": {},
   "outputs": [
    {
     "name": "stdout",
     "output_type": "stream",
     "text": [
      "Hello world\n",
      "Hello world\n",
      "Hello world\n",
      "Hello world\n"
     ]
    }
   ],
   "source": [
    "i =0\n",
    "while (i <4):    #condition\n",
    "\tprint (\"Hello world\")\n",
    "\ti = i+1"
   ]
  },
  {
   "cell_type": "code",
   "execution_count": 3,
   "metadata": {},
   "outputs": [
    {
     "name": "stdout",
     "output_type": "stream",
     "text": [
      "Hello Geek\n",
      "Hello Geek\n",
      "Hello Geek\n",
      "Hello Geek\n",
      "Hello Geek\n",
      "Hello Geek\n",
      "Hello Geek\n"
     ]
    }
   ],
   "source": [
    "i=6\n",
    "while (i >=0):\n",
    "    print (\"Hello Geek\")\n",
    "    i=i-1"
   ]
  },
  {
   "cell_type": "code",
   "execution_count": 4,
   "metadata": {},
   "outputs": [
    {
     "data": {
      "text/plain": [
       "True"
      ]
     },
     "execution_count": 4,
     "metadata": {},
     "output_type": "execute_result"
    }
   ],
   "source": [
    "'p' in \"python\""
   ]
  },
  {
   "cell_type": "code",
   "execution_count": 5,
   "metadata": {},
   "outputs": [
    {
     "data": {
      "text/plain": [
       "True"
      ]
     },
     "execution_count": 5,
     "metadata": {},
     "output_type": "execute_result"
    }
   ],
   "source": [
    "3 in [0,1,2,3,4]"
   ]
  },
  {
   "cell_type": "code",
   "execution_count": 6,
   "metadata": {},
   "outputs": [
    {
     "data": {
      "text/plain": [
       "False"
      ]
     },
     "execution_count": 6,
     "metadata": {},
     "output_type": "execute_result"
    }
   ],
   "source": [
    "5 in [0,1,2,3,4]"
   ]
  },
  {
   "cell_type": "code",
   "execution_count": 7,
   "metadata": {},
   "outputs": [
    {
     "name": "stdout",
     "output_type": "stream",
     "text": [
      "j\n",
      "a\n",
      "v\n",
      "a\n"
     ]
    }
   ],
   "source": [
    "for x in \"java\":\n",
    "\tprint (x)"
   ]
  },
  {
   "cell_type": "code",
   "execution_count": 8,
   "metadata": {},
   "outputs": [
    {
     "name": "stdout",
     "output_type": "stream",
     "text": [
      "p\n",
      "y\n",
      "t\n",
      "h\n",
      "o\n",
      "n\n"
     ]
    }
   ],
   "source": [
    "s=\"python\"\n",
    "for x in s:\n",
    "    print (x)"
   ]
  },
  {
   "cell_type": "code",
   "execution_count": 9,
   "metadata": {},
   "outputs": [
    {
     "ename": "TypeError",
     "evalue": "'int' object is not iterable",
     "output_type": "error",
     "traceback": [
      "\u001b[1;31m\u001b[0m",
      "\u001b[1;31mTypeError\u001b[0mTraceback (most recent call last)",
      "\u001b[1;32m<ipython-input-9-8a1f11565974>\u001b[0m in \u001b[0;36m<module>\u001b[1;34m()\u001b[0m\n\u001b[1;32m----> 1\u001b[1;33m \u001b[1;32mfor\u001b[0m \u001b[0mx\u001b[0m \u001b[1;32min\u001b[0m \u001b[1;36m10\u001b[0m\u001b[1;33m:\u001b[0m\u001b[1;33m\u001b[0m\u001b[0m\n\u001b[0m\u001b[0;32m      2\u001b[0m     \u001b[1;32mprint\u001b[0m\u001b[1;33m(\u001b[0m\u001b[0mx\u001b[0m\u001b[1;33m)\u001b[0m\u001b[1;33m\u001b[0m\u001b[0m\n",
      "\u001b[1;31mTypeError\u001b[0m: 'int' object is not iterable"
     ]
    }
   ],
   "source": [
    "for x in 10:\n",
    "    print(x)"
   ]
  },
  {
   "cell_type": "code",
   "execution_count": 1,
   "metadata": {},
   "outputs": [
    {
     "name": "stdout",
     "output_type": "stream",
     "text": [
      "1\n",
      "0\n"
     ]
    }
   ],
   "source": [
    "for x in '10':\n",
    "    print(x)"
   ]
  },
  {
   "cell_type": "code",
   "execution_count": 11,
   "metadata": {},
   "outputs": [
    {
     "name": "stdout",
     "output_type": "stream",
     "text": [
      "j python\n",
      "a python\n",
      "v python\n",
      "a python\n"
     ]
    }
   ],
   "source": [
    "for i in \"java\":\n",
    "\tprint (i +\" python\")"
   ]
  },
  {
   "cell_type": "code",
   "execution_count": 12,
   "metadata": {},
   "outputs": [
    {
     "name": "stdout",
     "output_type": "stream",
     "text": [
      "cat\n",
      "window\n",
      "defenestrate\n"
     ]
    }
   ],
   "source": [
    "words = ['cat', 'window', 'defenestrate']\n",
    "for y in words:\n",
    "    print (y)"
   ]
  },
  {
   "cell_type": "code",
   "execution_count": 13,
   "metadata": {},
   "outputs": [
    {
     "name": "stdout",
     "output_type": "stream",
     "text": [
      "cat Python\n",
      "window Python\n",
      "defenestrate Python\n"
     ]
    }
   ],
   "source": [
    "words = ['cat', 'window', 'defenestrate']\n",
    "for y in words:\n",
    "    print (y+\" Python\")"
   ]
  },
  {
   "cell_type": "code",
   "execution_count": 2,
   "metadata": {},
   "outputs": [
    {
     "name": "stdout",
     "output_type": "stream",
     "text": [
      "('cat', 3)\n",
      "('window', 6)\n",
      "('defenestrate', 12)\n"
     ]
    }
   ],
   "source": [
    "for x in ['cat', 'window', 'defenestrate']:\n",
    "     print( x,len(x))"
   ]
  },
  {
   "cell_type": "code",
   "execution_count": 3,
   "metadata": {},
   "outputs": [
    {
     "ename": "SyntaxError",
     "evalue": "invalid syntax (<ipython-input-3-3667fe9215fb>, line 4)",
     "output_type": "error",
     "traceback": [
      "\u001b[1;36m  File \u001b[1;32m\"<ipython-input-3-3667fe9215fb>\"\u001b[1;36m, line \u001b[1;32m4\u001b[0m\n\u001b[1;33m    print range(2,20,3)-->[2,5,8,11,14,17]\u001b[0m\n\u001b[1;37m                         ^\u001b[0m\n\u001b[1;31mSyntaxError\u001b[0m\u001b[1;31m:\u001b[0m invalid syntax\n"
     ]
    }
   ],
   "source": [
    "range(10)----[0,1,2,3,4,5,6,7,8,9]\n",
    "print range(20)\n",
    "\n",
    "print range(2,20,3)-->[2,5,8,11,14,17]\n",
    "print range(-10, -100, -30) ----> [-10,-40,-70]\n"
   ]
  },
  {
   "cell_type": "markdown",
   "metadata": {},
   "source": [
    "range() is a built-in function of python. The range() function generates the integer numbers between the given start integer to the stop integer, which is generally used to iterate over with for Loop."
   ]
  },
  {
   "cell_type": "code",
   "execution_count": 7,
   "metadata": {},
   "outputs": [
    {
     "name": "stdout",
     "output_type": "stream",
     "text": [
      "0\n",
      "1\n",
      "2\n",
      "3\n",
      "4\n",
      "5\n",
      "6\n",
      "7\n",
      "8\n",
      "9\n"
     ]
    }
   ],
   "source": [
    "for i in range(10):\n",
    "    print (i)"
   ]
  },
  {
   "cell_type": "code",
   "execution_count": 4,
   "metadata": {},
   "outputs": [
    {
     "name": "stdout",
     "output_type": "stream",
     "text": [
      "2\n",
      "3\n",
      "4\n",
      "5\n",
      "6\n",
      "7\n",
      "8\n",
      "9\n"
     ]
    }
   ],
   "source": [
    "for i in range(2,10):\n",
    "    print (i)"
   ]
  },
  {
   "cell_type": "code",
   "execution_count": 8,
   "metadata": {},
   "outputs": [
    {
     "name": "stdout",
     "output_type": "stream",
     "text": [
      "2\n",
      "4\n",
      "6\n",
      "8\n",
      "Here\n"
     ]
    }
   ],
   "source": [
    "for i in range(2,10,2):#[2,3,4,5,6,7,8,9]\n",
    "    print (i)\n",
    "print(\"Here\")"
   ]
  },
  {
   "cell_type": "code",
   "execution_count": 9,
   "metadata": {},
   "outputs": [
    {
     "name": "stdout",
     "output_type": "stream",
     "text": [
      "(0, 'Mary')\n",
      "(1, 'had')\n",
      "(2, 'xyz')\n",
      "(3, 'little')\n",
      "(4, 'lamb')\n"
     ]
    }
   ],
   "source": [
    "a = ['Mary', 'had', 'xyz', 'little', 'lamb']\n",
    "for i in [0,1,2,3,4,]:\n",
    "    print (i, a[i])"
   ]
  },
  {
   "cell_type": "code",
   "execution_count": null,
   "metadata": {},
   "outputs": [],
   "source": [
    "a = ['Mary', 'had', 'xyz', 'little', 'lamb']\n",
    "for i in range(5):# for i in [0,1,2,3,4,]\n",
    "\tprint (i, a[i])"
   ]
  },
  {
   "cell_type": "code",
   "execution_count": null,
   "metadata": {},
   "outputs": [],
   "source": [
    "a = ['Mary', 'had', 'xyz', 'little', 'lamb']\n",
    "for i in range(len(a)):\n",
    "    \tprint (i, a[i])"
   ]
  },
  {
   "cell_type": "code",
   "execution_count": null,
   "metadata": {},
   "outputs": [],
   "source": [
    "n=0\n",
    "for x in range(2, 5):#[2,3]\n",
    "        print( \"value of n\" , n)\n",
    "        print( \"value of x\" , x)\n",
    "        print(\"-----------------\")"
   ]
  },
  {
   "cell_type": "code",
   "execution_count": null,
   "metadata": {},
   "outputs": [],
   "source": [
    "n=1\n",
    "for x in range(2, 5):#[2,3,4]\n",
    "        print( \"value of n\" , n)\n",
    "        print( \"value of x\" , x)\n",
    "        print(\"-----------------\")"
   ]
  },
  {
   "cell_type": "code",
   "execution_count": null,
   "metadata": {},
   "outputs": [],
   "source": [
    "n=2\n",
    "for x in range(2, 4):#[2,3]\n",
    "        print( \"value of n\" , n)\n",
    "        print( \"value of x\" , x)"
   ]
  },
  {
   "cell_type": "code",
   "execution_count": 10,
   "metadata": {},
   "outputs": [
    {
     "name": "stdout",
     "output_type": "stream",
     "text": [
      "('value of n', 2)\n",
      "('value of x', 2)\n",
      "-----------------\n",
      "('value of n', 2)\n",
      "('value of x', 3)\n",
      "-----------------\n",
      "('value of n', 3)\n",
      "('value of x', 2)\n",
      "-----------------\n",
      "('value of n', 3)\n",
      "('value of x', 3)\n",
      "-----------------\n",
      "('value of n', 4)\n",
      "('value of x', 2)\n",
      "-----------------\n",
      "('value of n', 4)\n",
      "('value of x', 3)\n",
      "-----------------\n"
     ]
    }
   ],
   "source": [
    "for n in range(2, 5):#n=4\n",
    "    for x in range(2, 4):\n",
    "        print( \"value of n\" , n)\n",
    "        print( \"value of x\" , x)\n",
    "        print(\"-----------------\")"
   ]
  },
  {
   "cell_type": "code",
   "execution_count": 11,
   "metadata": {},
   "outputs": [
    {
     "name": "stdout",
     "output_type": "stream",
     "text": [
      "M\n",
      "a\n",
      "r\n",
      "y\n",
      "h\n",
      "a\n",
      "d\n",
      "x\n",
      "y\n",
      "z\n",
      "l\n",
      "i\n",
      "t\n",
      "t\n",
      "l\n",
      "e\n",
      "l\n",
      "a\n",
      "m\n",
      "b\n"
     ]
    }
   ],
   "source": [
    "words=['Mary', 'had', 'xyz', 'little', 'lamb']\n",
    "for y in words:\n",
    "    for z in y:\n",
    "        print (z)"
   ]
  },
  {
   "cell_type": "markdown",
   "metadata": {},
   "source": [
    "### break statement\n",
    "When a break statement executes inside a loop, control flow \"breaks\" out of the loop immediately:\n",
    "The loop conditional will not be evaluated after the break statement is executed. Note that break statements are\n",
    "only allowed inside loops, syntactically. A break statement inside a function cannot be used to terminate loops that\n",
    "called that function."
   ]
  },
  {
   "cell_type": "code",
   "execution_count": 26,
   "metadata": {},
   "outputs": [
    {
     "name": "stdout",
     "output_type": "stream",
     "text": [
      "0\n",
      "1\n",
      "2\n",
      "3\n",
      "outside loop\n"
     ]
    }
   ],
   "source": [
    "for i in (0, 1, 2, 3, 4):\n",
    "    print(i)\n",
    "    if i == 3:\n",
    "        break\n",
    "print (\"outside loop\")"
   ]
  },
  {
   "cell_type": "code",
   "execution_count": 27,
   "metadata": {},
   "outputs": [
    {
     "name": "stdout",
     "output_type": "stream",
     "text": [
      "0\n",
      "outside loop\n"
     ]
    }
   ],
   "source": [
    "for i in (0, 1, 2, 3, 4):\n",
    "    print(i)\n",
    "    break\n",
    "print (\"outside loop\")"
   ]
  },
  {
   "cell_type": "code",
   "execution_count": 28,
   "metadata": {},
   "outputs": [
    {
     "name": "stdout",
     "output_type": "stream",
     "text": [
      "0\n",
      "1\n",
      "outside loop\n"
     ]
    }
   ],
   "source": [
    "for i in (0, 1, 2, 3, 4):\n",
    "    if i == 2:\n",
    "        break\n",
    "    print(i)\n",
    "print (\"outside loop\")"
   ]
  },
  {
   "cell_type": "code",
   "execution_count": 29,
   "metadata": {},
   "outputs": [
    {
     "name": "stdout",
     "output_type": "stream",
     "text": [
      "Current Letter : g\n",
      "Current Letter : e\n",
      "Current Letter : e\n",
      "outside loop\n"
     ]
    }
   ],
   "source": [
    "for letter in 'geeksforgeeks':\n",
    "    if letter == 'k':\n",
    "    \tbreak\n",
    "    print ('Current Letter :', letter)\n",
    "print (\"outside loop\")"
   ]
  },
  {
   "cell_type": "code",
   "execution_count": 30,
   "metadata": {},
   "outputs": [
    {
     "name": "stdout",
     "output_type": "stream",
     "text": [
      "outside loop\n"
     ]
    }
   ],
   "source": [
    "for letter in 'geeksforgeeks':\n",
    "    if letter == 'g':\n",
    "    \tbreak\n",
    "    print ('Current Letter :', letter)\n",
    "print (\"outside loop\")"
   ]
  },
  {
   "cell_type": "markdown",
   "metadata": {},
   "source": [
    "### continue statement\n",
    "A continue statement will skip to the next iteration of the loop bypassing the rest of the current block but\n",
    "continuing the loop. As with break, continue can only appear inside loops:"
   ]
  },
  {
   "cell_type": "code",
   "execution_count": 31,
   "metadata": {},
   "outputs": [
    {
     "name": "stdout",
     "output_type": "stream",
     "text": [
      "0\n",
      "Python\n",
      "Learning\n",
      "1\n",
      "Python\n",
      "Learning\n",
      "3\n",
      "Python\n",
      "Learning\n",
      "5\n",
      "Python\n",
      "Learning\n",
      "outside loop\n"
     ]
    }
   ],
   "source": [
    "for i in (0, 1, 2, 3, 4, 5):\n",
    "    if i == 2 or i == 4:\n",
    "        continue\n",
    "    print(i)\n",
    "    print(\"Python\")\n",
    "    print(\"Learning\")\n",
    "print (\"outside loop\")"
   ]
  },
  {
   "cell_type": "code",
   "execution_count": 32,
   "metadata": {},
   "outputs": [
    {
     "name": "stdout",
     "output_type": "stream",
     "text": [
      "Current Letter : g\n",
      "Current Letter : e\n",
      "Current Letter : e\n",
      "Current Letter : f\n",
      "Current Letter : o\n",
      "Current Letter : r\n",
      "Current Letter : g\n",
      "Current Letter : e\n",
      "Current Letter : e\n",
      "outside loop\n"
     ]
    }
   ],
   "source": [
    "for letter in 'geeksforgeeks':\n",
    "    if letter == 'k' or letter == 's':\n",
    "    \tcontinue\n",
    "    print ('Current Letter :', letter)\n",
    "\n",
    "print (\"outside loop\")"
   ]
  },
  {
   "cell_type": "code",
   "execution_count": null,
   "metadata": {},
   "outputs": [],
   "source": [
    "for letter in 'geeksforgeeks':\n",
    "    pass\n",
    "print (letter)"
   ]
  },
  {
   "cell_type": "markdown",
   "metadata": {},
   "source": [
    "#### The Pass Statement\n",
    "pass is a null statement for when a statement is required by Python syntax (such as within the body of a for or\n",
    "while loop), but no action is required or desired by the programmer. This can be useful as a placeholder for code\n",
    "that is yet to be written.\n"
   ]
  },
  {
   "cell_type": "code",
   "execution_count": 33,
   "metadata": {},
   "outputs": [
    {
     "name": "stdout",
     "output_type": "stream",
     "text": [
      "0\n",
      "1\n",
      "2\n",
      "3\n",
      "4\n",
      "5\n",
      "6\n",
      "7\n",
      "8\n",
      "9\n"
     ]
    }
   ],
   "source": [
    "# x=10\n",
    "# print(x++)\n",
    "\n",
    "for x in range(10):\n",
    "    print(x)\n",
    "    b=x\n",
    "    pass #we don't want to do anything, or are not ready to do anything here, so we'll pass"
   ]
  },
  {
   "cell_type": "code",
   "execution_count": null,
   "metadata": {},
   "outputs": [],
   "source": [
    "print (x)"
   ]
  },
  {
   "cell_type": "markdown",
   "metadata": {},
   "source": [
    "The for and while compound statements (loops) can optionally have an else clause (in practice, this usage is fairly\n",
    "rare).\n",
    "The else clause only executes after a for loop terminates by iterating to completion, or after a while loop\n",
    "terminates by its conditional expression becoming false."
   ]
  },
  {
   "cell_type": "code",
   "execution_count": 34,
   "metadata": {},
   "outputs": [
    {
     "name": "stdout",
     "output_type": "stream",
     "text": [
      "0\n",
      "1\n",
      "2\n",
      "done\n"
     ]
    }
   ],
   "source": [
    "for i in range(3):\n",
    "    print(i)\n",
    "else:\n",
    "    print('done')"
   ]
  },
  {
   "cell_type": "raw",
   "metadata": {},
   "source": [
    "The else clause does not execute if the loop terminates some other way (through a break statement or by raising\n",
    "an exception):"
   ]
  },
  {
   "cell_type": "code",
   "execution_count": 36,
   "metadata": {},
   "outputs": [
    {
     "name": "stdout",
     "output_type": "stream",
     "text": [
      "0\n",
      "inside for\n",
      "1\n",
      "i am after else\n"
     ]
    }
   ],
   "source": [
    "for i in range(2):\n",
    "    print(i)\n",
    "    if i == 1:\n",
    "        break\n",
    "    else:\n",
    "        print(\"inside for\")\n",
    "else:\n",
    "    print('done')\n",
    "print(\"i am after else\")"
   ]
  },
  {
   "cell_type": "code",
   "execution_count": 37,
   "metadata": {},
   "outputs": [
    {
     "name": "stdout",
     "output_type": "stream",
     "text": [
      "0\n",
      "1\n"
     ]
    }
   ],
   "source": [
    "for i in range(2):\n",
    "    print(i)\n",
    "    if i == 1:\n",
    "        break\n",
    "else:\n",
    "    print('done')\n",
    "    print(\"i am after else\")"
   ]
  },
  {
   "cell_type": "code",
   "execution_count": null,
   "metadata": {},
   "outputs": [],
   "source": [
    "If you want to loop though both the elements of a list and have an index for the elements as well, you can use\n",
    "Python's enumerate function:"
   ]
  },
  {
   "cell_type": "code",
   "execution_count": 38,
   "metadata": {},
   "outputs": [
    {
     "name": "stdout",
     "output_type": "stream",
     "text": [
      "0 :: java\n",
      "1 :: python\n",
      "2 :: scala\n",
      "3 :: c#\n"
     ]
    }
   ],
   "source": [
    "for ind, ite in enumerate(['java', 'python', 'scala', 'c#']):\n",
    "    print(ind, '::', ite)"
   ]
  },
  {
   "cell_type": "markdown",
   "metadata": {},
   "source": [
    "Assignment"
   ]
  },
  {
   "cell_type": "markdown",
   "metadata": {},
   "source": [
    "Write a program which will find all such numbers which are divisible by 7 but are not a multiple of 5,\n",
    "between 2000 and 3200 (both included).\n",
    "The numbers obtained should be printed in a comma-separated sequence on a single line.\n",
    "Hints: \n",
    "Consider use range(#begin, #end) method\n"
   ]
  },
  {
   "cell_type": "code",
   "execution_count": null,
   "metadata": {},
   "outputs": [],
   "source": [
    "l=[]\n",
    "for i in range(2000, 3201):\n",
    "    if (i%7==0) and (i%5!=0):\n",
    "        l.append(str(i))\n",
    "\n",
    "print ','.join(l)"
   ]
  },
  {
   "cell_type": "code",
   "execution_count": null,
   "metadata": {},
   "outputs": [],
   "source": [
    "for i in range(0, 5):\n",
    "    # inner loop to handle number of columns\n",
    "    # values changing acc. to outer loop\n",
    "    for j in range(0, i+1):\n",
    "        # printing stars\n",
    "        print(\"* \",end=\"\")\n",
    "    # ending line after each row\n",
    "    print(\"\\r\")"
   ]
  },
  {
   "cell_type": "code",
   "execution_count": null,
   "metadata": {},
   "outputs": [],
   "source": [
    "# i = 1\n",
    "# while i != 6:\n",
    "#     print(\"*\"*i)\n",
    "#     i = i + 1\n",
    "    \n",
    "i = 1\n",
    "x = int(input(\"enter how many starts you want \"))\n",
    "for i in range(1,x+1):\n",
    "    print(\" \"*(x-i) + \"*\"*i)"
   ]
  },
  {
   "cell_type": "code",
   "execution_count": null,
   "metadata": {},
   "outputs": [],
   "source": [
    "i = 1\n",
    "x = int(input(\"enter how many starts you want \"))\n",
    "for i in range(1,x+1):\n",
    "    print(\"*\"*i)"
   ]
  },
  {
   "cell_type": "code",
   "execution_count": null,
   "metadata": {},
   "outputs": [],
   "source": [
    "i = 1\n",
    "x = int(input(\"enter how many starts you want \"))*2\n",
    "for i in range(i,int(x/2) + 1):\n",
    "print(\" \"*x + \"* \"*i)\n",
    "x = x -1"
   ]
  },
  {
   "cell_type": "code",
   "execution_count": null,
   "metadata": {},
   "outputs": [],
   "source": [
    "\n",
    "x = int(input(\"Enter a number \"))\n",
    "i = 1\n",
    "r = 1\n",
    "q = str()\n",
    "for i in range(1,x+1):\n",
    "while r <= i:\n",
    "r = str(r)\n",
    "q = str(q) + r\n",
    "r = int(r) + 1\n",
    "print(q)\n",
    "q = \"\"\n",
    "r = int(1)\n",
    "i = i + 1"
   ]
  },
  {
   "cell_type": "code",
   "execution_count": null,
   "metadata": {},
   "outputs": [],
   "source": [
    "Program to calculate the factorial\n",
    "5\n",
    "fact(5)= 5*4*3*2*1\n",
    "\n",
    "4 "
   ]
  }
 ],
 "metadata": {
  "kernelspec": {
   "display_name": "Python 2",
   "language": "python",
   "name": "python2"
  },
  "language_info": {
   "codemirror_mode": {
    "name": "ipython",
    "version": 2
   },
   "file_extension": ".py",
   "mimetype": "text/x-python",
   "name": "python",
   "nbconvert_exporter": "python",
   "pygments_lexer": "ipython2",
   "version": "2.7.16"
  }
 },
 "nbformat": 4,
 "nbformat_minor": 2
}
