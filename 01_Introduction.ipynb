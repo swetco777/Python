{
 "cells": [
  {
   "cell_type": "markdown",
   "metadata": {},
   "source": [
    "# Python – The new generation Language\n",
    " \n",
    "\n",
    "Python designed by Guido van Rossum at CWI has become a widely used general-purpose, high-level programming language.\n",
    "\n",
    "Prerequisites:\n",
    "\n",
    "Knowledge of any programming language can be a plus.\n",
    "\n"
   ]
  },
  {
   "cell_type": "markdown",
   "metadata": {},
   "source": [
    "#### Reason for increasing popularity\n",
    "1. Emphasis on code readability, shorter codes, ease of writing\n",
    "2. Programmers can express logical concepts in fewer lines of code in comparison to languages such as C++ or Java.\n",
    "3. Python supports multiple programming paradigms, like object-oriented, imperative and functional programming or procedural.\n",
    "4. There exists inbuilt functions for almost all of the frequently used concepts.\n",
    "5. Philosophy is “Simplicity is the best”."
   ]
  },
  {
   "cell_type": "markdown",
   "metadata": {},
   "source": [
    "#### LANGUAGE FEATURES\n",
    "\n",
    "Interpreted\n",
    "\n",
    "* There are no separate compilation and execution steps like C and C++.\n",
    "* Directly runthe program from the source code.\n",
    "* Internally, Python converts the source code into an intermediate form called bytecodes which is then translated into native language of specific computer to run it.\n",
    "* No need to worry about linking and loading with libraries, etc.\n",
    "\n",
    "Platform Independent\n",
    "\n",
    "* Python programs can be developed and executed on multiple operating system platforms.\n",
    "* Python can be used on Linux, Windows, Macintosh, Solaris and many more.\n",
    "* Free and Open Source; Redistributable\n",
    "\n",
    "High-level Language\n",
    "* In Python, no need to take care about low-level details such as managing the memory used by the program.\n",
    "\n",
    "Simple\n",
    "Closer to English language;Easy to Learn\n",
    "More emphasis on the solution to the problem rather than the syntax\n",
    "\n",
    "* Embeddable\n",
    "Python can be used within C/C++ program to give scripting capabilities for the program’s users.\n",
    "\n",
    "Robust:\n",
    "* Exceptional handling features\n",
    "* Memory management techniques in built\n",
    "\n",
    "Rich Library Support\n",
    "* The Python Standard Library is vary vast.\n",
    "* Known as the “batteries included” philosophy of Python ;It can help do various things involving regular expressions, documentation generation, unit testing, threading, databases, web browsers, CGI, email, XML, HTML, WAV files, cryptography, GUI and many more.\n",
    "* Besides the standard library, there are various other high-quality libraries such as the Python Imaging Library which is an amazingly simple image manipulation library."
   ]
  },
  {
   "cell_type": "markdown",
   "metadata": {},
   "source": [
    "The classical Hello World program illustrating the relative verbosity of a Java Program and Python Program\n",
    "Java Code\n",
    "\n",
    "\n",
    "\n"
   ]
  },
  {
   "cell_type": "code",
   "execution_count": null,
   "metadata": {},
   "outputs": [],
   "source": [
    "public class HelloWorld\n",
    "{\n",
    "   public static void main (String[] args)\n",
    "   {\n",
    "      System.out.println(\"Hello, world!\");\n",
    "   }\n",
    "}"
   ]
  },
  {
   "cell_type": "code",
   "execution_count": 1,
   "metadata": {},
   "outputs": [
    {
     "name": "stdout",
     "output_type": "stream",
     "text": [
      "Hello, world!\n"
     ]
    }
   ],
   "source": [
    "print(\"Hello, world!\") # Python version 3"
   ]
  },
  {
   "cell_type": "code",
   "execution_count": null,
   "metadata": {},
   "outputs": [],
   "source": [
    "1. >>a = 5, What this line does is, it creates an object which holds value 5 & a refers to it.\n",
    "\n",
    "2. Each Object consists of 3 things - data ( 5 in this case ), type ( int in this case ) & reference_count ( 1 in this case)\n",
    "\n",
    "3. If we allocate numbers below 255 or string of smaller size ( not separated by special characters ), Python Object Model shares the object by increasing the reference_count.\n",
    "\n",
    "4. If two references a & b refers to same objects, id(a) == id(b) will evaluate to be true. Another way to test this is a is b.\n",
    "\n",
    "5. a = 5, b = 5. Reference count of the object containing 5 is 2 now.\n",
    "\n",
    "6. a = 6. Reference count of object containing 5 is one now\n",
    "\n",
    "7. b = 7. Reference count of object containing 5 is zero now.\n",
    "\n",
    "8. Objects are eligible for memory cleanup when their reference count is zero. Periodic Garbage collection will reclaim the memory \n",
    "\n",
    "9. One important point to note here is, numbers above 255 & longs strings are not shared\n",
    "because chances of them using in code is far less. Doing a lookup everytime will impact \n",
    "CPU utilization every time a variable is assigned. This provides an equilibrium in \n",
    "memory vs CPU utilization.\n",
    "\n",
    "10. Because of the type information associated with every object, 5 & 5.0 will occupy a different piece of memory. And, hence different objects.\n",
    "\n"
   ]
  }
 ],
 "metadata": {
  "kernelspec": {
   "display_name": "Python 3",
   "language": "python",
   "name": "python3"
  },
  "language_info": {
   "codemirror_mode": {
    "name": "ipython",
    "version": 3
   },
   "file_extension": ".py",
   "mimetype": "text/x-python",
   "name": "python",
   "nbconvert_exporter": "python",
   "pygments_lexer": "ipython3",
   "version": "3.6.4"
  }
 },
 "nbformat": 4,
 "nbformat_minor": 2
}
