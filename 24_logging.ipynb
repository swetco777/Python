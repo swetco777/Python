{
 "cells": [
  {
   "cell_type": "markdown",
   "metadata": {},
   "source": [
    "### LOGGING LEVELS\n",
    "\n",
    "\n",
    "There are two built-in levels of the log message.\n",
    "\n",
    "* Debug : These are used to give Detailed information, typically of interest only when diagnosing problems.\n",
    "* Info : These are used to Confirm that things are working as expected\n",
    "* Warning : These are used an indication that something unexpected happened, or indicative of some problem in the near future\n",
    "* Error : This tells that due to a more serious problem, the software has not been able to perform some function\n",
    "* Critical : This tells serious error, indicating that the program itself may be unable to continue running\n"
   ]
  },
  {
   "cell_type": "code",
   "execution_count": 1,
   "metadata": {},
   "outputs": [],
   "source": [
    "import logging\n",
    "\n",
    "logging.basicConfig(filename=\"test.log\", level=logging.DEBUG)\n",
    "logging.warning(\"warning message\")\n",
    "logging.info(\"info message\")\n",
    "logging.error(\"error message\")"
   ]
  },
  {
   "cell_type": "markdown",
   "metadata": {},
   "source": [
    "### Logging Format"
   ]
  },
  {
   "cell_type": "code",
   "execution_count": 4,
   "metadata": {},
   "outputs": [],
   "source": [
    "import logging\n",
    "\n",
    "logging.basicConfig(format='%(asctime)s: %(levelname)s: %(message)s',\n",
    "                    datefmt='%m/%d/%Y %I:%M:%S %p',level=logging.DEBUG)\n",
    "logging.warning(\"warning message\")\n",
    "logging.info(\"info message\")\n",
    "logging.error(\"error message\")"
   ]
  },
  {
   "cell_type": "code",
   "execution_count": 5,
   "metadata": {},
   "outputs": [
    {
     "name": "stderr",
     "output_type": "stream",
     "text": [
      "09/29/2018 05:29:21 PM - LoggerDemoConsole - INFO: info message\n",
      "C:\\Users\\assharma\\AppData\\Local\\Continuum\\anaconda3\\lib\\site-packages\\ipykernel_launcher.py:27: DeprecationWarning: The 'warn' method is deprecated, use 'warning' instead\n",
      "09/29/2018 05:29:21 PM - LoggerDemoConsole - WARNING: warn message\n",
      "09/29/2018 05:29:21 PM - LoggerDemoConsole - ERROR: error message\n",
      "09/29/2018 05:29:21 PM - LoggerDemoConsole - CRITICAL: critical message\n"
     ]
    }
   ],
   "source": [
    "import logging\n",
    "\n",
    "class LoggerDemoConsole():\n",
    "\n",
    "    def testLog(self):\n",
    "        # create logger\n",
    "        logger = logging.getLogger(LoggerDemoConsole.__name__)\n",
    "        logger.setLevel(logging.INFO)\n",
    "\n",
    "        # create console handler and set level to info\n",
    "        consoleHandler = logging.StreamHandler()\n",
    "        consoleHandler.setLevel(logging.INFO)\n",
    "\n",
    "        # create formatter\n",
    "        formatter = logging.Formatter('%(asctime)s - %(name)s - %(levelname)s: %(message)s',\n",
    "                    datefmt='%m/%d/%Y %I:%M:%S %p')\n",
    "\n",
    "        # add formatter to console handler\n",
    "        consoleHandler.setFormatter(formatter)\n",
    "\n",
    "        # add console handler to logger\n",
    "        logger.addHandler(consoleHandler)\n",
    "\n",
    "        # logging messages\n",
    "        logger.debug('debug message')\n",
    "        logger.info('info message')\n",
    "        logger.warn('warn message')\n",
    "        logger.error('error message')\n",
    "        logger.critical('critical message')\n",
    "\n",
    "demo = LoggerDemoConsole()\n",
    "demo.testLog()"
   ]
  },
  {
   "cell_type": "code",
   "execution_count": null,
   "metadata": {},
   "outputs": [],
   "source": []
  }
 ],
 "metadata": {
  "kernelspec": {
   "display_name": "Python 3",
   "language": "python",
   "name": "python3"
  },
  "language_info": {
   "codemirror_mode": {
    "name": "ipython",
    "version": 3
   },
   "file_extension": ".py",
   "mimetype": "text/x-python",
   "name": "python",
   "nbconvert_exporter": "python",
   "pygments_lexer": "ipython3",
   "version": "3.6.4"
  }
 },
 "nbformat": 4,
 "nbformat_minor": 2
}
