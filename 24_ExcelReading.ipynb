{
 "cells": [
  {
   "cell_type": "code",
   "execution_count": 12,
   "metadata": {},
   "outputs": [
    {
     "data": {
      "text/plain": [
       "'COL1'"
      ]
     },
     "execution_count": 12,
     "metadata": {},
     "output_type": "execute_result"
    }
   ],
   "source": [
    "# Reading an excel file using Python \n",
    "import xlrd \n",
    "  \n",
    "# Give the location of the file \n",
    "#loc = (\"path of file\") \n",
    "  \n",
    "# To open Workbook \n",
    "wb = xlrd.open_workbook('sample _more.xlsx') \n",
    "sheet = wb.sheet_by_index(0) \n",
    "  \n",
    "# For row 0 and column 0 \n",
    "sheet.cell_value(0, 0) "
   ]
  },
  {
   "cell_type": "code",
   "execution_count": null,
   "metadata": {},
   "outputs": [],
   "source": []
  },
  {
   "cell_type": "code",
   "execution_count": 13,
   "metadata": {},
   "outputs": [
    {
     "name": "stdout",
     "output_type": "stream",
     "text": [
      "3\n"
     ]
    }
   ],
   "source": [
    "#Extract number of rows\n",
    "# Program to extract number \n",
    "# of rows using Python \n",
    "import xlrd \n",
    "  \n",
    "# Give the location of the file \n",
    "\n",
    "  \n",
    "wb = xlrd.open_workbook('sample _more.xlsx') \n",
    "sheet = wb.sheet_by_index(0) \n",
    "sheet.cell_value(0, 0) \n",
    "  \n",
    "# Extracting number of rows \n",
    "print(sheet.nrows) \n"
   ]
  },
  {
   "cell_type": "code",
   "execution_count": 4,
   "metadata": {},
   "outputs": [
    {
     "name": "stdout",
     "output_type": "stream",
     "text": [
      "3\n"
     ]
    }
   ],
   "source": [
    "#Extract number of columns\n",
    "# Program to extract number of \n",
    "# columns in Python \n",
    "import xlrd \n",
    "    \n",
    "wb = xlrd.open_workbook('sample _more.xlsx') \n",
    "sheet = wb.sheet_by_index(0) \n",
    "  \n",
    "# For row 0 and column 0 \n",
    "sheet.cell_value(0, 0) \n",
    "  \n",
    "# Extracting number of columns \n",
    "print(sheet.ncols) "
   ]
  },
  {
   "cell_type": "code",
   "execution_count": 18,
   "metadata": {},
   "outputs": [
    {
     "name": "stdout",
     "output_type": "stream",
     "text": [
      "COL1\n",
      "COL1\n",
      "COL2\n",
      "COL3\n"
     ]
    }
   ],
   "source": [
    "#Extracting all columns name\n",
    "# Program extracting all columns \n",
    "# name in Python \n",
    "import xlrd \n",
    "  \n",
    "wb = xlrd.open_workbook('sample _more.xlsx') \n",
    "sheet = wb.sheet_by_index(0) \n",
    "  \n",
    "# For row 0 and column 0 \n",
    "sheet.cell_value(0, 0) \n",
    "print(sheet.cell_value(0, 0) )\n",
    "  \n",
    "for i in range(sheet.ncols): \n",
    "    print(sheet.cell_value(0, i)) "
   ]
  },
  {
   "cell_type": "code",
   "execution_count": 19,
   "metadata": {},
   "outputs": [
    {
     "name": "stdout",
     "output_type": "stream",
     "text": [
      "COL1\n",
      "selenium\n",
      "python\n"
     ]
    }
   ],
   "source": [
    "#Extract first column\n",
    "# Program extracting first column \n",
    "import xlrd \n",
    "wb = xlrd.open_workbook('sample _more.xlsx') \n",
    "sheet = wb.sheet_by_index(0) \n",
    "sheet.cell_value(0, 0) \n",
    "  \n",
    "for i in range(sheet.nrows): \n",
    "    print(sheet.cell_value(i, 0)) "
   ]
  },
  {
   "cell_type": "code",
   "execution_count": 21,
   "metadata": {},
   "outputs": [
    {
     "name": "stdout",
     "output_type": "stream",
     "text": [
      "<xlrd.sheet.Sheet object at 0x000001DCE7B3F630>\n",
      "COL1\n",
      "['COL1', 'COL2', 'COL3']\n",
      "['selenium', 'appium', 'jmeter']\n",
      "['python', 'java', 'javascript']\n"
     ]
    }
   ],
   "source": [
    "# Extract a particular row value\n",
    "# Program to extract a particular row value \n",
    "import xlrd \n",
    "wb = xlrd.open_workbook('sample _more.xlsx') \n",
    "sheet = wb.sheet_by_index(0) \n",
    "\n",
    "print(sheet)\n",
    " \n",
    "sheet.cell_value(0, 0) \n",
    "print(sheet.cell_value(0, 0)) \n",
    "  \n",
    "print(sheet.row_values(0))\n",
    "print(sheet.row_values(1))\n",
    "print(sheet.row_values(2))\n"
   ]
  },
  {
   "cell_type": "code",
   "execution_count": null,
   "metadata": {},
   "outputs": [],
   "source": []
  },
  {
   "cell_type": "code",
   "execution_count": null,
   "metadata": {},
   "outputs": [],
   "source": []
  },
  {
   "cell_type": "code",
   "execution_count": 23,
   "metadata": {},
   "outputs": [
    {
     "name": "stdout",
     "output_type": "stream",
     "text": [
      "['Sheet1', 'Sheet2', 'Sheet3']\n",
      "['COL1', 'COL2', 'COL3']\n",
      "The keyword [COL1] is searched\n",
      "['selenium', 'appium', 'jmeter']\n",
      "The keyword [selenium] is searched\n",
      "['python', 'java', 'javascript']\n",
      "The keyword [python] is searched\n"
     ]
    }
   ],
   "source": [
    "import xlrd\n",
    "wb=xlrd.open_workbook('sample _more.xlsx')\n",
    "sheetname = wb.sheet_names() \n",
    "        #Read for XLSX Sheet names\n",
    "print (sheetname)\n",
    "sh1 = wb.sheet_by_index(0) \n",
    "# print (dir(sh1))\n",
    "i=0\n",
    "while (i<3):\n",
    "    rownum=(i)\n",
    "    rows = sh1.row_values(rownum)\n",
    "    print(rows)\n",
    "    print (\"The keyword [\" + rows[0] + \"] is searched\")\n",
    "    i=i+1"
   ]
  },
  {
   "cell_type": "code",
   "execution_count": 33,
   "metadata": {},
   "outputs": [
    {
     "name": "stdout",
     "output_type": "stream",
     "text": [
      "['COL1', 'selenium', 'python']\n",
      "The keyword [COL1] is searched\n",
      "['COL2', 'appium', 'java']\n",
      "The keyword [COL2] is searched\n",
      "['COL3', 'jmeter', 'javascript']\n",
      "The keyword [COL3] is searched\n"
     ]
    }
   ],
   "source": [
    "import xlrd\n",
    "wb=xlrd.open_workbook('sample _more.xlsx')\n",
    "sheetname = wb.sheet_names() \n",
    "        #Read for XLSX Sheet names\n",
    "sh1 = wb.sheet_by_index(0) \n",
    "# print (dir(sh1))\n",
    "i=0\n",
    "while (i<3):\n",
    "    rownum=(i)\n",
    "    cols = sh1.col_values(rownum)\n",
    "    print(cols)\n",
    "    print (\"The keyword [\" + cols[0] + \"] is searched\")\n",
    "    #if (cols[1]=='selenium'):\n",
    "        #print(\"found\")\n",
    "    #break\n",
    "    i=i+1"
   ]
  },
  {
   "cell_type": "code",
   "execution_count": 34,
   "metadata": {},
   "outputs": [
    {
     "ename": "ModuleNotFoundError",
     "evalue": "No module named 'selenium'",
     "output_type": "error",
     "traceback": [
      "\u001b[1;31m---------------------------------------------------------------------------\u001b[0m",
      "\u001b[1;31mModuleNotFoundError\u001b[0m                       Traceback (most recent call last)",
      "\u001b[1;32m<ipython-input-34-10c443d4c16b>\u001b[0m in \u001b[0;36m<module>\u001b[1;34m\u001b[0m\n\u001b[1;32m----> 1\u001b[1;33m \u001b[1;32mfrom\u001b[0m \u001b[0mselenium\u001b[0m \u001b[1;32mimport\u001b[0m \u001b[0mwebdriver\u001b[0m\u001b[1;33m\u001b[0m\u001b[1;33m\u001b[0m\u001b[0m\n\u001b[0m\u001b[0;32m      2\u001b[0m \u001b[1;32mimport\u001b[0m \u001b[0munittest\u001b[0m\u001b[1;33m,\u001b[0m \u001b[0mtime\u001b[0m\u001b[1;33m\u001b[0m\u001b[1;33m\u001b[0m\u001b[0m\n\u001b[0;32m      3\u001b[0m \u001b[1;32mimport\u001b[0m \u001b[0mxlrd\u001b[0m\u001b[1;33m\u001b[0m\u001b[1;33m\u001b[0m\u001b[0m\n\u001b[0;32m      4\u001b[0m \u001b[1;32mfrom\u001b[0m \u001b[0mselenium\u001b[0m \u001b[1;32mimport\u001b[0m \u001b[0mwebdriver\u001b[0m\u001b[1;33m\u001b[0m\u001b[1;33m\u001b[0m\u001b[0m\n\u001b[0;32m      5\u001b[0m \u001b[1;32mfrom\u001b[0m \u001b[0mtime\u001b[0m \u001b[1;32mimport\u001b[0m \u001b[0msleep\u001b[0m\u001b[1;33m\u001b[0m\u001b[1;33m\u001b[0m\u001b[0m\n",
      "\u001b[1;31mModuleNotFoundError\u001b[0m: No module named 'selenium'"
     ]
    }
   ],
   "source": [
    "from selenium import webdriver\n",
    "import unittest, time\n",
    "import xlrd\n",
    "from selenium import webdriver\n",
    "from time import sleep\n",
    "from selenium.webdriver.common.keys import Keys\n",
    "from selenium.webdriver.support.ui import WebDriverWait\n",
    "from selenium.webdriver.support.ui import Select\n",
    "from selenium.webdriver.support import expected_conditions as EC\n",
    "class moduleName(unittest.TestCase):\n",
    "    def setUp(self):\n",
    "        self.driver = webdriver.Chrome()\n",
    "        self.driver.implicitly_wait(30)\n",
    "        self.base_url = \"https://www.google.co.in/\"\n",
    "        self.verificationErrors = []\n",
    "        self.accept_next_alert = True\n",
    "        \n",
    "    def test_Login(self):\n",
    "        driver=self.driver\n",
    "        # driver.get(self.base_url +\"/\")\n",
    "        driver.get(self.base_url)\n",
    "        driver.maximize_window()\n",
    "        wb=xlrd.open_workbook('sample.xlsx')\n",
    "        sheetname = wb.sheet_names() \n",
    "        #Read for XLSX Sheet names\n",
    "        print (sheetname)\n",
    "        sh1 = wb.sheet_by_index(0) \n",
    "                        \n",
    "        i=0\n",
    "        while (i<2):\n",
    "            rownum=(i)\n",
    "            rows = sh1.row_values(rownum)\n",
    "            print(rows)\n",
    "            sleep(3)\n",
    "            elem = driver.find_element_by_name(\"q\")\n",
    "            elem.clear()\n",
    "            elem.send_keys(rows[0])\n",
    "            elem.send_keys(Keys.RETURN)\n",
    "\n",
    "            print (\"The keyword [\" + rows[0] + \"] is searched\")\n",
    "            sleep(5)\n",
    "#             driver.back()\n",
    "            sleep(3)\n",
    "            i=i+1\n",
    "    \n",
    "    def tearDown(self):\n",
    "        self.driver.quit()\n",
    "\n",
    "if __name__ == '__main__':\n",
    "       unittest.main(argv=['first-arg-is-ignored'], exit=False)"
   ]
  },
  {
   "cell_type": "code",
   "execution_count": 1,
   "metadata": {},
   "outputs": [
    {
     "ename": "ModuleNotFoundError",
     "evalue": "No module named 'docx'",
     "output_type": "error",
     "traceback": [
      "\u001b[1;31m---------------------------------------------------------------------------\u001b[0m",
      "\u001b[1;31mModuleNotFoundError\u001b[0m                       Traceback (most recent call last)",
      "\u001b[1;32m<ipython-input-1-288c0000c314>\u001b[0m in \u001b[0;36m<module>\u001b[1;34m\u001b[0m\n\u001b[1;32m----> 1\u001b[1;33m \u001b[1;32mfrom\u001b[0m \u001b[0mdocx\u001b[0m \u001b[1;32mimport\u001b[0m \u001b[0mDocument\u001b[0m\u001b[1;33m\u001b[0m\u001b[1;33m\u001b[0m\u001b[0m\n\u001b[0m\u001b[0;32m      2\u001b[0m \u001b[1;32mfrom\u001b[0m \u001b[0mdocx\u001b[0m\u001b[1;33m.\u001b[0m\u001b[0mshared\u001b[0m \u001b[1;32mimport\u001b[0m \u001b[0mInches\u001b[0m\u001b[1;33m\u001b[0m\u001b[1;33m\u001b[0m\u001b[0m\n\u001b[0;32m      3\u001b[0m \u001b[1;33m\u001b[0m\u001b[0m\n\u001b[0;32m      4\u001b[0m \u001b[0mdocument\u001b[0m \u001b[1;33m=\u001b[0m \u001b[0mDocument\u001b[0m\u001b[1;33m(\u001b[0m\u001b[1;33m)\u001b[0m\u001b[1;33m\u001b[0m\u001b[1;33m\u001b[0m\u001b[0m\n\u001b[0;32m      5\u001b[0m \u001b[1;33m\u001b[0m\u001b[0m\n",
      "\u001b[1;31mModuleNotFoundError\u001b[0m: No module named 'docx'"
     ]
    }
   ],
   "source": []
  },
  {
   "cell_type": "code",
   "execution_count": null,
   "metadata": {},
   "outputs": [],
   "source": []
  }
 ],
 "metadata": {
  "kernelspec": {
   "display_name": "Python 3",
   "language": "python",
   "name": "python3"
  },
  "language_info": {
   "codemirror_mode": {
    "name": "ipython",
    "version": 3
   },
   "file_extension": ".py",
   "mimetype": "text/x-python",
   "name": "python",
   "nbconvert_exporter": "python",
   "pygments_lexer": "ipython3",
   "version": "3.7.3"
  }
 },
 "nbformat": 4,
 "nbformat_minor": 2
}
