{
 "cells": [
  {
   "cell_type": "raw",
   "metadata": {},
   "source": [
    "---reading a file----\n",
    "# <filePointerVariable>=open(<fileName>,<mode>)\n",
    "\n"
   ]
  },
  {
   "cell_type": "markdown",
   "metadata": {},
   "source": [
    "* 'r' - reading mode. The default. It allows you only to read the file, not to modify it. When using this mode the\n",
    "file must exist.\n",
    "* 'w' - writing mode. It will create a new file if it does not exist, otherwise will erase the file and allow you to\n",
    "write to it.\n",
    "* 'a' - append mode. It will write data to the end of the file. It does not erase the file, and the file must exist for\n",
    "this mode.\n",
    "* 'rb' - reading mode in binary. This is similar to r except that the reading is forced in binary mode. This is\n",
    "also a default choice.\n",
    "* 'r+' - reading mode plus writing mode at the same time. This allows you to read and write into files at the\n",
    "same time without having to use r and w.\n",
    "* 'rb+' - reading and writing mode in binary. The same as r+ except the data is in binary\n",
    "* 'wb' - writing mode in binary. The same as w except the data is in binary.\n",
    "* 'w+' - writing and reading mode. The exact same as r+ but if the file does not exist, a new one is made.\n",
    "Otherwise, the file is overwritten.\n",
    "* 'wb+' - writing and reading mode in binary mode. The same as w+ but the data is in binary.\n",
    "* 'ab' - appending in binary mode. Similar to a except that the data is in binary.\n",
    "* 'a+' - appending and reading mode. Similar to w+ as it will create a new file if the file does not exist.\n",
    "Otherwise, the file pointer is at the end of the file if it exists.\n",
    "* 'ab+' - appending and reading mode in binary. The same as a+ except that the data is in binary."
   ]
  },
  {
   "cell_type": "markdown",
   "metadata": {},
   "source": [
    "<filePointerVariable>=open(<fileName>,<mode>)\n"
   ]
  },
  {
   "cell_type": "code",
   "execution_count": null,
   "metadata": {},
   "outputs": [],
   "source": [
    "fp=open(\"output.txt\",'r')\n"
   ]
  },
  {
   "cell_type": "code",
   "execution_count": null,
   "metadata": {},
   "outputs": [],
   "source": [
    "type(fp)\n"
   ]
  },
  {
   "cell_type": "code",
   "execution_count": null,
   "metadata": {},
   "outputs": [],
   "source": [
    "fp\n"
   ]
  },
  {
   "cell_type": "code",
   "execution_count": null,
   "metadata": {},
   "outputs": [],
   "source": [
    "fp.close()"
   ]
  },
  {
   "cell_type": "markdown",
   "metadata": {},
   "source": [
    "### Reading file as a string"
   ]
  },
  {
   "cell_type": "code",
   "execution_count": 1,
   "metadata": {},
   "outputs": [],
   "source": [
    "fp=open(\"output.txt\",'r')\n"
   ]
  },
  {
   "cell_type": "code",
   "execution_count": 2,
   "metadata": {},
   "outputs": [
    {
     "data": {
      "text/plain": [
       "'My Test File\\nsecond line\\nthird line'"
      ]
     },
     "execution_count": 2,
     "metadata": {},
     "output_type": "execute_result"
    }
   ],
   "source": [
    "fp.read()\n",
    "\n"
   ]
  },
  {
   "cell_type": "code",
   "execution_count": 4,
   "metadata": {},
   "outputs": [
    {
     "data": {
      "text/plain": [
       "''"
      ]
     },
     "execution_count": 4,
     "metadata": {},
     "output_type": "execute_result"
    }
   ],
   "source": [
    "fp.read(2)"
   ]
  },
  {
   "cell_type": "markdown",
   "metadata": {},
   "source": [
    "### Reading file line by line\n"
   ]
  },
  {
   "cell_type": "code",
   "execution_count": null,
   "metadata": {},
   "outputs": [],
   "source": []
  },
  {
   "cell_type": "code",
   "execution_count": null,
   "metadata": {},
   "outputs": [],
   "source": []
  },
  {
   "cell_type": "code",
   "execution_count": 7,
   "metadata": {},
   "outputs": [],
   "source": [
    "fp=open(\"output.txt\",'r')\n"
   ]
  },
  {
   "cell_type": "code",
   "execution_count": 8,
   "metadata": {},
   "outputs": [
    {
     "data": {
      "text/plain": [
       "'My Test File\\n'"
      ]
     },
     "execution_count": 8,
     "metadata": {},
     "output_type": "execute_result"
    }
   ],
   "source": [
    "fp.readline()\n"
   ]
  },
  {
   "cell_type": "code",
   "execution_count": 9,
   "metadata": {},
   "outputs": [
    {
     "data": {
      "text/plain": [
       "'second line\\n'"
      ]
     },
     "execution_count": 9,
     "metadata": {},
     "output_type": "execute_result"
    }
   ],
   "source": [
    "fp.readline()\n"
   ]
  },
  {
   "cell_type": "code",
   "execution_count": 10,
   "metadata": {},
   "outputs": [
    {
     "data": {
      "text/plain": [
       "'third line'"
      ]
     },
     "execution_count": 10,
     "metadata": {},
     "output_type": "execute_result"
    }
   ],
   "source": [
    "fp.readline()\n"
   ]
  },
  {
   "cell_type": "code",
   "execution_count": 11,
   "metadata": {},
   "outputs": [
    {
     "data": {
      "text/plain": [
       "''"
      ]
     },
     "execution_count": 11,
     "metadata": {},
     "output_type": "execute_result"
    }
   ],
   "source": [
    "fp.readline()\n"
   ]
  },
  {
   "cell_type": "code",
   "execution_count": null,
   "metadata": {},
   "outputs": [],
   "source": [
    "fp.readline()\n"
   ]
  },
  {
   "cell_type": "code",
   "execution_count": null,
   "metadata": {},
   "outputs": [],
   "source": [
    "fp.readline()\n"
   ]
  },
  {
   "cell_type": "code",
   "execution_count": null,
   "metadata": {},
   "outputs": [],
   "source": [
    "fp.readline()\n"
   ]
  },
  {
   "cell_type": "code",
   "execution_count": null,
   "metadata": {},
   "outputs": [],
   "source": [
    "fp.close()"
   ]
  },
  {
   "cell_type": "markdown",
   "metadata": {},
   "source": [
    "### Reading file as a LIST"
   ]
  },
  {
   "cell_type": "code",
   "execution_count": 12,
   "metadata": {},
   "outputs": [],
   "source": [
    "fp=open(\"output.txt\",'r')\n"
   ]
  },
  {
   "cell_type": "code",
   "execution_count": 13,
   "metadata": {},
   "outputs": [],
   "source": [
    "l=[]\n",
    "l=fp.readlines()"
   ]
  },
  {
   "cell_type": "code",
   "execution_count": 14,
   "metadata": {},
   "outputs": [
    {
     "data": {
      "text/plain": [
       "'third line'"
      ]
     },
     "execution_count": 14,
     "metadata": {},
     "output_type": "execute_result"
    }
   ],
   "source": [
    "l[2]"
   ]
  },
  {
   "cell_type": "code",
   "execution_count": 15,
   "metadata": {},
   "outputs": [
    {
     "data": {
      "text/plain": [
       "['My Test File\\n', 'second line\\n']"
      ]
     },
     "execution_count": 15,
     "metadata": {},
     "output_type": "execute_result"
    }
   ],
   "source": [
    "l[0:2]"
   ]
  },
  {
   "cell_type": "code",
   "execution_count": 16,
   "metadata": {},
   "outputs": [],
   "source": [
    "fp.close()"
   ]
  },
  {
   "cell_type": "code",
   "execution_count": 17,
   "metadata": {},
   "outputs": [
    {
     "name": "stdout",
     "output_type": "stream",
     "text": [
      "My Test File\n",
      "\n",
      "second line\n",
      "\n",
      "third line\n"
     ]
    }
   ],
   "source": [
    "fp=open(\"output.txt\",'r')\n",
    "for x in fp:\n",
    "\tprint (x)\n",
    "fp.close()"
   ]
  },
  {
   "cell_type": "markdown",
   "metadata": {},
   "source": [
    "#### Writing data to a file"
   ]
  },
  {
   "cell_type": "code",
   "execution_count": 7,
   "metadata": {},
   "outputs": [],
   "source": [
    "fp=open(\"output_21.txt\", 'w')\n"
   ]
  },
  {
   "cell_type": "code",
   "execution_count": 8,
   "metadata": {},
   "outputs": [],
   "source": [
    "fp.write(\"this is for my test string\\n\")\n",
    "fp.close()"
   ]
  },
  {
   "cell_type": "code",
   "execution_count": 9,
   "metadata": {},
   "outputs": [],
   "source": [
    "fp=open(\"output_21.txt\", 'w')\n",
    "a=\"this is for file operation write operation\"\n",
    "fp.write(a)\n",
    "line2 = \"\\nthe emblem of our land for write operation.\"\n",
    "fp.write(line2)\n",
    "fp.write(\"this is for my test string\\n\")\n",
    "fp.close()"
   ]
  },
  {
   "cell_type": "markdown",
   "metadata": {},
   "source": [
    "#### Append mode"
   ]
  },
  {
   "cell_type": "code",
   "execution_count": 10,
   "metadata": {},
   "outputs": [],
   "source": [
    "fh = open(\"output_21.txt\", \"a\")\n",
    "fh.write(\"\\nHello World again to append\")\n",
    "fh.close()\n",
    "\n"
   ]
  },
  {
   "cell_type": "code",
   "execution_count": 15,
   "metadata": {},
   "outputs": [
    {
     "name": "stdout",
     "output_type": "stream",
     "text": [
      "0\n",
      "4\n"
     ]
    }
   ],
   "source": [
    "fc=open(\"output_21.txt\", 'r+')\n",
    "i=fc.tell()\n",
    "print (i)\n",
    "fc.seek(4,0)\n",
    "i=fc.tell()\n",
    "print (i)\n",
    "fc.write(\" Ending\")\n",
    "fc.close()\n"
   ]
  },
  {
   "cell_type": "markdown",
   "metadata": {},
   "source": [
    "# Assignment\n",
    " 1) find a string \"Python\" in a file\n",
    " 2) till now whatever programs we did , do with file handling\n",
    " 3) With open is used for what?\n",
    " 4) Write string, list, tuple, set and dictionary data to file\n",
    " 5)Prompt for a number N and file F, and display the first N lines of F.\n",
    " 6)Write a \"pager\" program. Your solution should prompt for a filename, and display the text file 25 lines at a time, pausing each time to ask the user to \"press a key to continue.\"\n",
    "7)Create a crude and elementary text file editor. Your solution is menudriven, with the following options: a. create file [prompt for filename and any number of lines of input], b. display file [dump its contents to the screen], c. save file, and d. quit.\n",
    " 8)Write a program to compare two text files. If they are different, give the line and column numbers in the files where the first difference occurs.\n",
    "#9)https://knightlab.northwestern.edu/2014/06/05/five-mini-programming-projects-for-the-python-beginner/\n",
    " Find the errors in log file\n",
    " You have 2 log files , merge them and sort by time , first charcets are time\n"
   ]
  },
  {
   "cell_type": "code",
   "execution_count": null,
   "metadata": {},
   "outputs": [],
   "source": []
  }
 ],
 "metadata": {
  "kernelspec": {
   "display_name": "Python 3",
   "language": "python",
   "name": "python3"
  },
  "language_info": {
   "codemirror_mode": {
    "name": "ipython",
    "version": 3
   },
   "file_extension": ".py",
   "mimetype": "text/x-python",
   "name": "python",
   "nbconvert_exporter": "python",
   "pygments_lexer": "ipython3",
   "version": "3.7.3"
  }
 },
 "nbformat": 4,
 "nbformat_minor": 2
}
