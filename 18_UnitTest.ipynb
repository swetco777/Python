{
 "cells": [
  {
   "cell_type": "markdown",
   "metadata": {},
   "source": [
    "#Method                   Checks that\n",
    "assertEqual(a, b)          a == b\n",
    "assertNotEqual(a, b)       a != b\n",
    "assertTrue(x)              bool(x) is True\n",
    "assertFalse(x)             bool(x) is False\n",
    "assertIs(a, b)             a is b\n",
    "assertIsNot(a, b)          a is not b\n",
    "assertIsNone(x)            x is None\n",
    "assertIsNotNone(x)         x is not None\n",
    "assertIn(a, b)             a in b\n",
    "assertNotIn(a, b)          a not in b\n",
    "assertIsInstance(a, b)     isinstance(a, b)\n",
    "assertNotIsInstance(a, b)  not isinstance(a, b)\n"
   ]
  },
  {
   "cell_type": "markdown",
   "metadata": {},
   "source": [
    "# Method                   Checks that\n",
    "* assertEqual(a, b)          a == b\n",
    "* assertNotEqual(a, b)       a != b\n",
    "* assertTrue(x)              bool(x) is True\n",
    "* assertFalse(x)             bool(x) is False\n",
    "* assertIs(a, b)             a is b\n",
    "* assertIsNot(a, b)          a is not b\n",
    "* assertIsNone(x)            x is None\n",
    "* assertIsNotNone(x)         x is not None\n",
    "* assertIn(a, b)             a in b\n",
    "* assertNotIn(a, b)          a not in b\n",
    "* assertIsInstance(a, b)     isinstance(a, b)\n",
    "* assertNotIsInstance(a, b)  not isinstance(a, b)\n"
   ]
  },
  {
   "cell_type": "code",
   "execution_count": null,
   "metadata": {},
   "outputs": [],
   "source": [
    "def add(x,y):\n",
    "   return x + y\n",
    "\n",
    "x=add(10,15)\n",
    "if x==25:\n",
    "    print(\"function is working fine\")\n",
    "else:\n",
    "    print(\"function is not working fine\")\n",
    "x=add(0,0)\n",
    "if x==0:\n",
    "    print(\"function is working fine\")\n",
    "else:\n",
    "    print(\"function is not working fine\")"
   ]
  },
  {
   "cell_type": "code",
   "execution_count": null,
   "metadata": {},
   "outputs": [],
   "source": [
    "import unittest\n",
    "# from mod import *\n",
    "def funcAdd(x,y):\n",
    "   return x + y\n",
    "\n",
    "class SimpleTest(unittest.TestCase):\n",
    "   def testadd1(self):\n",
    "      self.assertEqual(funcAdd(4,5),9)\n",
    "   def testadd2(self):\n",
    "       self.assertEqual(funcAdd(4,5),19)\n",
    "if __name__ == '__main__':\n",
    "    unittest.main(argv=['first-arg-is-ignored'], exit=False)"
   ]
  },
  {
   "cell_type": "code",
   "execution_count": null,
   "metadata": {},
   "outputs": [],
   "source": [
    "import unittest\n",
    "class simpleTest2(unittest.TestCase):\n",
    "   def setUp(self):\n",
    "      self.a = 10\n",
    "      self.b = 20\n",
    "      print ('\\n start of test')\n",
    "\n",
    "   def tearDown(self):\n",
    "      print ('\\nend of test')\n",
    "   def testadd(self):\n",
    "      result = self.a+self.b\n",
    "      self.assertTrue(result == 30)\n",
    "        \n",
    "   def testsub(self):\n",
    "      result = self.a-self.b\n",
    "      self.assertTrue(result == -10)\n",
    "if __name__ == '__main__':\n",
    "       unittest.main(argv=['first-arg-is-ignored'], exit=False)"
   ]
  },
  {
   "cell_type": "code",
   "execution_count": null,
   "metadata": {
    "scrolled": true
   },
   "outputs": [],
   "source": [
    "import unittest\n",
    "class simpleTest2(unittest.TestCase):\n",
    "   def setUp(self):\n",
    "      self.a = 10\n",
    "      self.b = 20\n",
    "      name = self.shortDescription()\n",
    "      if name == \"Add\":\n",
    "         self.a = 10\n",
    "         self.b = 20\n",
    "#          print (name, self.a, self.b)\n",
    "      if name == \"sub\":\n",
    "         self.a = 50\n",
    "         self.b = 60\n",
    "         print (name, self.a, self.b)\n",
    "   def tearDown(self):\n",
    "      print ('\\nend of test')\n",
    "   def testadd(self):11\n",
    "      \"\"\"Add\"\"\"\n",
    "      result = self.a+self.b\n",
    "      self.assertTrue(result == 30)\n",
    "   def testsub(self):\n",
    "      \"\"\"sub\"\"\"\n",
    "      result = self.a-self.b\n",
    "      self.assertTrue(result == -10)\n",
    "if __name__ == '__main__':\n",
    "       unittest.main(argv=['first-arg-is-ignored'], exit=False)"
   ]
  },
  {
   "cell_type": "markdown",
   "metadata": {},
   "source": [
    "# setUpClass()\n",
    "\n",
    "A class method called before tests in an individual class run.\n",
    "tearDownClass()\n",
    "A class method called after tests in an individual class have run.\n",
    "@classmethod means: when this method is called, we pass the class as the first argument instead of \n",
    "the instance of that class (as we normally do with methods). \n",
    "This means you can use the class and its properties inside that method rather than a particular instance.\n",
    "\n"
   ]
  },
  {
   "cell_type": "code",
   "execution_count": null,
   "metadata": {},
   "outputs": [],
   "source": [
    "import unittest\n",
    "class TestFixtures(unittest.TestCase):\n",
    "   def setUp(self):\n",
    "      self.a = 10\n",
    "      self.b = 20\n",
    "      name = self.shortDescription()\n",
    "      print ('\\n',name)\n",
    "   def tearDown(self):\n",
    "      print ('\\nend of test',self.shortDescription())\n",
    "   def test1(self):\n",
    "      \"\"\"One\"\"\"\n",
    "      result = self.a+self.b\n",
    "      self.assertTrue(result == 30)\n",
    "   def test2(self):\n",
    "      \"\"\"Two\"\"\"\n",
    "      result = self.a-self.b\n",
    "      self.assertTrue(result == -100)\n",
    "if __name__ == '__main__':\n",
    "    unittest.main(argv=['first-arg-is-ignored'], exit=False)\n"
   ]
  },
  {
   "cell_type": "code",
   "execution_count": null,
   "metadata": {},
   "outputs": [],
   "source": [
    "import unittest\n",
    "class suiteTest(unittest.TestCase):\n",
    "   a = 50\n",
    "   b = 40\n",
    "   \n",
    "   def testadd(self):\n",
    "      \"\"\"Add\"\"\"\n",
    "      result = self.a+self.b\n",
    "      self.assertEqual(result,100)\n",
    "\n",
    "   @unittest.skipIf(a>b, \"Skip over this routine\")\n",
    "   def testsub(self):\n",
    "      \"\"\"sub\"\"\"\n",
    "      result = self.a-self.b\n",
    "      self.assertTrue(result == -10)\n",
    "  \n",
    "   @unittest.skipUnless(b == 0, \"Skip over this routine\")\n",
    "   def testdiv(self):\n",
    "      \"\"\"div\"\"\"\n",
    "      result = self.a/self.b\n",
    "      self.assertTrue(result == 1)\n",
    "\n",
    "   @unittest.expectedFailure\n",
    "   def testmul(self):\n",
    "      \"\"\"mul\"\"\"\n",
    "      result = self.a*self.b\n",
    "      self.assertEqual(result == 0)\n",
    "\n",
    "if __name__ == '__main__':\n",
    "    unittest.main(argv=['first-arg-is-ignored'], exit=False)\n"
   ]
  },
  {
   "cell_type": "code",
   "execution_count": null,
   "metadata": {},
   "outputs": [],
   "source": [
    "import unittest\n",
    "class SomeTest(unittest.TestCase):\n",
    "    def setUp(self):\n",
    "#         super(SomeTest, self).setUp()\n",
    "        self.mock_data = [1,2,3,4,5]\n",
    "    def test(self):\n",
    "        self.assertEqual(len(self.mock_data), 5)\n",
    "    def tearDown(self):\n",
    "#         super(SomeTest, self).tearDown()\n",
    "        self.mock_data = []\n",
    "if __name__ == '__main__':\n",
    "    unittest.main(argv=['first-arg-is-ignored'], exit=False)\n"
   ]
  },
  {
   "cell_type": "code",
   "execution_count": null,
   "metadata": {},
   "outputs": [],
   "source": [
    "def division_function(dividend, divisor):\n",
    "    return dividend / divisor\n",
    "\n",
    "class MyTestCase(unittest.TestCase):\n",
    "    def test_using_context_manager(self):\n",
    "        with self.assertRaises(ZeroDivisionError):\n",
    "            x = division_function(1, 0)\n",
    "if __name__ == '__main__':\n",
    "    unittest.main(argv=['first-arg-is-ignored'], exit=False)"
   ]
  },
  {
   "cell_type": "code",
   "execution_count": null,
   "metadata": {},
   "outputs": [],
   "source": [
    "import unittest\n",
    "class WrongInputException(Exception):\n",
    "    pass\n",
    "def convert2number(random_input):\n",
    "    try:\n",
    "        my_input = int(random_input)\n",
    "        return my_input\n",
    "    except ValueError:\n",
    "        raise WrongInputException\n",
    "class ExceptionTestCase(unittest.TestCase):\n",
    "    def test_wrong_input_string(self):\n",
    "        self.assertRaises(WrongInputException, convert2number, \"not a number\")\n",
    "    def test_correct_input(self):\n",
    "        try:\n",
    "            result = convert2number(\"56\")\n",
    "            self.assertIsInstance(result, int)\n",
    "        except WrongInputException:\n",
    "            self.fail()\n",
    "if __name__ == '__main__':\n",
    "    unittest.main(argv=['first-arg-is-ignored'], exit=False)"
   ]
  },
  {
   "cell_type": "code",
   "execution_count": null,
   "metadata": {},
   "outputs": [],
   "source": []
  }
 ],
 "metadata": {
  "kernelspec": {
   "display_name": "Python 3",
   "language": "python",
   "name": "python3"
  },
  "language_info": {
   "codemirror_mode": {
    "name": "ipython",
    "version": 3
   },
   "file_extension": ".py",
   "mimetype": "text/x-python",
   "name": "python",
   "nbconvert_exporter": "python",
   "pygments_lexer": "ipython3",
   "version": "3.7.3"
  }
 },
 "nbformat": 4,
 "nbformat_minor": 2
}
