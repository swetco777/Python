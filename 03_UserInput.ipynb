{
 "cells": [
  {
   "cell_type": "markdown",
   "metadata": {},
   "source": [
    "Python 2:\n",
    "\n",
    " Python provides us with two inbuilt functions to read the input from the keyboard.\n",
    "\n",
    "raw_input ( prompt )\n",
    "input ( prompt )\n",
    "\n",
    "raw_input ( ) : This function works in older version (like Python 2.x). This function takes exactly what is typed from the keyboard, convert it to string and then return it to the variable in which we want to store.\n",
    "raw_input() takes exactly what the user typed and passes it back as a string.\n",
    "\n",
    "input() first takes the raw_input() and then performs an eval() on it as well.\n",
    "\n",
    "The main difference is that input() expects a syntactically correct python statement where raw_input() does not.\n",
    "\n",
    "Python 3:\n",
    "raw_input() was renamed to input() so now input() returns the exact string.\n",
    "Old input() was removed.### User INPUT"
   ]
  },
  {
   "cell_type": "code",
   "execution_count": null,
   "metadata": {},
   "outputs": [],
   "source": [
    "x=input(\"Enter data for input type for testing \")\n",
    "print (type(x))\n",
    "print (x)\n",
    "# y=type(x)\n",
    "# x=input(\" \")\n",
    "# print (str(y))\n",
    "# if (str(y)==\"<class \\'str\\'>\"):\n",
    "#     print (\"its string\")\n",
    "# else: print(\"not string\")"
   ]
  },
  {
   "cell_type": "code",
   "execution_count": null,
   "metadata": {},
   "outputs": [],
   "source": [
    "x=input(\"Enter data for reverse \")\n",
    "print (\"Reverse of string is : \", x[::-1])"
   ]
  },
  {
   "cell_type": "code",
   "execution_count": 1,
   "metadata": {},
   "outputs": [
    {
     "name": "stdout",
     "output_type": "stream",
     "text": [
      "How old are you\n",
      "12\n",
      "How tall are you\n",
      "156\n",
      "How much do you weight\n",
      "34\n",
      "So you are 12 years old, 156 tall and weigh 34\n"
     ]
    }
   ],
   "source": [
    "print(\"How old are you\")\n",
    "age =input ()\n",
    "print (\"How tall are you\")\n",
    "height=input()\n",
    "print (\"How much do you weight\")\n",
    "weight=input()\n",
    "print (\"So you are %s years old, %s tall and weigh %s\" %(age,height,weight))"
   ]
  },
  {
   "cell_type": "code",
   "execution_count": null,
   "metadata": {},
   "outputs": [],
   "source": [
    "print (\"hello\")\n",
    "print(\"worlds\")\n",
    "print(\"python\")"
   ]
  },
  {
   "cell_type": "code",
   "execution_count": null,
   "metadata": {},
   "outputs": [],
   "source": [
    "print(\"Hello, \", end=\"break \")\n",
    "print(\"world\")\n",
    "print(\"python\")"
   ]
  },
  {
   "cell_type": "code",
   "execution_count": null,
   "metadata": {},
   "outputs": [],
   "source": [
    "print(\"Hello, \", end=\"\\n\")\n",
    "print(\"world\")"
   ]
  },
  {
   "cell_type": "code",
   "execution_count": null,
   "metadata": {},
   "outputs": [],
   "source": [
    "print(\"Hello, \", end=\" BREAK \")\n",
    "print(\"world\", end=\" python \")\n",
    "print(\"Selenium\")\n",
    "print(\"Learning\")\n"
   ]
  },
  {
   "cell_type": "markdown",
   "metadata": {},
   "source": [
    "### TYPE CASTING\n",
    "Converting one data type to another data type"
   ]
  },
  {
   "cell_type": "code",
   "execution_count": null,
   "metadata": {},
   "outputs": [],
   "source": [
    "\n",
    "i=23# '23'"
   ]
  },
  {
   "cell_type": "code",
   "execution_count": null,
   "metadata": {},
   "outputs": [],
   "source": [
    "j=str(i)#'23'\n",
    "print (j)\n",
    "print (type(j))"
   ]
  },
  {
   "cell_type": "code",
   "execution_count": null,
   "metadata": {},
   "outputs": [],
   "source": [
    "print (j[0])\n",
    "print (j[1])"
   ]
  },
  {
   "cell_type": "code",
   "execution_count": null,
   "metadata": {},
   "outputs": [],
   "source": [
    "i=10.0\n",
    "j=str(i)\n",
    "print (type(j))\n",
    "print (j)"
   ]
  },
  {
   "cell_type": "code",
   "execution_count": null,
   "metadata": {},
   "outputs": [],
   "source": [
    "# j=\"10.0\"\n",
    "print (j[0])\n",
    "print (j[1])\n",
    "print (j[2])\n",
    "print (j[3])"
   ]
  },
  {
   "cell_type": "code",
   "execution_count": null,
   "metadata": {},
   "outputs": [],
   "source": [
    "# print (int(\"Hello World\"))\n",
    "print (int(\"H\"))"
   ]
  },
  {
   "cell_type": "code",
   "execution_count": null,
   "metadata": {},
   "outputs": [],
   "source": [
    "st=\"1000\""
   ]
  },
  {
   "cell_type": "code",
   "execution_count": null,
   "metadata": {},
   "outputs": [],
   "source": [
    "x=int(st)\n",
    "print (x)"
   ]
  },
  {
   "cell_type": "code",
   "execution_count": null,
   "metadata": {},
   "outputs": [],
   "source": [
    "s=100.6"
   ]
  },
  {
   "cell_type": "code",
   "execution_count": null,
   "metadata": {},
   "outputs": [],
   "source": [
    "int(s)"
   ]
  },
  {
   "cell_type": "code",
   "execution_count": null,
   "metadata": {},
   "outputs": [],
   "source": [
    "s=\"1000.0\""
   ]
  },
  {
   "cell_type": "code",
   "execution_count": null,
   "metadata": {},
   "outputs": [],
   "source": [
    "int(s)"
   ]
  },
  {
   "cell_type": "code",
   "execution_count": null,
   "metadata": {},
   "outputs": [],
   "source": [
    "int(.)"
   ]
  },
  {
   "cell_type": "code",
   "execution_count": null,
   "metadata": {},
   "outputs": [],
   "source": [
    "i=1000\n",
    "j=float(1000)\n",
    "print(j)"
   ]
  },
  {
   "cell_type": "code",
   "execution_count": null,
   "metadata": {},
   "outputs": [],
   "source": [
    "s=\"1000.0\"\n",
    "j=float(s)\n",
    "print(j)"
   ]
  },
  {
   "cell_type": "code",
   "execution_count": null,
   "metadata": {},
   "outputs": [],
   "source": []
  }
 ],
 "metadata": {
  "kernelspec": {
   "display_name": "Python 2",
   "language": "python",
   "name": "python2"
  },
  "language_info": {
   "codemirror_mode": {
    "name": "ipython",
    "version": 2
   },
   "file_extension": ".py",
   "mimetype": "text/x-python",
   "name": "python",
   "nbconvert_exporter": "python",
   "pygments_lexer": "ipython2",
   "version": "2.7.16"
  }
 },
 "nbformat": 4,
 "nbformat_minor": 2
}
