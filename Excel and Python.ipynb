{
 "cells": [
  {
   "cell_type": "markdown",
   "metadata": {},
   "source": [
    "Getting Started With openpyxl:\n",
    " let’s get down to it and start by installing the package. For this tutorial, you should use Python 3.7 and openpyxl 2.6.2. To install the package, you can do the following:\n",
    "\n",
    "$ pip install openpyxl\n",
    "\n",
    "CREATING A WORKBOOK\n",
    "A workbook is a openpyxl object that contains all the data in an excel file, you can create a new workbook from scratch (without any data) or you can create a workbook from an excel file that already exists."
   ]
  },
  {
   "cell_type": "code",
   "execution_count": null,
   "metadata": {},
   "outputs": [],
   "source": [
    "from openpyxl import Workbook\n",
    "\n",
    "##creating an empty workbook\n",
    "workbook = Workbook()\n",
    "\n",
    "#If you create a empty workbook it will have one sheet with sheet name “Sheet”, \n",
    "#you can access this sheet with active attribute of the workbook\n",
    "sheet = workbook.active\n",
    "\n",
    "sheet[\"A1\"] = \"hello\"\n",
    "sheet[\"B1\"] = \"world!\"\n",
    "\n",
    "new_sheet=workbook.create_sheet(\"sheet_sample\")\n",
    "\n",
    "#To copy the content of one sheet to a new sheet,\n",
    "#ie to create a new sheet with content of an existing sheet use the copy_worksheet() method.\n",
    "\n",
    "#// here new sheet is created with data copied from sheet object.\n",
    "copy_sheet= workbook.copy_worksheet(sheet) \n",
    "\n",
    "#// here new sheet is created with data copied from new_sheet object.\n",
    "#copy_sheet= workbook.copy_worksheet(new_sheet)\n",
    "\n",
    "workbook.save(filename=\"hello_world3.xlsx\")\n",
    "#where the  is the name and extension, example “test.xlsx”\n",
    "# the extension must be xlsx if you want to open the file MS Excel."
   ]
  },
  {
   "cell_type": "markdown",
   "metadata": {},
   "source": [
    "The name of any give sheet can be accessed and changed using the title attribute of the sheet."
   ]
  },
  {
   "cell_type": "code",
   "execution_count": null,
   "metadata": {},
   "outputs": [],
   "source": [
    "print(new_sheet.title)"
   ]
  },
  {
   "cell_type": "code",
   "execution_count": null,
   "metadata": {},
   "outputs": [],
   "source": [
    "print(copy_sheet.title)"
   ]
  },
  {
   "cell_type": "markdown",
   "metadata": {},
   "source": [
    "ACCESSING SHEET BY SHEET NAME:If you have a workbook that contains a sheet to which you only know the name of, the sheet can be accessed just like you access the value in a dict to which the key is known."
   ]
  },
  {
   "cell_type": "code",
   "execution_count": null,
   "metadata": {},
   "outputs": [],
   "source": [
    "from openpyxl import load_workbook\n",
    "workbook = load_workbook(filename=\"hello_world2.xlsx\")\n",
    "sheet1= workbook[\"Sheet Copy\"]\n",
    "print (sheet1)\n",
    "# is the name of the sheet as a string.\n",
    "# just like in a dict if a sheet with  as name is not present in the workbook a KeyError is #raised\n",
    "#ITERATING OVER HSEET NAMES\n",
    "for sheet in workbook:\n",
    "\tprint(sheet.title)"
   ]
  },
  {
   "cell_type": "markdown",
   "metadata": {},
   "source": [
    "READING AND WRITING TO CELL(S):To access a cell and to write data to cell, use the slice operator as you would in a dict."
   ]
  },
  {
   "cell_type": "code",
   "execution_count": 2,
   "metadata": {},
   "outputs": [
    {
     "ename": "NameError",
     "evalue": "name 'sheet' is not defined",
     "output_type": "error",
     "traceback": [
      "\u001b[1;31m---------------------------------------------------------------------------\u001b[0m",
      "\u001b[1;31mNameError\u001b[0m                                 Traceback (most recent call last)",
      "\u001b[1;32m<ipython-input-2-c5582bca7381>\u001b[0m in \u001b[0;36m<module>\u001b[1;34m\u001b[0m\n\u001b[0;32m      3\u001b[0m \u001b[1;33m\u001b[0m\u001b[0m\n\u001b[0;32m      4\u001b[0m \u001b[1;31m#assign value to a single cell\u001b[0m\u001b[1;33m\u001b[0m\u001b[1;33m\u001b[0m\u001b[1;33m\u001b[0m\u001b[0m\n\u001b[1;32m----> 5\u001b[1;33m \u001b[0msheet\u001b[0m\u001b[1;33m[\u001b[0m\u001b[1;34m\"C1\"\u001b[0m\u001b[1;33m]\u001b[0m \u001b[1;33m=\u001b[0m \u001b[1;34m\"pYTHON\"\u001b[0m\u001b[1;33m\u001b[0m\u001b[1;33m\u001b[0m\u001b[0m\n\u001b[0m\u001b[0;32m      6\u001b[0m \u001b[0msheet\u001b[0m\u001b[1;33m[\u001b[0m\u001b[1;34m'D1'\u001b[0m\u001b[1;33m]\u001b[0m\u001b[1;33m=\u001b[0m\u001b[1;34m\"10\"\u001b[0m\u001b[1;33m\u001b[0m\u001b[1;33m\u001b[0m\u001b[0m\n\u001b[0;32m      7\u001b[0m \u001b[1;31m#notice the key to a cell is a string, that is the same as the name of the cell as it would appear in excel.\u001b[0m\u001b[1;33m\u001b[0m\u001b[1;33m\u001b[0m\u001b[1;33m\u001b[0m\u001b[0m\n",
      "\u001b[1;31mNameError\u001b[0m: name 'sheet' is not defined"
     ]
    }
   ],
   "source": [
    "from openpyxl import load_workbook\n",
    "workbook = load_workbook(filename=\"hello_world2.xlsx\")\n",
    "\n",
    "#assign value to a single cell\n",
    "sheet[\"C1\"] = \"pYTHON\"\n",
    "sheet['D1']=\"10\"\n",
    "#notice the key to a cell is a string, that is the same as the name of the cell as it would appear in excel.\n",
    "\n",
    "#get value from a single cell\n",
    "print(sheet['C1'].value)\n",
    "print(sheet['D1'].value)\n",
    "#notice you need to get the value attribute of a cell to get the data stored in that cell."
   ]
  },
  {
   "cell_type": "code",
   "execution_count": 3,
   "metadata": {},
   "outputs": [
    {
     "name": "stdout",
     "output_type": "stream",
     "text": [
      "marketplace\n",
      "customer_id\n",
      "review_id\n",
      "product_id\n",
      "US\n",
      "3653882\n",
      "R3O9SGZBVQBV76\n",
      "B00FALQ1ZC\n",
      "US\n",
      "14661224\n",
      "RKH8BNC3L5DLF\n",
      "B00D3RGO20\n",
      "US\n",
      "27324930\n",
      "R2HLE8WKZSU3NL\n",
      "B00DKYC7TK\n"
     ]
    }
   ],
   "source": [
    "from openpyxl import load_workbook\n",
    "workbook = load_workbook(filename=\"reviews-sample.xlsx\")\n",
    "sheet = workbook.active\n",
    "cell_range=sheet['A1':'D4']\n",
    "#this will return all the cells as a tuple of rows in a tuple, to access the data from the cell inside this use.\n",
    "##this will print all the value from A1 to D4 in the order A1,A2,...A4,B1,...B4,C1,...C4,D1,...D4\n",
    "for row in sheet['A1':'D4']:\n",
    "\tfor cell in row:\n",
    "\t\tprint(cell.value)"
   ]
  },
  {
   "cell_type": "code",
   "execution_count": 4,
   "metadata": {},
   "outputs": [
    {
     "name": "stdout",
     "output_type": "stream",
     "text": [
      "marketplace\n",
      "US\n",
      "US\n",
      "US\n",
      "US\n",
      "US\n",
      "US\n",
      "US\n",
      "US\n",
      "US\n",
      "US\n",
      "US\n",
      "US\n",
      "US\n",
      "US\n",
      "US\n",
      "US\n",
      "US\n",
      "US\n",
      "US\n",
      "US\n",
      "US\n",
      "US\n",
      "US\n",
      "US\n",
      "US\n",
      "US\n",
      "US\n",
      "US\n",
      "US\n",
      "US\n",
      "US\n",
      "US\n",
      "US\n",
      "US\n",
      "US\n",
      "US\n",
      "US\n",
      "US\n",
      "US\n",
      "US\n",
      "US\n",
      "US\n",
      "US\n",
      "US\n",
      "US\n",
      "US\n",
      "US\n",
      "US\n",
      "US\n",
      "US\n",
      "US\n",
      "US\n",
      "US\n",
      "US\n",
      "US\n",
      "US\n",
      "US\n",
      "US\n",
      "US\n",
      "US\n",
      "US\n",
      "US\n",
      "US\n",
      "US\n",
      "US\n",
      "US\n",
      "US\n",
      "US\n",
      "US\n",
      "US\n",
      "US\n",
      "US\n",
      "US\n",
      "US\n",
      "US\n",
      "US\n",
      "US\n",
      "US\n",
      "US\n",
      "US\n",
      "US\n",
      "US\n",
      "US\n",
      "US\n",
      "US\n",
      "US\n",
      "US\n",
      "US\n",
      "US\n",
      "US\n",
      "US\n",
      "US\n",
      "US\n",
      "US\n",
      "US\n",
      "US\n",
      "US\n",
      "US\n",
      "US\n"
     ]
    }
   ],
   "source": [
    "from openpyxl import load_workbook\n",
    "workbook = load_workbook(filename=\"reviews-sample.xlsx\")\n",
    "sheet = workbook.active\n",
    "#to access an entire column\n",
    "row_a=sheet['A']\n",
    "for cell in row_a:\n",
    "\tprint(cell.value)"
   ]
  },
  {
   "cell_type": "code",
   "execution_count": 5,
   "metadata": {},
   "outputs": [
    {
     "name": "stdout",
     "output_type": "stream",
     "text": [
      "marketplace\n",
      "US\n",
      "US\n",
      "US\n",
      "US\n",
      "US\n",
      "US\n",
      "US\n",
      "US\n",
      "US\n",
      "US\n",
      "US\n",
      "US\n",
      "US\n",
      "US\n",
      "US\n",
      "US\n",
      "US\n",
      "US\n",
      "US\n",
      "US\n",
      "US\n",
      "US\n",
      "US\n",
      "US\n",
      "US\n",
      "US\n",
      "US\n",
      "US\n",
      "US\n",
      "US\n",
      "US\n",
      "US\n",
      "US\n",
      "US\n",
      "US\n",
      "US\n",
      "US\n",
      "US\n",
      "US\n",
      "US\n",
      "US\n",
      "US\n",
      "US\n",
      "US\n",
      "US\n",
      "US\n",
      "US\n",
      "US\n",
      "US\n",
      "US\n",
      "US\n",
      "US\n",
      "US\n",
      "US\n",
      "US\n",
      "US\n",
      "US\n",
      "US\n",
      "US\n",
      "US\n",
      "US\n",
      "US\n",
      "US\n",
      "US\n",
      "US\n",
      "US\n",
      "US\n",
      "US\n",
      "US\n",
      "US\n",
      "US\n",
      "US\n",
      "US\n",
      "US\n",
      "US\n",
      "US\n",
      "US\n",
      "US\n",
      "US\n",
      "US\n",
      "US\n",
      "US\n",
      "US\n",
      "US\n",
      "US\n",
      "US\n",
      "US\n",
      "US\n",
      "US\n",
      "US\n",
      "US\n",
      "US\n",
      "US\n",
      "US\n",
      "US\n",
      "US\n",
      "US\n",
      "US\n",
      "US\n",
      "customer_id\n",
      "3653882\n",
      "14661224\n",
      "27324930\n",
      "7211452\n",
      "12733322\n",
      "6576411\n",
      "11811565\n",
      "49401598\n",
      "45925069\n",
      "44751341\n",
      "9962330\n",
      "16097204\n",
      "51330346\n",
      "4201739\n",
      "26339765\n",
      "2692576\n",
      "44713366\n",
      "32778769\n",
      "27258523\n",
      "42646538\n",
      "46017899\n",
      "37192375\n",
      "11710007\n",
      "6673146\n",
      "7899951\n",
      "27979201\n",
      "912779\n",
      "44345527\n",
      "2659331\n",
      "805483\n",
      "42590995\n",
      "48880662\n",
      "112967\n",
      "51346302\n",
      "32555369\n",
      "150916\n",
      "36363182\n",
      "10356300\n",
      "52437550\n",
      "14495291\n",
      "16192612\n",
      "19983148\n",
      "27325652\n",
      "14530627\n",
      "6648801\n",
      "15920046\n",
      "2902435\n",
      "13929294\n",
      "12696721\n",
      "4774720\n",
      "12074902\n",
      "44068063\n",
      "916000\n",
      "1196727\n",
      "7503824\n",
      "14512093\n",
      "2143821\n",
      "18380508\n",
      "431372\n",
      "1567510\n",
      "34086987\n",
      "1685723\n",
      "3307875\n",
      "47955030\n",
      "36687968\n",
      "37595973\n",
      "50033390\n",
      "28119981\n",
      "24667426\n",
      "207824\n",
      "46189902\n",
      "47558372\n",
      "33322445\n",
      "41784200\n",
      "26050402\n",
      "48880662\n",
      "13675081\n",
      "875559\n",
      "4014799\n",
      "2228523\n",
      "16309813\n",
      "45661904\n",
      "106740\n",
      "42795523\n",
      "10564575\n",
      "2239679\n",
      "43807131\n",
      "7189800\n",
      "15305006\n",
      "107342\n",
      "138028\n",
      "52229317\n",
      "44293218\n",
      "3669388\n",
      "51897929\n",
      "48880662\n",
      "39984561\n",
      "17141249\n",
      "29140914\n"
     ]
    }
   ],
   "source": [
    "#to access multiple columns\n",
    "from openpyxl import load_workbook\n",
    "workbook = load_workbook(filename=\"reviews-sample.xlsx\")\n",
    "sheet = workbook.active\n",
    "\n",
    "for col in sheet['A':'B']:\n",
    "\tfor cell in col:\n",
    "\t\tprint(cell.value)"
   ]
  },
  {
   "cell_type": "code",
   "execution_count": 6,
   "metadata": {},
   "outputs": [
    {
     "name": "stdout",
     "output_type": "stream",
     "text": [
      "marketplace\n",
      "customer_id\n",
      "review_id\n",
      "product_id\n",
      "product_parent\n",
      "product_title\n",
      "product_category\n",
      "star_rating\n",
      "helpful_votes\n",
      "total_votes\n",
      "vine\n",
      "verified_purchase\n",
      "review_headline\n",
      "review_body\n",
      "review_date\n"
     ]
    }
   ],
   "source": [
    "from openpyxl import load_workbook\n",
    "workbook = load_workbook(filename=\"reviews-sample.xlsx\")\n",
    "sheet = workbook.active\n",
    "#to access an entire ROw\n",
    "row_1=sheet[1]\n",
    "for cell in row_1:\n",
    "\tprint(cell.value)"
   ]
  },
  {
   "cell_type": "code",
   "execution_count": 7,
   "metadata": {},
   "outputs": [
    {
     "name": "stdout",
     "output_type": "stream",
     "text": [
      "marketplace\n",
      "customer_id\n",
      "review_id\n",
      "product_id\n",
      "product_parent\n",
      "product_title\n",
      "product_category\n",
      "star_rating\n",
      "helpful_votes\n",
      "total_votes\n",
      "vine\n",
      "verified_purchase\n",
      "review_headline\n",
      "review_body\n",
      "review_date\n",
      "US\n",
      "3653882\n",
      "R3O9SGZBVQBV76\n",
      "B00FALQ1ZC\n",
      "937001370\n",
      "Invicta Women's 15150 \"Angel\" 18k Yellow Gold Ion-Plated Stainless Steel and Brown Leather Watch\n",
      "Watches\n",
      "5\n",
      "0\n",
      "0\n",
      "N\n",
      "Y\n",
      "Five Stars\n",
      "Absolutely love this watch! Get compliments almost every time I wear it. Dainty.\n",
      "2015-08-31\n",
      "US\n",
      "14661224\n",
      "RKH8BNC3L5DLF\n",
      "B00D3RGO20\n",
      "484010722\n",
      "Kenneth Cole New York Women's KC4944 Automatic Silver Automatic Mesh Bracelet Analog Watch\n",
      "Watches\n",
      "5\n",
      "0\n",
      "0\n",
      "N\n",
      "Y\n",
      "I love thiswatch it keeps time wonderfully\n",
      "I love this watch it keeps time wonderfully.\n",
      "2015-08-31\n",
      "US\n",
      "27324930\n",
      "R2HLE8WKZSU3NL\n",
      "B00DKYC7TK\n",
      "361166390\n",
      "Ritche 22mm Black Stainless Steel Bracelet Watch Band Strap Pebble Time/Pebble Classic\n",
      "Watches\n",
      "2\n",
      "1\n",
      "1\n",
      "N\n",
      "Y\n",
      "Two Stars\n",
      "Scratches\n",
      "2015-08-31\n",
      "US\n",
      "7211452\n",
      "R31U3UH5AZ42LL\n",
      "B000EQS1JW\n",
      "958035625\n",
      "Citizen Men's BM8180-03E Eco-Drive Stainless Steel Watch with Green Canvas Band\n",
      "Watches\n",
      "5\n",
      "0\n",
      "0\n",
      "N\n",
      "Y\n",
      "Five Stars\n",
      "It works well on me. However, I found cheaper prices in other places after making the purchase\n",
      "2015-08-31\n"
     ]
    }
   ],
   "source": [
    "#to access multiple rows\n",
    "from openpyxl import load_workbook\n",
    "workbook = load_workbook(filename=\"reviews-sample.xlsx\")\n",
    "sheet = workbook.active\n",
    "for row in sheet[1:5]:\n",
    "\tfor cell in row:\n",
    "\t\tprint(cell.value)"
   ]
  },
  {
   "cell_type": "markdown",
   "metadata": {},
   "source": [
    "Reading Excel Spreadsheets With openpyxl"
   ]
  },
  {
   "cell_type": "code",
   "execution_count": 8,
   "metadata": {},
   "outputs": [
    {
     "name": "stdout",
     "output_type": "stream",
     "text": [
      "amazon_reviews_us_Watches_v1_00\n"
     ]
    }
   ],
   "source": [
    "from openpyxl import load_workbook\n",
    "workbook = load_workbook(filename=\"reviews-sample.xlsx\")\n",
    "#The names of all the sheets in a workbook can be accessed with the attribute sheetnames\n",
    "workbook.sheetnames\n",
    "sheet = workbook.active\n",
    "sheet\n",
    "sheet.title\n",
    "print(sheet.title)\n"
   ]
  },
  {
   "cell_type": "code",
   "execution_count": 9,
   "metadata": {},
   "outputs": [
    {
     "data": {
      "text/plain": [
       "<Cell 'amazon_reviews_us_Watches_v1_00'.A1>"
      ]
     },
     "execution_count": 9,
     "metadata": {},
     "output_type": "execute_result"
    }
   ],
   "source": [
    "sheet[\"A1\"]"
   ]
  },
  {
   "cell_type": "code",
   "execution_count": 10,
   "metadata": {},
   "outputs": [
    {
     "data": {
      "text/plain": [
       "'marketplace'"
      ]
     },
     "execution_count": 10,
     "metadata": {},
     "output_type": "execute_result"
    }
   ],
   "source": [
    "sheet[\"A1\"].value"
   ]
  },
  {
   "cell_type": "code",
   "execution_count": 11,
   "metadata": {},
   "outputs": [
    {
     "data": {
      "text/plain": [
       "\"G-Shock Men's Grey Sport Watch\""
      ]
     },
     "execution_count": 11,
     "metadata": {},
     "output_type": "execute_result"
    }
   ],
   "source": [
    "sheet[\"F10\"].value"
   ]
  },
  {
   "cell_type": "markdown",
   "metadata": {},
   "source": [
    "To return the actual value of a cell, you need to do .value. Otherwise, you’ll get the main Cell object. You can also use the method .cell() to retrieve a cell using index notation. Remember to add .value to get the actual value and not a Cell object:"
   ]
  },
  {
   "cell_type": "code",
   "execution_count": 12,
   "metadata": {},
   "outputs": [
    {
     "data": {
      "text/plain": [
       "<Cell 'amazon_reviews_us_Watches_v1_00'.F10>"
      ]
     },
     "execution_count": 12,
     "metadata": {},
     "output_type": "execute_result"
    }
   ],
   "source": [
    "sheet.cell(row=10, column=6)"
   ]
  },
  {
   "cell_type": "code",
   "execution_count": 13,
   "metadata": {},
   "outputs": [
    {
     "data": {
      "text/plain": [
       "\"G-Shock Men's Grey Sport Watch\""
      ]
     },
     "execution_count": 13,
     "metadata": {},
     "output_type": "execute_result"
    }
   ],
   "source": [
    "sheet.cell(row=10, column=6).value"
   ]
  },
  {
   "cell_type": "code",
   "execution_count": 15,
   "metadata": {},
   "outputs": [],
   "source": [
    "#With the append() method, we can append a group of values at the bottom of the current sheet.\n",
    "#The data is stored in a tuple of tuples.\n",
    "from openpyxl import load_workbook\n",
    "workbook = load_workbook(filename=\"hello_world3.xlsx\")\n",
    "sheet = workbook.active\n",
    "rows = (\n",
    "    (88, 46),\n",
    "    (89, 38),\n",
    "    (23, 59)\n",
    ")\n",
    "for row in rows:\n",
    "    sheet.append(row)\n",
    "\n",
    "workbook.save('hello_world3.xlsx')"
   ]
  },
  {
   "cell_type": "code",
   "execution_count": null,
   "metadata": {},
   "outputs": [],
   "source": [
    "from openpyxl import load_workbook\n",
    "workbook = load_workbook(filename=\"reviews-sample1.xlsx\")\n",
    "#The names of all the sheets in a workbook can be accessed with the attribute sheetnames\n",
    "workbook.sheetnames\n",
    "sheet = workbook.active\n",
    "# Delete the first 3 rows\n",
    "sheet.delete_rows(1, 3)\n",
    "# Delete Column G\n",
    "sheet.delete_cols(7)\n",
    "# Delete Column L\n",
    "sheet.delete_cols(12)\n",
    "workbook.save(\"reviews-sample1.xlsx\")"
   ]
  },
  {
   "cell_type": "code",
   "execution_count": null,
   "metadata": {},
   "outputs": [],
   "source": []
  }
 ],
 "metadata": {
  "kernelspec": {
   "display_name": "Python 3",
   "language": "python",
   "name": "python3"
  },
  "language_info": {
   "codemirror_mode": {
    "name": "ipython",
    "version": 3
   },
   "file_extension": ".py",
   "mimetype": "text/x-python",
   "name": "python",
   "nbconvert_exporter": "python",
   "pygments_lexer": "ipython3",
   "version": "3.7.3"
  }
 },
 "nbformat": 4,
 "nbformat_minor": 2
}
