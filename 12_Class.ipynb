{
 "cells": [
  {
   "cell_type": "code",
   "execution_count": 1,
   "metadata": {},
   "outputs": [
    {
     "name": "stdout",
     "output_type": "stream",
     "text": [
      "<type 'instance'>\n",
      "auto\n",
      "semi\n",
      "class car\n"
     ]
    }
   ],
   "source": [
    "class Car():\n",
    "#   '''This is car class'''\n",
    "  gear=\"semi\"\n",
    "  brand=\"hundai\"\n",
    "  color=\"white\"\n",
    "  def printname(self):\n",
    "    print(\"class car\")\n",
    "\n",
    "c=Car()\n",
    "print(type(c))\n",
    "# c.printname()\n",
    "c.gear=\"auto\"\n",
    "# c.gear=\"auto\"\n",
    "print(c.gear)\n",
    "print(Car.gear)\n",
    "c.printname()"
   ]
  },
  {
   "cell_type": "code",
   "execution_count": 3,
   "metadata": {},
   "outputs": [],
   "source": [
    "class Dog():\n",
    "    \n",
    "    species=\"Pug\" ##//class attribute\n",
    "    def __init(self, name, age): ##//instance method\n",
    "        self.name = name ##//instance attributes\n",
    "        self.age = age\n",
    "        "
   ]
  },
  {
   "cell_type": "code",
   "execution_count": 4,
   "metadata": {},
   "outputs": [
    {
     "data": {
      "text/plain": [
       "<__main__.Dog instance at 0x0000000005540C48>"
      ]
     },
     "execution_count": 4,
     "metadata": {},
     "output_type": "execute_result"
    }
   ],
   "source": [
    "Dog()"
   ]
  },
  {
   "cell_type": "code",
   "execution_count": 5,
   "metadata": {},
   "outputs": [
    {
     "data": {
      "text/plain": [
       "False"
      ]
     },
     "execution_count": 5,
     "metadata": {},
     "output_type": "execute_result"
    }
   ],
   "source": [
    "a=Dog()\n",
    "b=Dog()\n",
    "a==b"
   ]
  },
  {
   "cell_type": "markdown",
   "metadata": {},
   "source": [
    "Two new Dog objects are created and assigned to the variables a and b.\n",
    "When a and b are compared using the == operator, the result is False.even though the a and b object are both\n",
    "instances of the Dog class and have the exact same attributes and\n",
    "methods—namely, no attributes or methods, in this case—a and b\n",
    "represent two distinct objects in memory."
   ]
  },
  {
   "cell_type": "code",
   "execution_count": 6,
   "metadata": {},
   "outputs": [
    {
     "name": "stdout",
     "output_type": "stream",
     "text": [
      "<type 'list'>\n"
     ]
    }
   ],
   "source": [
    "l=list()\n",
    "print (type(l))\n",
    "dir(l)\n",
    "l.reverse()"
   ]
  },
  {
   "cell_type": "code",
   "execution_count": null,
   "metadata": {},
   "outputs": [],
   "source": []
  },
  {
   "cell_type": "code",
   "execution_count": 7,
   "metadata": {},
   "outputs": [
    {
     "name": "stdout",
     "output_type": "stream",
     "text": [
      "<type 'str'>\n"
     ]
    },
    {
     "data": {
      "text/plain": [
       "True"
      ]
     },
     "execution_count": 7,
     "metadata": {},
     "output_type": "execute_result"
    }
   ],
   "source": [
    "s=\"python\"\n",
    "print(type(s))\n",
    "# dir(s)\n",
    "s.startswith(\"p\")"
   ]
  },
  {
   "cell_type": "code",
   "execution_count": 8,
   "metadata": {},
   "outputs": [],
   "source": [
    "t=tuple()"
   ]
  },
  {
   "cell_type": "code",
   "execution_count": 5,
   "metadata": {},
   "outputs": [],
   "source": [
    "d=dict()"
   ]
  },
  {
   "cell_type": "code",
   "execution_count": 9,
   "metadata": {},
   "outputs": [
    {
     "data": {
      "text/plain": [
       "['__doc__', '__module__', 'brand', 'color', 'gear']"
      ]
     },
     "execution_count": 9,
     "metadata": {},
     "output_type": "execute_result"
    }
   ],
   "source": [
    "class Car():\n",
    "#   '''This is car class'''\n",
    "  gear=\"semi\"\n",
    "  brand=\"hundai\"\n",
    "  color=\"white\"\n",
    "greenCar = Car()\n",
    "# greenCar\n",
    "dir(greenCar)\n",
    "# print (greenCar.__doc__)\n",
    "# print (Car.__module__)\n",
    "# "
   ]
  },
  {
   "cell_type": "code",
   "execution_count": 10,
   "metadata": {},
   "outputs": [
    {
     "data": {
      "text/plain": [
       "'white'"
      ]
     },
     "execution_count": 10,
     "metadata": {},
     "output_type": "execute_result"
    }
   ],
   "source": [
    "greenCar.color\n",
    "# greenCar__baseclass__"
   ]
  },
  {
   "cell_type": "code",
   "execution_count": 11,
   "metadata": {},
   "outputs": [
    {
     "data": {
      "text/plain": [
       "'semi'"
      ]
     },
     "execution_count": 11,
     "metadata": {},
     "output_type": "execute_result"
    }
   ],
   "source": [
    "greenCar.gear"
   ]
  },
  {
   "cell_type": "code",
   "execution_count": 12,
   "metadata": {},
   "outputs": [],
   "source": [
    "greenCar.color=\"green\""
   ]
  },
  {
   "cell_type": "code",
   "execution_count": 13,
   "metadata": {},
   "outputs": [
    {
     "data": {
      "text/plain": [
       "'green'"
      ]
     },
     "execution_count": 13,
     "metadata": {},
     "output_type": "execute_result"
    }
   ],
   "source": [
    "greenCar.color"
   ]
  },
  {
   "cell_type": "code",
   "execution_count": 14,
   "metadata": {},
   "outputs": [],
   "source": [
    "redCar=Car()"
   ]
  },
  {
   "cell_type": "code",
   "execution_count": 15,
   "metadata": {},
   "outputs": [
    {
     "data": {
      "text/plain": [
       "'white'"
      ]
     },
     "execution_count": 15,
     "metadata": {},
     "output_type": "execute_result"
    }
   ],
   "source": [
    "redCar.color"
   ]
  },
  {
   "cell_type": "code",
   "execution_count": 16,
   "metadata": {},
   "outputs": [
    {
     "data": {
      "text/plain": [
       "'semi'"
      ]
     },
     "execution_count": 16,
     "metadata": {},
     "output_type": "execute_result"
    }
   ],
   "source": [
    "redCar.gear\n"
   ]
  },
  {
   "cell_type": "code",
   "execution_count": 17,
   "metadata": {},
   "outputs": [],
   "source": [
    "redCar.color=\"Red\""
   ]
  },
  {
   "cell_type": "code",
   "execution_count": 8,
   "metadata": {},
   "outputs": [
    {
     "ename": "NameError",
     "evalue": "name 'redCar' is not defined",
     "output_type": "error",
     "traceback": [
      "\u001b[1;31m---------------------------------------------------------------------------\u001b[0m",
      "\u001b[1;31mNameError\u001b[0m                                 Traceback (most recent call last)",
      "\u001b[1;32m<ipython-input-8-f8b7dd4f5707>\u001b[0m in \u001b[0;36m<module>\u001b[1;34m()\u001b[0m\n\u001b[1;32m----> 1\u001b[1;33m \u001b[0mredCar\u001b[0m\u001b[1;33m.\u001b[0m\u001b[0mcolor\u001b[0m\u001b[1;33m\u001b[0m\u001b[0m\n\u001b[0m",
      "\u001b[1;31mNameError\u001b[0m: name 'redCar' is not defined"
     ]
    }
   ],
   "source": [
    "redCar.color"
   ]
  },
  {
   "cell_type": "code",
   "execution_count": null,
   "metadata": {},
   "outputs": [],
   "source": [
    "# class Student(object):\n",
    "#     name=\"\"\n",
    "#     ifpass=True\n",
    "#     def __init(self,name):\n",
    "#         self.name=name\n",
    "#     def_ispass():\n",
    "#         return self.ifpass"
   ]
  },
  {
   "cell_type": "code",
   "execution_count": 9,
   "metadata": {},
   "outputs": [],
   "source": [
    "class Car:\n",
    "  gear=\"semi\"\n",
    "  color=\"white\" \n",
    "  def printDetails(self):\n",
    "    print (self.gear,self.color)"
   ]
  },
  {
   "cell_type": "code",
   "execution_count": 10,
   "metadata": {},
   "outputs": [
    {
     "name": "stdout",
     "output_type": "stream",
     "text": [
      "<__main__.Car object at 0x0000025F829E84E0>\n"
     ]
    }
   ],
   "source": [
    "greenCar=Car()\n",
    "print(greenCar)"
   ]
  },
  {
   "cell_type": "code",
   "execution_count": 11,
   "metadata": {},
   "outputs": [
    {
     "data": {
      "text/plain": [
       "['__class__',\n",
       " '__delattr__',\n",
       " '__dict__',\n",
       " '__dir__',\n",
       " '__doc__',\n",
       " '__eq__',\n",
       " '__format__',\n",
       " '__ge__',\n",
       " '__getattribute__',\n",
       " '__gt__',\n",
       " '__hash__',\n",
       " '__init__',\n",
       " '__init_subclass__',\n",
       " '__le__',\n",
       " '__lt__',\n",
       " '__module__',\n",
       " '__ne__',\n",
       " '__new__',\n",
       " '__reduce__',\n",
       " '__reduce_ex__',\n",
       " '__repr__',\n",
       " '__setattr__',\n",
       " '__sizeof__',\n",
       " '__str__',\n",
       " '__subclasshook__',\n",
       " '__weakref__',\n",
       " 'color',\n",
       " 'gear',\n",
       " 'printDetails']"
      ]
     },
     "execution_count": 11,
     "metadata": {},
     "output_type": "execute_result"
    }
   ],
   "source": [
    "dir(greenCar)"
   ]
  },
  {
   "cell_type": "code",
   "execution_count": null,
   "metadata": {},
   "outputs": [],
   "source": [
    "dir(list)"
   ]
  },
  {
   "cell_type": "code",
   "execution_count": 12,
   "metadata": {},
   "outputs": [
    {
     "name": "stdout",
     "output_type": "stream",
     "text": [
      "semi white\n"
     ]
    }
   ],
   "source": [
    "greenCar.printDetails()\n",
    "# printdetails(greenCar)"
   ]
  },
  {
   "cell_type": "code",
   "execution_count": 13,
   "metadata": {},
   "outputs": [],
   "source": [
    "greenCar.color=\"green\"\n"
   ]
  },
  {
   "cell_type": "code",
   "execution_count": 14,
   "metadata": {},
   "outputs": [
    {
     "name": "stdout",
     "output_type": "stream",
     "text": [
      "semi green\n"
     ]
    }
   ],
   "source": [
    "greenCar.printDetails()"
   ]
  },
  {
   "cell_type": "code",
   "execution_count": 15,
   "metadata": {},
   "outputs": [
    {
     "name": "stdout",
     "output_type": "stream",
     "text": [
      "semi red\n"
     ]
    }
   ],
   "source": [
    "redCar=Car()\n",
    "redCar.color=\"red\"\n",
    "redCar.printDetails()"
   ]
  },
  {
   "cell_type": "code",
   "execution_count": 16,
   "metadata": {},
   "outputs": [
    {
     "name": "stdout",
     "output_type": "stream",
     "text": [
      "semi green\n"
     ]
    }
   ],
   "source": [
    "greenCar.color=\"green\"\n",
    "greenCar.printDetails()"
   ]
  },
  {
   "cell_type": "code",
   "execution_count": null,
   "metadata": {},
   "outputs": [],
   "source": [
    "# class Car:\n",
    "#   gear,color\n",
    "#   def printDetails(self):\n",
    "#     print (self.gear,self.color)\n",
    "# gc =Car()\n"
   ]
  },
  {
   "cell_type": "code",
   "execution_count": 23,
   "metadata": {},
   "outputs": [],
   "source": [
    "class Employee:\n",
    "    def __init__(self):\n",
    "      print(\" This is constructor\")# this is constructor\n",
    "      self.name = \"\"\n",
    "      self.salary = 0\n",
    "      self.age=0\n",
    "    def displayName(self):\n",
    "        print (\"Employee \",self.name)\n",
    "    def displaydetails(self):\n",
    "      print (\"Name : \", self.name,  \", Salary: \", self.salary, \", age: \", self.age)\n",
    "    def increaseSalary(self):\n",
    "      self.salary += 500\n",
    "      print (self.salary)"
   ]
  },
  {
   "cell_type": "code",
   "execution_count": 25,
   "metadata": {},
   "outputs": [
    {
     "name": "stdout",
     "output_type": "stream",
     "text": [
      " This is constructor\n",
      "\n",
      "0\n",
      "0\n",
      "('Name : ', '', ', Salary: ', 0, ', age: ', 0)\n"
     ]
    }
   ],
   "source": [
    "emp1=Employee()\n",
    "print(emp1.name)\n",
    "print(emp1.salary)\n",
    "print(emp1.age)\n",
    "emp1.displaydetails()"
   ]
  },
  {
   "cell_type": "code",
   "execution_count": 26,
   "metadata": {},
   "outputs": [
    {
     "name": "stdout",
     "output_type": "stream",
     "text": [
      "ashok\n",
      "2000\n",
      "30\n"
     ]
    }
   ],
   "source": [
    "emp1.name=\"ashok\"\n",
    "emp1.age=30\n",
    "emp1.salary=2000\n",
    "print(emp1.name)\n",
    "print(emp1.salary)\n",
    "print(emp1.age)"
   ]
  },
  {
   "cell_type": "code",
   "execution_count": 27,
   "metadata": {},
   "outputs": [
    {
     "name": "stdout",
     "output_type": "stream",
     "text": [
      " This is constructor\n",
      "rajan\n",
      "3000\n",
      "35\n"
     ]
    }
   ],
   "source": [
    "emp2=Employee()\n",
    "emp2.name=\"rajan\"\n",
    "emp2.age=35\n",
    "emp2.salary=3000\n",
    "print(emp2.name)\n",
    "print(emp2.salary)\n",
    "print(emp2.age)"
   ]
  },
  {
   "cell_type": "code",
   "execution_count": 28,
   "metadata": {},
   "outputs": [],
   "source": [
    "class Employee:\n",
    "   count=0\n",
    "   def __init__(self,x,y,z ):\n",
    "      print(\" This is constructor\")# this is constructor\n",
    "      self.name = x\n",
    "      self.salary = y\n",
    "      self.age=z\n",
    "#       Employee.count+=1\n",
    "   def displayName(self):\n",
    "     print (\"Employee \",self.name)\n",
    "   def displaydetails(self):\n",
    "      print (\"Name : \", self.name,  \", Salary: \", self.salary, \", age: \", self.age)\n",
    "   def increaseSalary(self):\n",
    "      self.salary += 500\n",
    "      print (self.salary)"
   ]
  },
  {
   "cell_type": "code",
   "execution_count": 29,
   "metadata": {},
   "outputs": [
    {
     "name": "stdout",
     "output_type": "stream",
     "text": [
      " This is constructor\n",
      "('Employee ', 'raghav')\n",
      "<__main__.Employee instance at 0x00000000055B55C8>\n"
     ]
    }
   ],
   "source": [
    "emp1=Employee(\"raghav\", 2000, 14)\n",
    "emp1.displayName()\n",
    "# print (Employee.count)\n",
    "print(emp1)"
   ]
  },
  {
   "cell_type": "code",
   "execution_count": 30,
   "metadata": {},
   "outputs": [
    {
     "name": "stdout",
     "output_type": "stream",
     "text": [
      " This is constructor\n"
     ]
    }
   ],
   "source": [
    "emp2=Employee(\"aakash\", 5000, 15)"
   ]
  },
  {
   "cell_type": "code",
   "execution_count": 31,
   "metadata": {},
   "outputs": [
    {
     "name": "stdout",
     "output_type": "stream",
     "text": [
      "('Employee ', 'raghav')\n"
     ]
    }
   ],
   "source": [
    "emp1.displayName()"
   ]
  },
  {
   "cell_type": "code",
   "execution_count": 32,
   "metadata": {},
   "outputs": [
    {
     "name": "stdout",
     "output_type": "stream",
     "text": [
      "('Employee ', 'aakash')\n"
     ]
    }
   ],
   "source": [
    "emp2.displayName()"
   ]
  },
  {
   "cell_type": "code",
   "execution_count": 33,
   "metadata": {},
   "outputs": [
    {
     "name": "stdout",
     "output_type": "stream",
     "text": [
      "2500\n"
     ]
    }
   ],
   "source": [
    "emp1.increaseSalary()\n",
    "# print(emp1)"
   ]
  },
  {
   "cell_type": "code",
   "execution_count": 34,
   "metadata": {},
   "outputs": [
    {
     "data": {
      "text/plain": [
       "0"
      ]
     },
     "execution_count": 34,
     "metadata": {},
     "output_type": "execute_result"
    }
   ],
   "source": [
    "Employee.count"
   ]
  },
  {
   "cell_type": "code",
   "execution_count": 35,
   "metadata": {},
   "outputs": [
    {
     "data": {
      "text/plain": [
       "7"
      ]
     },
     "execution_count": 35,
     "metadata": {},
     "output_type": "execute_result"
    }
   ],
   "source": [
    "emp2.age = 7  # Add an 'age' attribute.\n",
    "emp2.age"
   ]
  },
  {
   "cell_type": "code",
   "execution_count": 37,
   "metadata": {},
   "outputs": [
    {
     "data": {
      "text/plain": [
       "8"
      ]
     },
     "execution_count": 37,
     "metadata": {},
     "output_type": "execute_result"
    }
   ],
   "source": [
    "emp1.age = 8  # Modify 'age' attribute.\n",
    "emp1.age\n"
   ]
  },
  {
   "cell_type": "code",
   "execution_count": 38,
   "metadata": {},
   "outputs": [
    {
     "name": "stdout",
     "output_type": "stream",
     "text": [
      "<__main__.Employee instance at 0x00000000055B55C8>\n"
     ]
    }
   ],
   "source": [
    "print(emp1)"
   ]
  },
  {
   "cell_type": "code",
   "execution_count": 39,
   "metadata": {},
   "outputs": [
    {
     "data": {
      "text/plain": [
       "['__doc__',\n",
       " '__init__',\n",
       " '__module__',\n",
       " 'age',\n",
       " 'count',\n",
       " 'displayName',\n",
       " 'displaydetails',\n",
       " 'increaseSalary',\n",
       " 'name',\n",
       " 'salary']"
      ]
     },
     "execution_count": 39,
     "metadata": {},
     "output_type": "execute_result"
    }
   ],
   "source": [
    "dir(emp1)"
   ]
  },
  {
   "cell_type": "code",
   "execution_count": 40,
   "metadata": {},
   "outputs": [
    {
     "data": {
      "text/plain": [
       "['__add__',\n",
       " '__class__',\n",
       " '__contains__',\n",
       " '__delattr__',\n",
       " '__doc__',\n",
       " '__eq__',\n",
       " '__format__',\n",
       " '__ge__',\n",
       " '__getattribute__',\n",
       " '__getitem__',\n",
       " '__getnewargs__',\n",
       " '__getslice__',\n",
       " '__gt__',\n",
       " '__hash__',\n",
       " '__init__',\n",
       " '__le__',\n",
       " '__len__',\n",
       " '__lt__',\n",
       " '__mod__',\n",
       " '__mul__',\n",
       " '__ne__',\n",
       " '__new__',\n",
       " '__reduce__',\n",
       " '__reduce_ex__',\n",
       " '__repr__',\n",
       " '__rmod__',\n",
       " '__rmul__',\n",
       " '__setattr__',\n",
       " '__sizeof__',\n",
       " '__str__',\n",
       " '__subclasshook__',\n",
       " '_formatter_field_name_split',\n",
       " '_formatter_parser',\n",
       " 'capitalize',\n",
       " 'center',\n",
       " 'count',\n",
       " 'decode',\n",
       " 'encode',\n",
       " 'endswith',\n",
       " 'expandtabs',\n",
       " 'find',\n",
       " 'format',\n",
       " 'index',\n",
       " 'isalnum',\n",
       " 'isalpha',\n",
       " 'isdigit',\n",
       " 'islower',\n",
       " 'isspace',\n",
       " 'istitle',\n",
       " 'isupper',\n",
       " 'join',\n",
       " 'ljust',\n",
       " 'lower',\n",
       " 'lstrip',\n",
       " 'partition',\n",
       " 'replace',\n",
       " 'rfind',\n",
       " 'rindex',\n",
       " 'rjust',\n",
       " 'rpartition',\n",
       " 'rsplit',\n",
       " 'rstrip',\n",
       " 'split',\n",
       " 'splitlines',\n",
       " 'startswith',\n",
       " 'strip',\n",
       " 'swapcase',\n",
       " 'title',\n",
       " 'translate',\n",
       " 'upper',\n",
       " 'zfill']"
      ]
     },
     "execution_count": 40,
     "metadata": {},
     "output_type": "execute_result"
    }
   ],
   "source": [
    "s=\"python\"\n",
    "dir(s)"
   ]
  },
  {
   "cell_type": "code",
   "execution_count": 41,
   "metadata": {},
   "outputs": [],
   "source": [
    "class Fraction:\n",
    "    def __init__(self, num, den):\n",
    "        self.num = num\n",
    "        self.den = den\n",
    "\n",
    "    def __str__(self):\n",
    "#         print(\"I am in __STR__\")\n",
    "        \n",
    "#         pass\n",
    "#         return \"i am printing t///he object\"\n",
    "        return '(' + str(self.num) + '/' + str(self.den) + ')'\n",
    "#         return  str(self.num) + '/' + str(self.den) \n",
    "#         return \" this is example for __STR_\"\n",
    "\n"
   ]
  },
  {
   "cell_type": "code",
   "execution_count": 43,
   "metadata": {},
   "outputs": [
    {
     "name": "stdout",
     "output_type": "stream",
     "text": [
      "(10/34)\n",
      "(1/2)\n"
     ]
    }
   ],
   "source": [
    "f = Fraction(1,2)\n",
    "t=Fraction(10,34)\n",
    "print(t)\n",
    "print(f)"
   ]
  },
  {
   "cell_type": "code",
   "execution_count": 37,
   "metadata": {},
   "outputs": [
    {
     "name": "stdout",
     "output_type": "stream",
     "text": [
      "(1/2)\n"
     ]
    }
   ],
   "source": [
    "print(f)"
   ]
  },
  {
   "cell_type": "code",
   "execution_count": 45,
   "metadata": {},
   "outputs": [
    {
     "name": "stdout",
     "output_type": "stream",
     "text": [
      " This is constructor\n",
      "Employee name is :aakash\n",
      "1\n",
      "1\n",
      " This is constructor\n",
      "2\n",
      "2\n"
     ]
    }
   ],
   "source": [
    "class Employee:\n",
    "   count=0\n",
    "   def __init__(self,x,y,z ):\n",
    "      print(\" This is constructor\")# this is constructor\n",
    "      self.name = x\n",
    "      self.salary = y\n",
    "      self.age=z\n",
    "      Employee.count+=1\n",
    "     \n",
    "   def __str__(self):\n",
    "    return \"Employee name is :\"+self.name\n",
    "emp2=Employee(\"aakash\", 5000, 15)\n",
    "print(emp2)\n",
    "print(Employee.count)\n",
    "print(emp2.count)\n",
    "emp1=Employee(\"ashok\", 5000, 15)\n",
    "print(Employee.count)\n",
    "print(emp1.count)\n",
    "\n",
    "# print()"
   ]
  },
  {
   "cell_type": "code",
   "execution_count": 47,
   "metadata": {},
   "outputs": [
    {
     "name": "stdout",
     "output_type": "stream",
     "text": [
      "False\n"
     ]
    },
    {
     "data": {
      "text/plain": [
       "15"
      ]
     },
     "execution_count": 47,
     "metadata": {},
     "output_type": "execute_result"
    }
   ],
   "source": [
    "x=hasattr(emp1, 'age')    # Returns true if 'age' attribute exists\n",
    "print(x)\n",
    "getattr(emp1, 'age')    # Returns value of 'age' attribute"
   ]
  },
  {
   "cell_type": "code",
   "execution_count": 48,
   "metadata": {},
   "outputs": [
    {
     "data": {
      "text/plain": [
       "18"
      ]
     },
     "execution_count": 48,
     "metadata": {},
     "output_type": "execute_result"
    }
   ],
   "source": [
    "setattr(emp1, 'age', 18) # Set attribute 'age' at 8 emp1.age=8\n",
    "getattr(emp1, 'age')    # Returns value of 'age' attribute    # Returns value of 'age' attribute\n"
   ]
  },
  {
   "cell_type": "code",
   "execution_count": 49,
   "metadata": {},
   "outputs": [],
   "source": [
    "delattr(emp1, 'age')    # Delete attribute 'age'\n",
    "# x= getattr(emp1, 'age')    # Returns value of 'age' attribute\n",
    "# x\n",
    "setattr(emp1, 'age', 18) # Set attribute 'age' at 8 emp1.age=8\n"
   ]
  },
  {
   "cell_type": "code",
   "execution_count": 50,
   "metadata": {},
   "outputs": [],
   "source": [
    "class Example:\n",
    "    staticVariable = 5 # Access through class"
   ]
  },
  {
   "cell_type": "code",
   "execution_count": 46,
   "metadata": {},
   "outputs": [
    {
     "data": {
      "text/plain": [
       "5"
      ]
     },
     "execution_count": 46,
     "metadata": {},
     "output_type": "execute_result"
    }
   ],
   "source": [
    "Example.staticVariable"
   ]
  },
  {
   "cell_type": "code",
   "execution_count": 47,
   "metadata": {},
   "outputs": [
    {
     "data": {
      "text/plain": [
       "5"
      ]
     },
     "execution_count": 47,
     "metadata": {},
     "output_type": "execute_result"
    }
   ],
   "source": [
    "# Access through an instance\n",
    "instance = Example()\n",
    "instance.staticVariable # still 5"
   ]
  },
  {
   "cell_type": "code",
   "execution_count": 48,
   "metadata": {},
   "outputs": [
    {
     "data": {
      "text/plain": [
       "6"
      ]
     },
     "execution_count": 48,
     "metadata": {},
     "output_type": "execute_result"
    }
   ],
   "source": [
    "# # Change within an instance\n",
    "instance.staticVariable = 6\n",
    "instance.staticVariable # 6"
   ]
  },
  {
   "cell_type": "code",
   "execution_count": 49,
   "metadata": {},
   "outputs": [
    {
     "data": {
      "text/plain": [
       "5"
      ]
     },
     "execution_count": 49,
     "metadata": {},
     "output_type": "execute_result"
    }
   ],
   "source": [
    "Example.staticVariable"
   ]
  },
  {
   "cell_type": "code",
   "execution_count": 50,
   "metadata": {},
   "outputs": [
    {
     "data": {
      "text/plain": [
       "7"
      ]
     },
     "execution_count": 50,
     "metadata": {},
     "output_type": "execute_result"
    }
   ],
   "source": [
    "Example.staticVariable =7\n",
    "Example.staticVariable"
   ]
  },
  {
   "cell_type": "code",
   "execution_count": 51,
   "metadata": {},
   "outputs": [
    {
     "data": {
      "text/plain": [
       "6"
      ]
     },
     "execution_count": 51,
     "metadata": {},
     "output_type": "execute_result"
    }
   ],
   "source": [
    "instance.staticVariable"
   ]
  },
  {
   "cell_type": "code",
   "execution_count": null,
   "metadata": {},
   "outputs": [],
   "source": []
  },
  {
   "cell_type": "code",
   "execution_count": 52,
   "metadata": {},
   "outputs": [],
   "source": [
    "instance1 = Example()"
   ]
  },
  {
   "cell_type": "code",
   "execution_count": 53,
   "metadata": {},
   "outputs": [
    {
     "data": {
      "text/plain": [
       "7"
      ]
     },
     "execution_count": 53,
     "metadata": {},
     "output_type": "execute_result"
    }
   ],
   "source": [
    "instance1.staticVariable"
   ]
  },
  {
   "cell_type": "code",
   "execution_count": 54,
   "metadata": {},
   "outputs": [],
   "source": [
    "class Parent:\n",
    "    parentAttr = 100\n",
    "    def __init__(self):\n",
    "        print (\"Calling parent constructor\")\n",
    "    def parentMethod(self):\n",
    "      print('Calling parent method')\n",
    "    def onlyParentAttr(self,attr):\n",
    "        Parent.parentAttr = attr\n",
    "        print (\"Parent attribute :\", Parent.parentAttr)\n",
    "    def setAttr(self, attr):\n",
    "      Parent.parentAttr = attr\n",
    "      self.parentAttr = attr\n",
    "    def getAttr(self):\n",
    "        print (\"Parent attribute :\", Parent.parentAttr)\n",
    "        print (\"Object attribute :\", self.parentAttr)"
   ]
  },
  {
   "cell_type": "code",
   "execution_count": 55,
   "metadata": {},
   "outputs": [
    {
     "name": "stdout",
     "output_type": "stream",
     "text": [
      "Calling parent constructor\n",
      "Parent attribute : 5000\n",
      "Object attribute : 5000\n"
     ]
    }
   ],
   "source": [
    "obj=Parent()\n",
    "obj.setAttr(5000)\n",
    "obj.getAttr()\n",
    "# obj.onlyParentAttr(122)"
   ]
  },
  {
   "cell_type": "code",
   "execution_count": null,
   "metadata": {},
   "outputs": [],
   "source": [
    "print(dir(obj)) "
   ]
  },
  {
   "cell_type": "code",
   "execution_count": 56,
   "metadata": {},
   "outputs": [
    {
     "name": "stdout",
     "output_type": "stream",
     "text": [
      "<class '__main__.Parent'>\n"
     ]
    }
   ],
   "source": [
    "print(obj.__class__)"
   ]
  },
  {
   "cell_type": "code",
   "execution_count": 57,
   "metadata": {},
   "outputs": [
    {
     "name": "stdout",
     "output_type": "stream",
     "text": [
      "<class 'list'>\n"
     ]
    }
   ],
   "source": [
    "l=[]\n",
    "print(l.__class__)"
   ]
  },
  {
   "cell_type": "code",
   "execution_count": 58,
   "metadata": {},
   "outputs": [
    {
     "name": "stdout",
     "output_type": "stream",
     "text": [
      "__main__\n"
     ]
    }
   ],
   "source": [
    "print(obj.__module__)"
   ]
  },
  {
   "cell_type": "markdown",
   "metadata": {},
   "source": [
    "### ASSIGNMENT\n",
    "Python Program to Find the Area of a Rectangle Using Classes<br>\n",
    "Python Program to Append, Delete and Display Elements of a List Using Classes<br>\n",
    "Python Program to Create a Class and Compute the Area and the Perimeter of the Circle<br>"
   ]
  },
  {
   "cell_type": "code",
   "execution_count": null,
   "metadata": {},
   "outputs": [],
   "source": []
  }
 ],
 "metadata": {
  "kernelspec": {
   "display_name": "Python 2",
   "language": "python",
   "name": "python2"
  },
  "language_info": {
   "codemirror_mode": {
    "name": "ipython",
    "version": 2
   },
   "file_extension": ".py",
   "mimetype": "text/x-python",
   "name": "python",
   "nbconvert_exporter": "python",
   "pygments_lexer": "ipython2",
   "version": "2.7.16"
  }
 },
 "nbformat": 4,
 "nbformat_minor": 2
}
