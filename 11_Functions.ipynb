{
 "cells": [
  {
   "cell_type": "markdown",
   "metadata": {},
   "source": [
    "# Functions\n"
   ]
  },
  {
   "cell_type": "markdown",
   "metadata": {},
   "source": [
    "### A piece of code which can be resued.\n",
    "Introduction to Functions\n",
    "\n",
    "What is a function in Python and how to create a function?\n",
    "\n",
    "Functions will be one of our main building blocks when we construct larger and larger amount of code to solve problems.\n",
    "\n",
    "So what is a function?\n",
    "\n",
    "A function groups a set of statements together to run the statements more than once. It allows us to specify parameters that can serve as inputs to the functions.\n",
    "\n",
    "Functions allow us to reuse the code instead of writing the code again and again. If you recall strings and lists, remember that len() function is used to find the length of a string. Since checking the length of a sequence is a common task, you would want to write a function that can do this repeatedly at command.\n",
    "\n",
    "Function is one of the most basic levels of reusing code in Python, and it will also allow us to start thinking of program design.\n",
    "\n"
   ]
  },
  {
   "cell_type": "code",
   "execution_count": null,
   "metadata": {},
   "outputs": [],
   "source": [
    "l=[3,4,5,6]\n",
    "x=l.pop ()\n",
    "print (x)"
   ]
  },
  {
   "cell_type": "markdown",
   "metadata": {},
   "source": [
    "### def Statements\n",
    "\n",
    "Now, let us learn how to build a function and what is the syntax in Python.\n",
    "\n",
    "The syntax for def statements will be in the following form:"
   ]
  },
  {
   "cell_type": "code",
   "execution_count": null,
   "metadata": {},
   "outputs": [],
   "source": [
    "def subject():\n",
    "    print( \"python class\")\n",
    "    print (\"I Am learning python\")\n",
    "print (\"I am before function\")"
   ]
  },
  {
   "cell_type": "code",
   "execution_count": null,
   "metadata": {},
   "outputs": [],
   "source": [
    "def subject():\n",
    "    print( \"python class\")\n",
    "    print (\"I Am learning python\")\n",
    "\n",
    "print (\"I am before function\")\n",
    "subject()# function call\n",
    "print (\"I am after function\")"
   ]
  },
  {
   "cell_type": "code",
   "execution_count": null,
   "metadata": {},
   "outputs": [],
   "source": [
    "subject()"
   ]
  },
  {
   "cell_type": "code",
   "execution_count": null,
   "metadata": {},
   "outputs": [],
   "source": [
    "subject()\n",
    "subject()"
   ]
  },
  {
   "cell_type": "code",
   "execution_count": null,
   "metadata": {},
   "outputs": [],
   "source": [
    "def subject2():\n",
    "    print( \"Java class\")\n",
    "    print (\"I Am learning Java\")\n",
    "subject2()"
   ]
  },
  {
   "cell_type": "code",
   "execution_count": 1,
   "metadata": {},
   "outputs": [],
   "source": [
    "def printsubject(name):\n",
    "    print (\" I am learning \" +name)"
   ]
  },
  {
   "cell_type": "code",
   "execution_count": 2,
   "metadata": {},
   "outputs": [
    {
     "name": "stdout",
     "output_type": "stream",
     "text": [
      " I am learning python\n",
      " I am learning java\n",
      " I am learning JavaScript\n",
      " I am learning scala\n"
     ]
    }
   ],
   "source": [
    "printsubject(\"python\")\n",
    "printsubject(\"java\")\n",
    "printsubject(\"JavaScript\")\n",
    "printsubject(\"scala\")"
   ]
  },
  {
   "cell_type": "code",
   "execution_count": null,
   "metadata": {},
   "outputs": [],
   "source": [
    "def printrevevrsesubject(name):\n",
    "\tprint (name[::-1])"
   ]
  },
  {
   "cell_type": "code",
   "execution_count": null,
   "metadata": {},
   "outputs": [],
   "source": [
    "printrevevrsesubject(\"python\")"
   ]
  },
  {
   "cell_type": "code",
   "execution_count": null,
   "metadata": {},
   "outputs": [],
   "source": [
    "printrevevrsesubject(\"javaScript\")"
   ]
  },
  {
   "cell_type": "code",
   "execution_count": null,
   "metadata": {},
   "outputs": [],
   "source": [
    "printrevevrsesubject(\"java\")"
   ]
  },
  {
   "cell_type": "code",
   "execution_count": null,
   "metadata": {},
   "outputs": [],
   "source": [
    "x=input(\"enter string \")\n",
    "printrevevrsesubject(x)"
   ]
  },
  {
   "cell_type": "code",
   "execution_count": null,
   "metadata": {},
   "outputs": [],
   "source": [
    "def detail(age,name):\n",
    "    print (age,name)"
   ]
  },
  {
   "cell_type": "code",
   "execution_count": null,
   "metadata": {},
   "outputs": [],
   "source": [
    "detail(\"richard\",20)"
   ]
  },
  {
   "cell_type": "code",
   "execution_count": null,
   "metadata": {},
   "outputs": [],
   "source": [
    "def increasesalary(salary):\n",
    "\tnewsalary=salary*1.10\n",
    "\tprint (\"Revised salary \",newsalary)"
   ]
  },
  {
   "cell_type": "code",
   "execution_count": null,
   "metadata": {},
   "outputs": [],
   "source": [
    "increasesalary(200)"
   ]
  },
  {
   "cell_type": "code",
   "execution_count": null,
   "metadata": {},
   "outputs": [],
   "source": [
    "increasesalary(200)\n",
    "print (newsalary)\n",
    "bonus=2*newsalary/100\n",
    "print (\" Bonus is : \", bonus)"
   ]
  },
  {
   "cell_type": "code",
   "execution_count": null,
   "metadata": {},
   "outputs": [],
   "source": [
    "def increaseSalary(salary):\n",
    "    newsalary=salary+200\n",
    "    print (\"inside function:\",newsalary)\n",
    "    return newsalary"
   ]
  },
  {
   "cell_type": "code",
   "execution_count": null,
   "metadata": {},
   "outputs": [],
   "source": [
    "x=increaseSalary(100)\n",
    "# newsalary=increaseSalary(100)\n",
    "bonus=x*2/100\n",
    "print(\"After function: \",bonus)"
   ]
  },
  {
   "cell_type": "code",
   "execution_count": null,
   "metadata": {},
   "outputs": [],
   "source": [
    "def calculatearea(base,height):\n",
    "\tarea=base*height\n",
    "\tprint (\"inside the function area: \" ,area)\n",
    "\treturn area\n",
    "x=calculatearea(10,20)\n",
    "print (x)"
   ]
  },
  {
   "cell_type": "code",
   "execution_count": null,
   "metadata": {},
   "outputs": [],
   "source": [
    "x=calculatearea(50,20)\n",
    "print (x)"
   ]
  },
  {
   "cell_type": "markdown",
   "metadata": {},
   "source": [
    "### Default Argument"
   ]
  },
  {
   "cell_type": "markdown",
   "metadata": {},
   "source": [
    "Default Argument: Python allows to call a function by specifying minimum possible arguments. \n",
    "In such cases the function \n",
    "assigns a default value which does not have a matching argument in function call.\n",
    "Default values are specified when the function is declared.\n",
    "the compiler looks at the prototype to see how many arguments a function uses and alerts the program \n",
    "for possible default values\n",
    "Default values are specified from right--> to left in the arguments list \n"
   ]
  },
  {
   "cell_type": "code",
   "execution_count": 3,
   "metadata": {},
   "outputs": [],
   "source": [
    "def calculatearea(base=50,height=100):\n",
    "\tarea=base*height/2\n",
    "\tprint(area)"
   ]
  },
  {
   "cell_type": "code",
   "execution_count": 7,
   "metadata": {},
   "outputs": [
    {
     "name": "stdout",
     "output_type": "stream",
     "text": [
      "2500\n"
     ]
    }
   ],
   "source": [
    "calculatearea()"
   ]
  },
  {
   "cell_type": "code",
   "execution_count": 8,
   "metadata": {},
   "outputs": [
    {
     "name": "stdout",
     "output_type": "stream",
     "text": [
      "125\n"
     ]
    }
   ],
   "source": [
    "calculatearea(height=5)"
   ]
  },
  {
   "cell_type": "code",
   "execution_count": 9,
   "metadata": {},
   "outputs": [
    {
     "name": "stdout",
     "output_type": "stream",
     "text": [
      "10\n"
     ]
    }
   ],
   "source": [
    "calculatearea(4,5)"
   ]
  },
  {
   "cell_type": "code",
   "execution_count": 10,
   "metadata": {},
   "outputs": [
    {
     "name": "stdout",
     "output_type": "stream",
     "text": [
      "200\n"
     ]
    }
   ],
   "source": [
    "calculatearea(4)"
   ]
  },
  {
   "cell_type": "code",
   "execution_count": 11,
   "metadata": {},
   "outputs": [
    {
     "name": "stdout",
     "output_type": "stream",
     "text": [
      "250\n"
     ]
    }
   ],
   "source": [
    "calculatearea(base=5)"
   ]
  },
  {
   "cell_type": "code",
   "execution_count": 13,
   "metadata": {},
   "outputs": [],
   "source": [
    "def defarg(name=\"Python\",age=20):\n",
    "\tprint (name,age)"
   ]
  },
  {
   "cell_type": "code",
   "execution_count": 14,
   "metadata": {},
   "outputs": [
    {
     "name": "stdout",
     "output_type": "stream",
     "text": [
      "('Python', 20)\n"
     ]
    }
   ],
   "source": [
    "defarg()"
   ]
  },
  {
   "cell_type": "code",
   "execution_count": 15,
   "metadata": {},
   "outputs": [
    {
     "name": "stdout",
     "output_type": "stream",
     "text": [
      "('Python', '56')\n"
     ]
    }
   ],
   "source": [
    "defarg(age=\"56\")"
   ]
  },
  {
   "cell_type": "code",
   "execution_count": 16,
   "metadata": {},
   "outputs": [
    {
     "name": "stdout",
     "output_type": "stream",
     "text": [
      "('java', 200)\n"
     ]
    }
   ],
   "source": [
    "defarg(name=\"java\",age=200)"
   ]
  },
  {
   "cell_type": "code",
   "execution_count": 17,
   "metadata": {},
   "outputs": [
    {
     "name": "stdout",
     "output_type": "stream",
     "text": [
      "(200, 10)\n"
     ]
    }
   ],
   "source": [
    "defarg(200,10)\n"
   ]
  },
  {
   "cell_type": "code",
   "execution_count": 18,
   "metadata": {},
   "outputs": [
    {
     "name": "stdout",
     "output_type": "stream",
     "text": [
      "(200, 'java')\n"
     ]
    }
   ],
   "source": [
    "defarg(200,\"java\")"
   ]
  },
  {
   "cell_type": "code",
   "execution_count": 20,
   "metadata": {},
   "outputs": [],
   "source": [
    "def parrot(voltage, state='a stiff', action='voom', parrottype='Norwegian Blue'):\n",
    "    print (\"-- This parrot wouldn't\", action,)\n",
    "    print (\"--if you put\", voltage, \"volts through it.\")\n",
    "    print (\"-- Lovely plumage, the\", parrottype)\n",
    "    print (\"-- It's\", state, \"!\")"
   ]
  },
  {
   "cell_type": "code",
   "execution_count": 21,
   "metadata": {},
   "outputs": [
    {
     "name": "stdout",
     "output_type": "stream",
     "text": [
      "(\"-- This parrot wouldn't\", 'voom')\n",
      "('--if you put', 'a thousand', 'volts through it.')\n",
      "('-- Lovely plumage, the', 'Norwegian Blue')\n",
      "(\"-- It's\", 'pushing up the daisies', '!')\n"
     ]
    }
   ],
   "source": [
    "parrot('a thousand', state='pushing up the daisies')  # 1 positional, 1 keyword"
   ]
  },
  {
   "cell_type": "code",
   "execution_count": 22,
   "metadata": {},
   "outputs": [
    {
     "name": "stdout",
     "output_type": "stream",
     "text": [
      "(\"-- This parrot wouldn't\", 'jump')\n",
      "('--if you put', 'a million', 'volts through it.')\n",
      "('-- Lovely plumage, the', 'Norwegian Blue')\n",
      "(\"-- It's\", 'bereft of life', '!')\n"
     ]
    }
   ],
   "source": [
    "parrot('a million', 'bereft of life', 'jump')         # 3 positional arguments"
   ]
  },
  {
   "cell_type": "code",
   "execution_count": null,
   "metadata": {},
   "outputs": [],
   "source": [
    "parrot(1000,\"wet\")# 1 positional argument"
   ]
  },
  {
   "cell_type": "code",
   "execution_count": null,
   "metadata": {},
   "outputs": [],
   "source": [
    "parrot(voltage=1000)                          # 1 keyword argument"
   ]
  },
  {
   "cell_type": "code",
   "execution_count": null,
   "metadata": {},
   "outputs": [],
   "source": [
    "parrot(voltage=1000000,action='VOOOOOM') #2 keyword arguments"
   ]
  },
  {
   "cell_type": "code",
   "execution_count": null,
   "metadata": {},
   "outputs": [],
   "source": [
    "parrot(action='VOOOOOM', voltage=1000000)             # 2 keyword arguments"
   ]
  },
  {
   "cell_type": "code",
   "execution_count": null,
   "metadata": {},
   "outputs": [],
   "source": [
    "parrot('a million', 'bereft of life', 'jump')         # 3 positional arguments"
   ]
  },
  {
   "cell_type": "code",
   "execution_count": null,
   "metadata": {},
   "outputs": [],
   "source": [
    "parrot('a thousand', state='pushing up the daisies')  # 1 positional, 1 keyword\n",
    "//ashish"
   ]
  },
  {
   "cell_type": "markdown",
   "metadata": {},
   "source": [
    "# UnPacking of data"
   ]
  },
  {
   "cell_type": "code",
   "execution_count": null,
   "metadata": {},
   "outputs": [],
   "source": []
  },
  {
   "cell_type": "code",
   "execution_count": null,
   "metadata": {},
   "outputs": [],
   "source": [
    "d={}\n",
    "type(d)"
   ]
  },
  {
   "cell_type": "code",
   "execution_count": null,
   "metadata": {},
   "outputs": [],
   "source": [
    "d ={}\n",
    "d['name']='Rakesh'\n",
    "d['age'] = 20\n",
    "d['subject']=\"java\"\n",
    "d[\"level\"]=\"beginner\"\n",
    "d[\"secondary\"]= \"python\""
   ]
  },
  {
   "cell_type": "code",
   "execution_count": null,
   "metadata": {},
   "outputs": [],
   "source": [
    "def varlength(mclass,name,age,subject,level,secondary):\n",
    "\tprint( name,mclass,age,subject,level)"
   ]
  },
  {
   "cell_type": "code",
   "execution_count": null,
   "metadata": {},
   "outputs": [],
   "source": [
    "varlength(\"school\",**d)"
   ]
  },
  {
   "cell_type": "code",
   "execution_count": 51,
   "metadata": {},
   "outputs": [
    {
     "ename": "SyntaxError",
     "evalue": "positional argument follows keyword argument unpacking (<ipython-input-51-6e0d2c8c3515>, line 1)",
     "output_type": "error",
     "traceback": [
      "\u001b[1;36m  File \u001b[1;32m\"<ipython-input-51-6e0d2c8c3515>\"\u001b[1;36m, line \u001b[1;32m1\u001b[0m\n\u001b[1;33m    varlength(**d,\"school\")\u001b[0m\n\u001b[1;37m                 ^\u001b[0m\n\u001b[1;31mSyntaxError\u001b[0m\u001b[1;31m:\u001b[0m positional argument follows keyword argument unpacking\n"
     ]
    }
   ],
   "source": [
    "varlength(**d,\"school\")"
   ]
  },
  {
   "cell_type": "code",
   "execution_count": 52,
   "metadata": {},
   "outputs": [
    {
     "ename": "TypeError",
     "evalue": "varlength() argument after ** must be a mapping, not list",
     "output_type": "error",
     "traceback": [
      "\u001b[1;31m---------------------------------------------------------------------------\u001b[0m",
      "\u001b[1;31mTypeError\u001b[0m                                 Traceback (most recent call last)",
      "\u001b[1;32m<ipython-input-52-68d135bac05c>\u001b[0m in \u001b[0;36m<module>\u001b[1;34m()\u001b[0m\n\u001b[1;32m----> 1\u001b[1;33m \u001b[0mvarlength\u001b[0m\u001b[1;33m(\u001b[0m\u001b[1;33m**\u001b[0m\u001b[0md\u001b[0m\u001b[1;33m,\u001b[0m \u001b[0mmclass\u001b[0m\u001b[1;33m=\u001b[0m\u001b[1;34m\"school\"\u001b[0m\u001b[1;33m)\u001b[0m\u001b[1;33m\u001b[0m\u001b[0m\n\u001b[0m",
      "\u001b[1;31mTypeError\u001b[0m: varlength() argument after ** must be a mapping, not list"
     ]
    }
   ],
   "source": [
    "varlength(**d, mclass=\"school\")"
   ]
  },
  {
   "cell_type": "code",
   "execution_count": null,
   "metadata": {},
   "outputs": [],
   "source": [
    "varlength(**d,\"school\")\n"
   ]
  },
  {
   "cell_type": "code",
   "execution_count": 44,
   "metadata": {},
   "outputs": [],
   "source": [
    "def moreVarLen(x,y):\n",
    "\tprint (x,y)"
   ]
  },
  {
   "cell_type": "code",
   "execution_count": 45,
   "metadata": {},
   "outputs": [
    {
     "name": "stdout",
     "output_type": "stream",
     "text": [
      "abc def\n"
     ]
    }
   ],
   "source": [
    "d = ('abc','def')\n",
    "moreVarLen(*d)"
   ]
  },
  {
   "cell_type": "code",
   "execution_count": 46,
   "metadata": {},
   "outputs": [
    {
     "name": "stdout",
     "output_type": "stream",
     "text": [
      "python abc\n"
     ]
    }
   ],
   "source": [
    "def moreVarLen(x,y,z):\n",
    "\tprint (x,y)\n",
    "d = ['abc','def']\n",
    "moreVarLen(\"python\",*d)"
   ]
  },
  {
   "cell_type": "code",
   "execution_count": 47,
   "metadata": {},
   "outputs": [
    {
     "name": "stdout",
     "output_type": "stream",
     "text": [
      "java abc\n"
     ]
    }
   ],
   "source": [
    "d = ['abc','def']\n",
    "moreVarLen(\"java\",*d)"
   ]
  },
  {
   "cell_type": "code",
   "execution_count": 49,
   "metadata": {},
   "outputs": [],
   "source": [
    "def moreVarLen(x,y,name,age):\n",
    "\tprint( \" %s, %s , %s , %d\" %(x,y,name,age))"
   ]
  },
  {
   "cell_type": "code",
   "execution_count": 50,
   "metadata": {},
   "outputs": [
    {
     "name": "stdout",
     "output_type": "stream",
     "text": [
      " abc, def , Ashok , 20\n"
     ]
    }
   ],
   "source": [
    "d1 ={}\n",
    "d1['name']='Ashok'\n",
    "d1['age'] = 20\n",
    "l = ['abc','def']\n",
    "moreVarLen(*l,**d1)"
   ]
  },
  {
   "cell_type": "markdown",
   "metadata": {},
   "source": [
    "## Pakcing of Data"
   ]
  },
  {
   "cell_type": "code",
   "execution_count": 53,
   "metadata": {},
   "outputs": [],
   "source": [
    "def revArgLen(**d):\n",
    "\tprint (d)"
   ]
  },
  {
   "cell_type": "code",
   "execution_count": 54,
   "metadata": {},
   "outputs": [
    {
     "name": "stdout",
     "output_type": "stream",
     "text": [
      "{'name': 'abc', 'age': 20}\n"
     ]
    }
   ],
   "source": [
    "revArgLen(name='abc',age=20)"
   ]
  },
  {
   "cell_type": "markdown",
   "metadata": {},
   "source": [
    "## Packed data will be alwasy Tuple or dictionary"
   ]
  },
  {
   "cell_type": "code",
   "execution_count": 55,
   "metadata": {},
   "outputs": [],
   "source": [
    "def revArgLen(*d):\n",
    "\tprint (d)\n",
    "\tprint (type(d))"
   ]
  },
  {
   "cell_type": "code",
   "execution_count": 56,
   "metadata": {},
   "outputs": [
    {
     "name": "stdout",
     "output_type": "stream",
     "text": [
      "(234, 4)\n",
      "<class 'tuple'>\n"
     ]
    }
   ],
   "source": [
    "revArgLen(234,4)"
   ]
  },
  {
   "cell_type": "markdown",
   "metadata": {},
   "source": [
    "## Namespace"
   ]
  },
  {
   "cell_type": "code",
   "execution_count": 57,
   "metadata": {},
   "outputs": [
    {
     "name": "stdout",
     "output_type": "stream",
     "text": [
      "234\n",
      "234\n",
      "5454\n"
     ]
    }
   ],
   "source": [
    "a=5454\n",
    "def revArgLen(d):\n",
    "    a=d\n",
    "    print (d)\n",
    "    print (a)\n",
    "revArgLen(234) \n",
    "print(a)"
   ]
  },
  {
   "cell_type": "code",
   "execution_count": 58,
   "metadata": {},
   "outputs": [
    {
     "name": "stdout",
     "output_type": "stream",
     "text": [
      "python\n",
      "234\n",
      "python\n"
     ]
    }
   ],
   "source": [
    "a=\"python\"\n",
    "def revArgLen(d):\n",
    "    print (a)\n",
    "    print (d)\n",
    "revArgLen(234) \n",
    "print(a)"
   ]
  },
  {
   "cell_type": "code",
   "execution_count": 59,
   "metadata": {},
   "outputs": [
    {
     "name": "stdout",
     "output_type": "stream",
     "text": [
      "global variable [ a_var inside a_func() ]\n",
      "global variable [ a_var outside a_func() ]\n"
     ]
    }
   ],
   "source": [
    "a_var = 'global variable'\n",
    "def a_func():\n",
    "    print (a_var, '[ a_var inside a_func() ]')\n",
    "a_func()\n",
    "print (a_var, '[ a_var outside a_func() ]')"
   ]
  },
  {
   "cell_type": "code",
   "execution_count": 60,
   "metadata": {},
   "outputs": [
    {
     "name": "stdout",
     "output_type": "stream",
     "text": [
      "1684951882224\n",
      "global value [ a_var inside a_func() ]\n",
      "global value [ a_var outside a_func() ]\n",
      "1684951883184\n"
     ]
    }
   ],
   "source": [
    "a_var = 'global value'\n",
    "def a_func():\n",
    "    a_var = 'global value'\n",
    "    print(id(a_var))\n",
    "    print (a_var, '[ a_var inside a_func() ]')\n",
    "a_func()\n",
    "print (a_var, '[ a_var outside a_func() ]')\n",
    "print(id(a_var))"
   ]
  },
  {
   "cell_type": "code",
   "execution_count": 61,
   "metadata": {},
   "outputs": [
    {
     "name": "stdout",
     "output_type": "stream",
     "text": [
      "global value [ a_var outside a_func() ]\n",
      "local value [ a_var inside a_func() ]\n",
      "local value [ a_var outside a_func() ]\n"
     ]
    }
   ],
   "source": [
    "a_var = 'global value'\n",
    "# a_var = 'local value'\n",
    "def a_func():\n",
    "\tglobal a_var\n",
    "\ta_var = 'local value'\n",
    "\tprint(a_var, '[ a_var inside a_func() ]')\n",
    "print (a_var, '[ a_var outside a_func() ]')\n",
    "a_func()\n",
    "print(a_var, '[ a_var outside a_func() ]')"
   ]
  },
  {
   "cell_type": "code",
   "execution_count": 62,
   "metadata": {},
   "outputs": [
    {
     "name": "stdout",
     "output_type": "stream",
     "text": [
      "1 [ a_var outside a_func() ]\n",
      "2 [ a_var inside a_func() ]\n",
      "2 [ a_var outside a_func() ]\n"
     ]
    }
   ],
   "source": [
    "a_var = 1\n",
    "def a_func():\n",
    "\tglobal a_var\n",
    "\ta_var = a_var + 1\n",
    "\tprint (a_var, '[ a_var inside a_func() ]')\n",
    "print (a_var, '[ a_var outside a_func() ]')\n",
    "a_func()\n",
    "print (a_var, '[ a_var outside a_func() ]')"
   ]
  },
  {
   "cell_type": "code",
   "execution_count": 63,
   "metadata": {},
   "outputs": [
    {
     "name": "stdout",
     "output_type": "stream",
     "text": [
      "enclosed value\n",
      "local value\n",
      "local value\n"
     ]
    }
   ],
   "source": [
    "a_var = 'global value'\n",
    "def outer():\n",
    "    a_var = 'enclosed value'\n",
    "    print (a_var)\n",
    "    def inner():\n",
    "        global a_var\n",
    "        a_var = 'local value'\n",
    "        print(a_var)\n",
    "    inner()\n",
    "outer()\n",
    "print (a_var)"
   ]
  },
  {
   "cell_type": "code",
   "execution_count": 64,
   "metadata": {},
   "outputs": [
    {
     "name": "stdout",
     "output_type": "stream",
     "text": [
      "3.141592653589793\n",
      "#434\n",
      "outer before: local value\n",
      "in inner(): inner value\n",
      "outer after: local value\n",
      "global: global value\n",
      "#435\n"
     ]
    }
   ],
   "source": [
    "from math import pi\n",
    "a_var = 'global value'\n",
    "def outer():\n",
    "       a_var = 'local value'\n",
    "       pi=\"#434\"\n",
    "       print (pi)\n",
    "       print('outer before:', a_var)\n",
    "       def inner():\n",
    "           a_var = 'inner value'\n",
    "           print('in inner():', a_var)\n",
    "       inner()\n",
    "       print(\"outer after:\", a_var)\n",
    "print (pi)\n",
    "outer()\n",
    "print(\"global:\", a_var)\n",
    "pi=\"#435\"\n",
    "print (pi)"
   ]
  },
  {
   "cell_type": "markdown",
   "metadata": {},
   "source": [
    "## Assignment"
   ]
  },
  {
   "cell_type": "raw",
   "metadata": {},
   "source": [
    "Convert all previous assignment in to function form..... only one assignment"
   ]
  },
  {
   "cell_type": "code",
   "execution_count": null,
   "metadata": {},
   "outputs": [],
   "source": []
  }
 ],
 "metadata": {
  "kernelspec": {
   "display_name": "Python 2",
   "language": "python",
   "name": "python2"
  },
  "language_info": {
   "codemirror_mode": {
    "name": "ipython",
    "version": 2
   },
   "file_extension": ".py",
   "mimetype": "text/x-python",
   "name": "python",
   "nbconvert_exporter": "python",
   "pygments_lexer": "ipython2",
   "version": "2.7.16"
  }
 },
 "nbformat": 4,
 "nbformat_minor": 2
}
