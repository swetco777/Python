{
 "cells": [
  {
   "cell_type": "markdown",
   "metadata": {},
   "source": [
    "# Functions\n"
   ]
  },
  {
   "cell_type": "markdown",
   "metadata": {},
   "source": [
    "### A piece of code which can be resued.\n",
    "Introduction to Functions\n",
    "\n",
    "What is a function in Python and how to create a function?\n",
    "\n",
    "Functions will be one of our main building blocks when we construct larger and larger amount of code to solve problems.\n",
    "\n",
    "So what is a function?\n",
    "\n",
    "A function groups a set of statements together to run the statements more than once. It allows us to specify parameters that can serve as inputs to the functions.\n",
    "\n",
    "Functions allow us to reuse the code instead of writing the code again and again. If you recall strings and lists, remember that len() function is used to find the length of a string. Since checking the length of a sequence is a common task, you would want to write a function that can do this repeatedly at command.\n",
    "\n",
    "Function is one of the most basic levels of reusing code in Python, and it will also allow us to start thinking of program design.\n",
    "\n"
   ]
  },
  {
   "cell_type": "code",
   "execution_count": null,
   "metadata": {},
   "outputs": [],
   "source": [
    "l=[3,4,5,6]\n",
    "x=l.pop ()\n",
    "print (x)\n",
    "dir(l)"
   ]
  },
  {
   "cell_type": "markdown",
   "metadata": {},
   "source": [
    "### def Statements\n",
    "\n",
    "Now, let us learn how to build a function and what is the syntax in Python.\n",
    "\n",
    "The syntax for def statements will be in the following form:"
   ]
  },
  {
   "cell_type": "code",
   "execution_count": null,
   "metadata": {},
   "outputs": [],
   "source": [
    "def subject():\n",
    "    print( \"python class\")\n",
    "    print (\"I Am learning python\")\n",
    "print (\"I am before function\")"
   ]
  },
  {
   "cell_type": "code",
   "execution_count": null,
   "metadata": {},
   "outputs": [],
   "source": [
    "def subject():\n",
    "    print( \"python class\")\n",
    "    print (\"I Am learning python\")\n",
    "\n",
    "print (\"I am before function\")\n",
    "subject()# function call\n",
    "print (\"I am after function\")"
   ]
  },
  {
   "cell_type": "code",
   "execution_count": null,
   "metadata": {},
   "outputs": [],
   "source": [
    "subject()"
   ]
  },
  {
   "cell_type": "code",
   "execution_count": null,
   "metadata": {},
   "outputs": [],
   "source": [
    "subject()\n",
    "subject()"
   ]
  },
  {
   "cell_type": "code",
   "execution_count": null,
   "metadata": {},
   "outputs": [],
   "source": [
    "def subject2():\n",
    "    print( \"Java class\")\n",
    "    print (\"I Am learning Java\")\n",
    "subject2()"
   ]
  },
  {
   "cell_type": "code",
   "execution_count": null,
   "metadata": {},
   "outputs": [],
   "source": [
    "def printsubject(name):\n",
    "    print (\" I am learning \" +name)"
   ]
  },
  {
   "cell_type": "code",
   "execution_count": null,
   "metadata": {},
   "outputs": [],
   "source": [
    "printsubject(\"datascience\")\n",
    "printsubject(\"java\")\n",
    "printsubject(\"JavaScript\")\n",
    "printsubject(\"scala\")"
   ]
  },
  {
   "cell_type": "code",
   "execution_count": null,
   "metadata": {},
   "outputs": [],
   "source": [
    "def printrevevrsesubject(name):\n",
    "\tprint (name[::-1])"
   ]
  },
  {
   "cell_type": "code",
   "execution_count": null,
   "metadata": {},
   "outputs": [],
   "source": [
    "printrevevrsesubject(\"python\")"
   ]
  },
  {
   "cell_type": "code",
   "execution_count": null,
   "metadata": {},
   "outputs": [],
   "source": [
    "printrevevrsesubject(\"javaScript\")"
   ]
  },
  {
   "cell_type": "code",
   "execution_count": null,
   "metadata": {},
   "outputs": [],
   "source": [
    "printrevevrsesubject(\"java\")"
   ]
  },
  {
   "cell_type": "code",
   "execution_count": null,
   "metadata": {},
   "outputs": [],
   "source": [
    "x=input(\"enter string \")\n",
    "printrevevrsesubject(x)"
   ]
  },
  {
   "cell_type": "code",
   "execution_count": null,
   "metadata": {},
   "outputs": [],
   "source": [
    "def detail(age,name):\n",
    "    print (age,name)"
   ]
  },
  {
   "cell_type": "code",
   "execution_count": null,
   "metadata": {},
   "outputs": [],
   "source": [
    "detail(\"richard\",20)"
   ]
  },
  {
   "cell_type": "code",
   "execution_count": null,
   "metadata": {},
   "outputs": [],
   "source": [
    "def increasesalary(salary):\n",
    "\tnewsalary=salary*1.10\n",
    "    \n",
    "\tprint (\"Revised salary \",newsalary)\n",
    "   "
   ]
  },
  {
   "cell_type": "code",
   "execution_count": null,
   "metadata": {},
   "outputs": [],
   "source": [
    "increasesalary(200)"
   ]
  },
  {
   "cell_type": "code",
   "execution_count": null,
   "metadata": {},
   "outputs": [],
   "source": [
    "newsalary=increasesalary(200)\n",
    "print (newsalary)\n",
    "bonus=2*newsalary/100\n",
    "print (\" Bonus is : \", bonus)"
   ]
  },
  {
   "cell_type": "code",
   "execution_count": null,
   "metadata": {},
   "outputs": [],
   "source": [
    "def increaseSalary(salary):\n",
    "    newsalary=salary+200\n",
    "    print (\"inside function:\",newsalary)\n",
    "    return newsalary"
   ]
  },
  {
   "cell_type": "code",
   "execution_count": null,
   "metadata": {},
   "outputs": [],
   "source": [
    "z=increaseSalary(100)\n",
    "# newsalary=increaseSalary(100)\n",
    "bonus=z*2/100\n",
    "print(\"After function: \",bonus)"
   ]
  },
  {
   "cell_type": "code",
   "execution_count": null,
   "metadata": {},
   "outputs": [],
   "source": [
    "def calculatearea(base,height):\n",
    "\tarea=base*height\n",
    "\tprint (\"inside the function area: \" ,area)\n",
    "\treturn area\n",
    "x=calculatearea(10,20)\n",
    "print (x)"
   ]
  },
  {
   "cell_type": "code",
   "execution_count": null,
   "metadata": {},
   "outputs": [],
   "source": [
    "x=calculatearea(50,20)\n",
    "print (x)"
   ]
  },
  {
   "cell_type": "code",
   "execution_count": null,
   "metadata": {},
   "outputs": [],
   "source": [
    "x=\"bvgnh12\"\n",
    "print(x.isalnum())"
   ]
  },
  {
   "cell_type": "markdown",
   "metadata": {},
   "source": [
    "### Default Argument"
   ]
  },
  {
   "cell_type": "markdown",
   "metadata": {},
   "source": [
    "Default Argument: Python allows to call a function by specifying minimum possible arguments. \n",
    "In such cases the function \n",
    "assigns a default value which does not have a matching argument in function call.\n",
    "Default values are specified when the function is declared.\n",
    "the compiler looks at the prototype to see how many arguments a function uses and alerts the program \n",
    "for possible default values\n",
    "Default values are specified from right--> to left in the arguments list \n"
   ]
  },
  {
   "cell_type": "code",
   "execution_count": null,
   "metadata": {},
   "outputs": [],
   "source": [
    "def calculatearea(base=50,height=100):\n",
    "\tarea=base*height/2\n",
    "\tprint(area)"
   ]
  },
  {
   "cell_type": "code",
   "execution_count": null,
   "metadata": {},
   "outputs": [],
   "source": [
    "calculatearea()"
   ]
  },
  {
   "cell_type": "code",
   "execution_count": null,
   "metadata": {},
   "outputs": [],
   "source": [
    "calculatearea(height=5)"
   ]
  },
  {
   "cell_type": "code",
   "execution_count": null,
   "metadata": {},
   "outputs": [],
   "source": [
    "calculatearea(4,5)"
   ]
  },
  {
   "cell_type": "code",
   "execution_count": null,
   "metadata": {},
   "outputs": [],
   "source": [
    "calculatearea(4)"
   ]
  },
  {
   "cell_type": "code",
   "execution_count": null,
   "metadata": {},
   "outputs": [],
   "source": [
    "calculatearea(base=5)"
   ]
  },
  {
   "cell_type": "code",
   "execution_count": null,
   "metadata": {},
   "outputs": [],
   "source": [
    "def defarg(name=\"Python\",age=20):\n",
    "\tprint (name,age)"
   ]
  },
  {
   "cell_type": "code",
   "execution_count": null,
   "metadata": {},
   "outputs": [],
   "source": [
    "defarg()"
   ]
  },
  {
   "cell_type": "code",
   "execution_count": null,
   "metadata": {},
   "outputs": [],
   "source": [
    "defarg(age=\"56\")"
   ]
  },
  {
   "cell_type": "code",
   "execution_count": null,
   "metadata": {},
   "outputs": [],
   "source": [
    "defarg(name=\"java\",age=200)"
   ]
  },
  {
   "cell_type": "code",
   "execution_count": null,
   "metadata": {},
   "outputs": [],
   "source": [
    "defarg(200,10)\n"
   ]
  },
  {
   "cell_type": "code",
   "execution_count": null,
   "metadata": {},
   "outputs": [],
   "source": [
    "defarg(200,\"java\")"
   ]
  },
  {
   "cell_type": "code",
   "execution_count": null,
   "metadata": {},
   "outputs": [],
   "source": [
    "def parrot(voltage, state='a stiff', action='voom', parrottype='Norwegian Blue'):\n",
    "    print (\"-- This parrot wouldn't\", action,)\n",
    "    print (\"--if you put\", voltage, \"volts through it.\")\n",
    "    print (\"-- Lovely plumage, the\", parrottype)\n",
    "    print (\"-- It's\", state, \"!\")"
   ]
  },
  {
   "cell_type": "code",
   "execution_count": null,
   "metadata": {},
   "outputs": [],
   "source": [
    "parrot('a thousand', state='pushing up the daisies')  # 1 positional, 1 keyword"
   ]
  },
  {
   "cell_type": "code",
   "execution_count": null,
   "metadata": {},
   "outputs": [],
   "source": [
    "parrot('a million', 'bereft of life', 'jump')         # 3 positional arguments"
   ]
  },
  {
   "cell_type": "code",
   "execution_count": null,
   "metadata": {},
   "outputs": [],
   "source": [
    "parrot(1000,\"wet\")# 1 positional argument"
   ]
  },
  {
   "cell_type": "code",
   "execution_count": null,
   "metadata": {},
   "outputs": [],
   "source": [
    "parrot(voltage=1000)                          # 1 keyword argument"
   ]
  },
  {
   "cell_type": "code",
   "execution_count": null,
   "metadata": {},
   "outputs": [],
   "source": [
    "parrot(voltage=1000000,action='VOOOOOM') #2 keyword arguments"
   ]
  },
  {
   "cell_type": "code",
   "execution_count": null,
   "metadata": {},
   "outputs": [],
   "source": [
    "parrot(action='VOOOOOM', voltage=1000000)             # 2 keyword arguments"
   ]
  },
  {
   "cell_type": "code",
   "execution_count": null,
   "metadata": {},
   "outputs": [],
   "source": [
    "parrot('a million', 'bereft of life', 'jump')         # 3 positional arguments"
   ]
  },
  {
   "cell_type": "code",
   "execution_count": null,
   "metadata": {},
   "outputs": [],
   "source": [
    "parrot('a thousand', state='pushing up the daisies')  # 1 positional, 1 keyword\n"
   ]
  },
  {
   "cell_type": "markdown",
   "metadata": {},
   "source": [
    "# UnPacking of data"
   ]
  },
  {
   "cell_type": "code",
   "execution_count": null,
   "metadata": {},
   "outputs": [],
   "source": []
  },
  {
   "cell_type": "code",
   "execution_count": null,
   "metadata": {},
   "outputs": [],
   "source": [
    "d={}\n",
    "type(d)"
   ]
  },
  {
   "cell_type": "code",
   "execution_count": null,
   "metadata": {},
   "outputs": [],
   "source": [
    "d ={}\n",
    "d['name']='Rakesh'\n",
    "d['age'] = 20\n",
    "d['subject']=\"java\"\n",
    "d[\"level\"]=\"beginner\"\n",
    "d[\"secondary\"]= \"python\"\n",
    "d"
   ]
  },
  {
   "cell_type": "code",
   "execution_count": null,
   "metadata": {},
   "outputs": [],
   "source": [
    "def varlength(mclass,name,age,subject,level,secondary):\n",
    "\tprint( name,mclass,age,subject,level)"
   ]
  },
  {
   "cell_type": "code",
   "execution_count": null,
   "metadata": {},
   "outputs": [],
   "source": [
    "varlength(\"school\",**d)"
   ]
  },
  {
   "cell_type": "code",
   "execution_count": null,
   "metadata": {},
   "outputs": [],
   "source": [
    "varlength(**d,\"school\")# dict shud b last parameter"
   ]
  },
  {
   "cell_type": "code",
   "execution_count": null,
   "metadata": {},
   "outputs": [],
   "source": [
    "varlength(**d, mclass=\"school\")"
   ]
  },
  {
   "cell_type": "code",
   "execution_count": null,
   "metadata": {},
   "outputs": [],
   "source": [
    "varlength(**d,\"school\")\n"
   ]
  },
  {
   "cell_type": "code",
   "execution_count": null,
   "metadata": {},
   "outputs": [],
   "source": [
    "def moreVarLen(x,y):\n",
    "\tprint (x,y)"
   ]
  },
  {
   "cell_type": "code",
   "execution_count": null,
   "metadata": {},
   "outputs": [],
   "source": [
    "d = ('abc','def')\n",
    "moreVarLen(*d)"
   ]
  },
  {
   "cell_type": "code",
   "execution_count": null,
   "metadata": {},
   "outputs": [],
   "source": [
    "def moreVarLen(x,y,z):\n",
    "\tprint (x,y,z)\n",
    "d = ['abc','def']\n",
    "moreVarLen(\"python\",*d)"
   ]
  },
  {
   "cell_type": "code",
   "execution_count": null,
   "metadata": {},
   "outputs": [],
   "source": [
    "d = ['abc','def']\n",
    "moreVarLen(\"java\",*d)"
   ]
  },
  {
   "cell_type": "code",
   "execution_count": null,
   "metadata": {},
   "outputs": [],
   "source": [
    "def moreVarLen(x,y,name,age):\n",
    "\tprint( \" %s, %s , %s , %d\" %(x,y,name,age))"
   ]
  },
  {
   "cell_type": "code",
   "execution_count": null,
   "metadata": {},
   "outputs": [],
   "source": [
    "d1 ={}\n",
    "d1['name']='Ashok'\n",
    "d1['age'] = 20\n",
    "l = ['abc','def']\n",
    "moreVarLen(*l,**d1)"
   ]
  },
  {
   "cell_type": "markdown",
   "metadata": {},
   "source": [
    "## Pakcing of Data"
   ]
  },
  {
   "cell_type": "code",
   "execution_count": null,
   "metadata": {},
   "outputs": [],
   "source": [
    "def revArgLen(**d):\n",
    "\tprint (d)"
   ]
  },
  {
   "cell_type": "code",
   "execution_count": null,
   "metadata": {},
   "outputs": [],
   "source": [
    "revArgLen(name='abc',age=20)"
   ]
  },
  {
   "cell_type": "markdown",
   "metadata": {},
   "source": [
    "## Packed data will be alwasy Tuple or dictionary"
   ]
  },
  {
   "cell_type": "code",
   "execution_count": null,
   "metadata": {},
   "outputs": [],
   "source": [
    "def revArgLen(*d):\n",
    "\tprint (d)\n",
    "\tprint (type(d))"
   ]
  },
  {
   "cell_type": "code",
   "execution_count": null,
   "metadata": {},
   "outputs": [],
   "source": [
    "revArgLen(234,4)"
   ]
  },
  {
   "cell_type": "markdown",
   "metadata": {},
   "source": [
    "## Namespace"
   ]
  },
  {
   "cell_type": "code",
   "execution_count": null,
   "metadata": {},
   "outputs": [],
   "source": [
    "a=5454\n",
    "def revArgLen(d):\n",
    "    a=d\n",
    "    print (d)\n",
    "    print (a)\n",
    "revArgLen(234) \n",
    "print(a)"
   ]
  },
  {
   "cell_type": "code",
   "execution_count": 1,
   "metadata": {},
   "outputs": [
    {
     "name": "stdout",
     "output_type": "stream",
     "text": [
      "python\n",
      "234\n",
      "python\n"
     ]
    }
   ],
   "source": [
    "a=\"python\"\n",
    "def revArgLen(d):\n",
    "    print (a)\n",
    "    print (d)\n",
    "revArgLen(234) \n",
    "print(a)"
   ]
  },
  {
   "cell_type": "code",
   "execution_count": 2,
   "metadata": {},
   "outputs": [
    {
     "name": "stdout",
     "output_type": "stream",
     "text": [
      "global variable [ a_var inside a_func() ]\n",
      "global variable [ a_var outside a_func() ]\n"
     ]
    }
   ],
   "source": [
    "a_var = 'global variable'\n",
    "def a_func():\n",
    "    print (a_var, '[ a_var inside a_func() ]')\n",
    "a_func()\n",
    "print (a_var, '[ a_var outside a_func() ]')"
   ]
  },
  {
   "cell_type": "code",
   "execution_count": 3,
   "metadata": {},
   "outputs": [
    {
     "name": "stdout",
     "output_type": "stream",
     "text": [
      "2328776357616\n",
      "global value [ a_var inside a_func() ]\n",
      "global value [ a_var outside a_func() ]\n",
      "2328776272368\n"
     ]
    }
   ],
   "source": [
    "a_var = 'global value'\n",
    "def a_func():\n",
    "    a_var = 'global value'\n",
    "    print(id(a_var))\n",
    "    print (a_var, '[ a_var inside a_func() ]')\n",
    "a_func()\n",
    "print (a_var, '[ a_var outside a_func() ]')\n",
    "print(id(a_var))"
   ]
  },
  {
   "cell_type": "code",
   "execution_count": 4,
   "metadata": {},
   "outputs": [
    {
     "name": "stdout",
     "output_type": "stream",
     "text": [
      "global value [ a_var outside a_func() ]\n",
      "local value [ a_var inside a_func() ]\n",
      "local value [ a_var outside a_func() ]\n"
     ]
    }
   ],
   "source": [
    "a_var = 'global value'\n",
    "# a_var = 'local value'\n",
    "def a_func():\n",
    "\tglobal a_var\n",
    "\ta_var = 'local value'\n",
    "\tprint(a_var, '[ a_var inside a_func() ]')\n",
    "print (a_var, '[ a_var outside a_func() ]')\n",
    "a_func()\n",
    "print(a_var, '[ a_var outside a_func() ]')"
   ]
  },
  {
   "cell_type": "code",
   "execution_count": 6,
   "metadata": {},
   "outputs": [
    {
     "name": "stdout",
     "output_type": "stream",
     "text": [
      "1 [ a_var outside a_func() ]\n",
      "2 [ a_var inside a_func() ]\n",
      "2 [ a_var outside a_func() ]\n"
     ]
    }
   ],
   "source": [
    "a_var = 1\n",
    "def a_func():\n",
    "\tglobal a_var\n",
    "\ta_var = a_var + 1\n",
    "\tprint (a_var, '[ a_var inside a_func() ]')\n",
    "print (a_var, '[ a_var outside a_func() ]')\n",
    "a_func()\n",
    "print (a_var, '[ a_var outside a_func() ]')"
   ]
  },
  {
   "cell_type": "code",
   "execution_count": 7,
   "metadata": {},
   "outputs": [
    {
     "name": "stdout",
     "output_type": "stream",
     "text": [
      "enclosed value\n",
      "local value\n",
      "local value\n"
     ]
    }
   ],
   "source": [
    "a_var = 'global value'\n",
    "def outer():\n",
    "    a_var = 'enclosed value'\n",
    "    print (a_var)\n",
    "    def inner():\n",
    "        global a_var\n",
    "        a_var = 'local value'\n",
    "        print(a_var)\n",
    "    inner()\n",
    "outer()\n",
    "print (a_var)"
   ]
  },
  {
   "cell_type": "code",
   "execution_count": null,
   "metadata": {},
   "outputs": [],
   "source": [
    "from math import pi\n",
    "a_var = 'global value'\n",
    "def outer():\n",
    "       a_var = 'local value'\n",
    "       #pi=\"#434\"\n",
    "       print (pi)\n",
    "       print('outer before:', a_var)\n",
    "       def inner():\n",
    "           a_var = 'inner value'\n",
    "           print('in inner():', a_var)\n",
    "       inner()\n",
    "       print(\"outer after:\", a_var)\n",
    "print (pi)\n",
    "outer()\n",
    "print(\"global:\", a_var)\n",
    "pi=\"#435\"\n",
    "print (pi)"
   ]
  },
  {
   "cell_type": "code",
   "execution_count": null,
   "metadata": {},
   "outputs": [],
   "source": []
  },
  {
   "cell_type": "markdown",
   "metadata": {},
   "source": [
    "## Assignment"
   ]
  },
  {
   "cell_type": "raw",
   "metadata": {},
   "source": [
    "Convert all previous assignment in to function form..... only one assignment"
   ]
  },
  {
   "cell_type": "code",
   "execution_count": null,
   "metadata": {},
   "outputs": [],
   "source": []
  }
 ],
 "metadata": {
  "kernelspec": {
   "display_name": "Python 3",
   "language": "python",
   "name": "python3"
  },
  "language_info": {
   "codemirror_mode": {
    "name": "ipython",
    "version": 3
   },
   "file_extension": ".py",
   "mimetype": "text/x-python",
   "name": "python",
   "nbconvert_exporter": "python",
   "pygments_lexer": "ipython3",
   "version": "3.7.3"
  }
 },
 "nbformat": 4,
 "nbformat_minor": 2
}
